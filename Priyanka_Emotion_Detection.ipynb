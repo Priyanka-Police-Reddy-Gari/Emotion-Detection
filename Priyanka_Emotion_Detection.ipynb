{
  "cells": [
    {
      "cell_type": "markdown",
      "metadata": {
        "id": "view-in-github",
        "colab_type": "text"
      },
      "source": [
        "<a href=\"https://colab.research.google.com/github/Priyanka-Police-Reddy-Gari/Emotion-Detection/blob/main/Priyanka_Emotion_Detection.ipynb\" target=\"_parent\"><img src=\"https://colab.research.google.com/assets/colab-badge.svg\" alt=\"Open In Colab\"/></a>"
      ]
    },
    {
      "cell_type": "code",
      "execution_count": null,
      "id": "9b5d8a51",
      "metadata": {
        "id": "9b5d8a51"
      },
      "outputs": [],
      "source": [
        "# !python -m pip install --upgrade pip"
      ]
    },
    {
      "cell_type": "code",
      "execution_count": null,
      "id": "10ae7304",
      "metadata": {
        "id": "10ae7304"
      },
      "outputs": [],
      "source": [
        "# !pip install torch transformers datasets evaluate wandb scikit-learn matplotlib seaborn joblib beautifulsoup4 spacy"
      ]
    },
    {
      "cell_type": "code",
      "execution_count": null,
      "id": "427ec637",
      "metadata": {
        "id": "427ec637"
      },
      "outputs": [],
      "source": [
        "# !python -m spacy download en_core_web_sm"
      ]
    },
    {
      "cell_type": "code",
      "execution_count": null,
      "id": "dfec6efd",
      "metadata": {
        "id": "dfec6efd"
      },
      "outputs": [],
      "source": [
        "import os\n",
        "os.environ['PYTORCH_ENABLE_MPS_FALLBACK'] = '1'"
      ]
    },
    {
      "cell_type": "markdown",
      "id": "86303448",
      "metadata": {
        "id": "86303448"
      },
      "source": [
        "### Step 1: Importing necessary libraries"
      ]
    },
    {
      "cell_type": "code",
      "execution_count": null,
      "id": "b1300ce5-1b87-42d2-be25-8a37b6518628",
      "metadata": {
        "id": "b1300ce5-1b87-42d2-be25-8a37b6518628",
        "outputId": "4b03dc24-0dbb-4448-a408-2f0eddde20b3"
      },
      "outputs": [
        {
          "name": "stderr",
          "output_type": "stream",
          "text": [
            "d:\\University\\NLP\\assignment 5\\.conda\\Lib\\site-packages\\tqdm\\auto.py:21: TqdmWarning: IProgress not found. Please update jupyter and ipywidgets. See https://ipywidgets.readthedocs.io/en/stable/user_install.html\n",
            "  from .autonotebook import tqdm as notebook_tqdm\n"
          ]
        }
      ],
      "source": [
        "# Importing PyTorch library for tensor computations and neural network modules\n",
        "import torch\n",
        "import torch.nn as nn\n",
        "import random\n",
        "import numpy as np\n",
        "import pandas as pd\n",
        "import joblib\n",
        "from collections import Counter\n",
        "\n",
        "# For creating lightweight attribute classes and for partial function application\n",
        "from functools import partial\n",
        "\n",
        "# For filesystem path handling, generating and displaying confusion matrices, and date-time manipulations\n",
        "from pathlib import Path\n",
        "from sklearn.metrics import confusion_matrix\n",
        "from datetime import datetime\n",
        "\n",
        "# For plotting and visualization\n",
        "import matplotlib.pyplot as plt\n",
        "import seaborn as sns\n",
        "# %matplotlib inline\n",
        "\n",
        "# imports from Huggingface ecosystem\n",
        "from transformers.modeling_outputs import SequenceClassifierOutput\n",
        "from transformers import PreTrainedModel, PretrainedConfig\n",
        "from transformers import TrainingArguments, Trainer\n",
        "from datasets import Dataset\n",
        "import evaluate\n",
        "\n",
        "# wandb library\n",
        "import wandb"
      ]
    },
    {
      "cell_type": "markdown",
      "id": "764d3903",
      "metadata": {
        "id": "764d3903"
      },
      "source": [
        "#### Setting up directory for the files"
      ]
    },
    {
      "cell_type": "code",
      "execution_count": null,
      "id": "546cf8fc-2468-48ba-9451-789c4ad0cf2a",
      "metadata": {
        "id": "546cf8fc-2468-48ba-9451-789c4ad0cf2a",
        "outputId": "6c3c8166-9148-4299-bbe2-a04c3a494229"
      },
      "outputs": [
        {
          "name": "stdout",
          "output_type": "stream",
          "text": [
            "Current working directory: d:\\University\\NLP\\assignment 5\n",
            "Model folder created: True\n",
            "Custom functions folder created: True\n"
          ]
        }
      ],
      "source": [
        "import os\n",
        "from pathlib import Path\n",
        "\n",
        "# Set the working directory to the given location\n",
        "os.chdir(r'D:\\University\\NLP\\assignment 5')\n",
        "\n",
        "# Verify the current working directory\n",
        "print(f\"Current working directory: {os.getcwd()}\")\n",
        "\n",
        "# Define the base path\n",
        "basepath = r'D:\\University\\NLP\\assignment 5'\n",
        "\n",
        "# Create the data folder, model folder, and custom functions folder\n",
        "data_folder = Path(basepath) / 'data_folder/'\n",
        "model_folder = Path(basepath) / 'sentiment' / 'nn'\n",
        "custom_functions = Path(basepath) / 'CustomFiles'\n",
        "\n",
        "# Create the necessary directories if they don't exist\n",
        "model_folder.mkdir(exist_ok=True, parents=True)\n",
        "custom_functions.mkdir(exist_ok=True, parents=True)\n",
        "\n",
        "# Verify that the folders are created\n",
        "print(f\"Model folder created: {model_folder.exists()}\")\n",
        "print(f\"Custom functions folder created: {custom_functions.exists()}\")"
      ]
    },
    {
      "cell_type": "markdown",
      "id": "2cdedca3-c83a-480f-aa49-421e8cbc2c8f",
      "metadata": {
        "id": "2cdedca3-c83a-480f-aa49-421e8cbc2c8f"
      },
      "source": [
        "### Step 2: Load Data and preprocessing"
      ]
    },
    {
      "cell_type": "code",
      "execution_count": null,
      "id": "ca103e6f-8845-4c02-a948-23a23b2fac2a",
      "metadata": {
        "id": "ca103e6f-8845-4c02-a948-23a23b2fac2a"
      },
      "outputs": [],
      "source": [
        "# Read in the Training and Testing Dataset\n",
        "\n",
        "train_df = pd.read_csv(data_folder/'train.csv')\n",
        "valid_df = pd.read_csv(data_folder/'test.csv')"
      ]
    },
    {
      "cell_type": "code",
      "execution_count": null,
      "id": "7624a4cf-1699-4a13-997d-cac17e3b26f9",
      "metadata": {
        "id": "7624a4cf-1699-4a13-997d-cac17e3b26f9",
        "outputId": "5c8c2a11-25ae-4408-a918-6723158a7dea"
      },
      "outputs": [
        {
          "data": {
            "text/html": [
              "<div>\n",
              "<style scoped>\n",
              "    .dataframe tbody tr th:only-of-type {\n",
              "        vertical-align: middle;\n",
              "    }\n",
              "\n",
              "    .dataframe tbody tr th {\n",
              "        vertical-align: top;\n",
              "    }\n",
              "\n",
              "    .dataframe thead th {\n",
              "        text-align: right;\n",
              "    }\n",
              "</style>\n",
              "<table border=\"1\" class=\"dataframe\">\n",
              "  <thead>\n",
              "    <tr style=\"text-align: right;\">\n",
              "      <th></th>\n",
              "      <th>ID</th>\n",
              "      <th>Tweet</th>\n",
              "      <th>anger</th>\n",
              "      <th>anticipation</th>\n",
              "      <th>disgust</th>\n",
              "      <th>fear</th>\n",
              "      <th>joy</th>\n",
              "      <th>love</th>\n",
              "      <th>optimism</th>\n",
              "      <th>pessimism</th>\n",
              "      <th>sadness</th>\n",
              "      <th>surprise</th>\n",
              "      <th>trust</th>\n",
              "    </tr>\n",
              "  </thead>\n",
              "  <tbody>\n",
              "    <tr>\n",
              "      <th>0</th>\n",
              "      <td>2017-21441</td>\n",
              "      <td>“Worry is a down payment on a problem you may ...</td>\n",
              "      <td>0</td>\n",
              "      <td>1</td>\n",
              "      <td>0</td>\n",
              "      <td>0</td>\n",
              "      <td>0</td>\n",
              "      <td>0</td>\n",
              "      <td>1</td>\n",
              "      <td>0</td>\n",
              "      <td>0</td>\n",
              "      <td>0</td>\n",
              "      <td>1</td>\n",
              "    </tr>\n",
              "    <tr>\n",
              "      <th>1</th>\n",
              "      <td>2017-31535</td>\n",
              "      <td>Whatever you decide to do make sure it makes y...</td>\n",
              "      <td>0</td>\n",
              "      <td>0</td>\n",
              "      <td>0</td>\n",
              "      <td>0</td>\n",
              "      <td>1</td>\n",
              "      <td>1</td>\n",
              "      <td>1</td>\n",
              "      <td>0</td>\n",
              "      <td>0</td>\n",
              "      <td>0</td>\n",
              "      <td>0</td>\n",
              "    </tr>\n",
              "    <tr>\n",
              "      <th>2</th>\n",
              "      <td>2017-21068</td>\n",
              "      <td>@Max_Kellerman  it also helps that the majorit...</td>\n",
              "      <td>1</td>\n",
              "      <td>0</td>\n",
              "      <td>1</td>\n",
              "      <td>0</td>\n",
              "      <td>1</td>\n",
              "      <td>0</td>\n",
              "      <td>1</td>\n",
              "      <td>0</td>\n",
              "      <td>0</td>\n",
              "      <td>0</td>\n",
              "      <td>0</td>\n",
              "    </tr>\n",
              "  </tbody>\n",
              "</table>\n",
              "</div>"
            ],
            "text/plain": [
              "           ID                                              Tweet  anger  \\\n",
              "0  2017-21441  “Worry is a down payment on a problem you may ...      0   \n",
              "1  2017-31535  Whatever you decide to do make sure it makes y...      0   \n",
              "2  2017-21068  @Max_Kellerman  it also helps that the majorit...      1   \n",
              "\n",
              "   anticipation  disgust  fear  joy  love  optimism  pessimism  sadness  \\\n",
              "0             1        0     0    0     0         1          0        0   \n",
              "1             0        0     0    1     1         1          0        0   \n",
              "2             0        1     0    1     0         1          0        0   \n",
              "\n",
              "   surprise  trust  \n",
              "0         0      1  \n",
              "1         0      0  \n",
              "2         0      0  "
            ]
          },
          "execution_count": 8,
          "metadata": {},
          "output_type": "execute_result"
        }
      ],
      "source": [
        "train_df.head(3)"
      ]
    },
    {
      "cell_type": "code",
      "execution_count": null,
      "id": "aae3c021-27d1-4a70-8c53-2a66d311252d",
      "metadata": {
        "id": "aae3c021-27d1-4a70-8c53-2a66d311252d",
        "outputId": "e9c6f041-a5d8-4d09-b6a2-01150f93a15a"
      },
      "outputs": [
        {
          "name": "stdout",
          "output_type": "stream",
          "text": [
            "'Whatever you decide to do make sure it makes you #happy.'\n",
            "('Making that yearly transition from excited and hopeful college returner to '\n",
            " 'sick and exhausted pessimist. #college')\n",
            "('@BigLepley @angela31694996 @TheIndigoArrow Want to start a biker gang '\n",
            " 'together when the GTA Online Biker DLC comes out?')\n"
          ]
        }
      ],
      "source": [
        "from pprint import pprint\n",
        "pprint(train_df['Tweet'].values[1], width=80)\n",
        "pprint(train_df['Tweet'].values[10], width=80)\n",
        "pprint(train_df['Tweet'].values[50], width=80)"
      ]
    },
    {
      "cell_type": "code",
      "execution_count": null,
      "id": "86c2afe4-c027-4a9d-beba-248bf11eb672",
      "metadata": {
        "id": "86c2afe4-c027-4a9d-beba-248bf11eb672",
        "outputId": "77a86c60-dd02-4055-f9ae-98fd87270eb4"
      },
      "outputs": [
        {
          "data": {
            "text/plain": [
              "(7724, 13)"
            ]
          },
          "execution_count": 10,
          "metadata": {},
          "output_type": "execute_result"
        }
      ],
      "source": [
        "train_df.shape"
      ]
    },
    {
      "cell_type": "code",
      "execution_count": null,
      "id": "37aa99cd-f8ba-4bea-9a80-277de6e0786e",
      "metadata": {
        "id": "37aa99cd-f8ba-4bea-9a80-277de6e0786e",
        "outputId": "668e0bd2-5fca-4e0c-87fd-1f2868abca2a"
      },
      "outputs": [
        {
          "data": {
            "text/plain": [
              "(3259, 13)"
            ]
          },
          "execution_count": 11,
          "metadata": {},
          "output_type": "execute_result"
        }
      ],
      "source": [
        "valid_df.shape"
      ]
    },
    {
      "cell_type": "markdown",
      "id": "7f11e8c3-64aa-44be-8127-9686352fd706",
      "metadata": {
        "id": "7f11e8c3-64aa-44be-8127-9686352fd706"
      },
      "source": [
        "#### Train Test Split"
      ]
    },
    {
      "cell_type": "code",
      "execution_count": null,
      "id": "ded5c403-1a02-46fa-ab7d-8199092288bc",
      "metadata": {
        "id": "ded5c403-1a02-46fa-ab7d-8199092288bc"
      },
      "outputs": [],
      "source": [
        "from sklearn.model_selection import train_test_split\n",
        "\n",
        "# Split train_df into train_set (80%) and test_set (20%)\n",
        "train_set, test_set = train_test_split(train_df, test_size=0.2, random_state=1)"
      ]
    },
    {
      "cell_type": "markdown",
      "id": "7719deda-bad5-465f-9470-9936ea41e4a7",
      "metadata": {
        "id": "7719deda-bad5-465f-9470-9936ea41e4a7"
      },
      "source": [
        "#### Data PreProcessing"
      ]
    },
    {
      "cell_type": "code",
      "execution_count": null,
      "id": "8cacd496-4907-4014-abcb-3eda3ba6a4bb",
      "metadata": {
        "id": "8cacd496-4907-4014-abcb-3eda3ba6a4bb"
      },
      "outputs": [],
      "source": [
        "# !python -m spacy download en_core_web_sm"
      ]
    },
    {
      "cell_type": "code",
      "execution_count": null,
      "id": "790a9b09-cad9-4540-8eb7-a163bd1ee05a",
      "metadata": {
        "id": "790a9b09-cad9-4540-8eb7-a163bd1ee05a"
      },
      "outputs": [],
      "source": [
        "# Load the model -en_core_web_sm\n",
        "import spacy\n",
        "\n",
        "nlp = spacy.load('en_core_web_sm')"
      ]
    },
    {
      "cell_type": "code",
      "execution_count": null,
      "id": "b9102e4d",
      "metadata": {
        "id": "b9102e4d"
      },
      "outputs": [],
      "source": [
        "#!pip install nltk"
      ]
    },
    {
      "cell_type": "code",
      "execution_count": null,
      "id": "630d835b-c366-4b72-a77a-b38d97379c54",
      "metadata": {
        "id": "630d835b-c366-4b72-a77a-b38d97379c54"
      },
      "outputs": [],
      "source": [
        "from sklearn.base import BaseEstimator, TransformerMixin\n",
        "from bs4 import BeautifulSoup\n",
        "import re\n",
        "import spacy\n",
        "import numpy as np\n",
        "from nltk.stem.porter import PorterStemmer\n",
        "import os\n",
        "\n",
        "class SpacyPreprocessor(BaseEstimator, TransformerMixin):\n",
        "\n",
        "    def __init__(self, model, *, batch_size=64, lemmatize=True, lower=True, remove_stop=True,\n",
        "                 remove_punct=True, remove_email=True, remove_url=True, remove_num=False, stemming=False,\n",
        "                 add_user_mention_prefix=False, remove_hashtag_prefix=False, basic_clean_only=False):\n",
        "        \"\"\"\n",
        "        Initialize the preprocessor with options for token processing.\n",
        "        - Set add_user_mention_prefix=False to remove @mentions.\n",
        "        - Set remove_hashtag_prefix=False to keep #hashtags.\n",
        "        \"\"\"\n",
        "        self.model = model\n",
        "        self.batch_size = batch_size\n",
        "        self.remove_stop = remove_stop\n",
        "        self.remove_punct = remove_punct\n",
        "        self.remove_num = remove_num\n",
        "        self.remove_url = remove_url\n",
        "        self.remove_email = remove_email\n",
        "        self.lower = lower\n",
        "        self.add_user_mention_prefix = add_user_mention_prefix\n",
        "        self.remove_hashtag_prefix = remove_hashtag_prefix\n",
        "        self.basic_clean_only = basic_clean_only\n",
        "\n",
        "        if lemmatize and stemming:\n",
        "            raise ValueError(\"Only one of 'lemmatize' and 'stemming' can be True.\")\n",
        "\n",
        "        # Validate basic_clean_only option\n",
        "        if self.basic_clean_only and (lemmatize or lower or remove_stop or remove_punct or remove_num or stemming or\n",
        "                                      add_user_mention_prefix or remove_hashtag_prefix):\n",
        "            raise ValueError(\"If 'basic_clean_only' is set to True, other processing options must be set to False.\")\n",
        "\n",
        "        # Assign lemmatize and stemming\n",
        "        self.lemmatize = lemmatize\n",
        "        self.stemming = stemming\n",
        "\n",
        "    def basic_clean(self, text):\n",
        "        # Check if the text looks like a file path and skip BeautifulSoup if it does\n",
        "        if os.path.isfile(text):\n",
        "            return text  # If it's a file path, return as is\n",
        "        # Otherwise, clean normally using BeautifulSoup\n",
        "        soup = BeautifulSoup(text, \"html.parser\")\n",
        "        text = soup.get_text()  # Extract text without markup\n",
        "        text = re.sub(r'[\\n\\r]', ' ', text)  # Remove newline characters\n",
        "        return text.strip()\n",
        "\n",
        "    def get_cores(self):\n",
        "        \"\"\"\n",
        "        Get the number of CPU cores to use in parallel processing.\n",
        "        \"\"\"\n",
        "        num_cores = os.cpu_count()\n",
        "        if num_cores < 3:\n",
        "            use_cores = 1\n",
        "        else:\n",
        "            use_cores = num_cores // 2 + 1\n",
        "        return use_cores\n",
        "\n",
        "    def spacy_preprocessor(self, texts):\n",
        "        final_result = []\n",
        "        nlp = spacy.load(self.model)\n",
        "\n",
        "        # Disable unnecessary pipelines in spaCy model\n",
        "        if self.lemmatize:\n",
        "            disabled_pipes = ['parser', 'ner']\n",
        "        else:\n",
        "            disabled_pipes = ['tok2vec', 'tagger', 'parser', 'attribute_ruler', 'lemmatizer', 'ner']\n",
        "\n",
        "        with nlp.select_pipes(disable=disabled_pipes):\n",
        "            # Modify tokenizer behavior based on hashtag settings\n",
        "            if self.remove_hashtag_prefix:\n",
        "                prefixes = list(nlp.Defaults.prefixes)\n",
        "                prefixes.remove(r'#')  # Keep the hashtag symbol as part of the token\n",
        "                prefix_regex = spacy.util.compile_prefix_regex(prefixes)\n",
        "                nlp.tokenizer.prefix_search = prefix_regex.search\n",
        "\n",
        "            # Process text data in parallel using spaCy's nlp.pipe()\n",
        "            for doc in nlp.pipe(texts, batch_size=self.batch_size, n_process=self.get_cores()):\n",
        "                filtered_tokens = []\n",
        "                for token in doc:\n",
        "                    # Check if token should be removed based on specified filters\n",
        "                    if self.remove_stop and token.is_stop:\n",
        "                        continue\n",
        "                    if self.remove_punct and token.is_punct:\n",
        "                        continue\n",
        "                    if self.remove_num and token.like_num:\n",
        "                        continue\n",
        "                    if self.remove_url and token.like_url:\n",
        "                        continue\n",
        "                    if self.remove_email and token.like_email:\n",
        "                        continue\n",
        "                    if token.text.startswith('@'):  # Remove @mentions\n",
        "                        continue\n",
        "\n",
        "                    # Append the token's text, lemma, or stemmed form to the filtered_tokens list\n",
        "                    if self.lemmatize:\n",
        "                        filtered_tokens.append(token.lemma_)\n",
        "                    elif self.stemming:\n",
        "                        filtered_tokens.append(PorterStemmer().stem(token.text))\n",
        "                    else:\n",
        "                        filtered_tokens.append(token.text)\n",
        "\n",
        "                # Join the tokens and apply lowercasing if specified\n",
        "                text = ' '.join(filtered_tokens)\n",
        "                if self.lower:\n",
        "                    text = text.lower()\n",
        "                final_result.append(text.strip())\n",
        "\n",
        "        return final_result\n",
        "\n",
        "    def fit(self, X, y=None):\n",
        "        return self\n",
        "\n",
        "    def transform(self, X, y=None):\n",
        "        try:\n",
        "            if not isinstance(X, (list, np.ndarray)):\n",
        "                raise TypeError(f'Expected list or numpy array, got {type(X)}')\n",
        "\n",
        "            x_clean = [self.basic_clean(text).encode('utf-8', 'ignore').decode() for text in X]\n",
        "\n",
        "            # Check if only basic cleaning is required\n",
        "            if self.basic_clean_only:\n",
        "                return x_clean  # Return the list of basic-cleaned texts\n",
        "\n",
        "            x_clean_final = self.spacy_preprocessor(x_clean)\n",
        "            return x_clean_final\n",
        "\n",
        "        except Exception as error:\n",
        "            print(f'An exception occurred: {repr(error)}')\n"
      ]
    },
    {
      "cell_type": "markdown",
      "id": "be15bb48",
      "metadata": {
        "id": "be15bb48"
      },
      "source": [
        "#### Modifying spacy to remove @ and keep # as they might add value to the emotions in tweets"
      ]
    },
    {
      "cell_type": "code",
      "execution_count": null,
      "id": "a42e9c60-4774-45da-8974-ba6f3db13a39",
      "metadata": {
        "id": "a42e9c60-4774-45da-8974-ba6f3db13a39"
      },
      "outputs": [],
      "source": [
        "# Initialize the SpacyPreprocessor. We are going to remove @ and keep the #\n",
        "preprocessor = SpacyPreprocessor(\n",
        "    model='en_core_web_sm',\n",
        "    lemmatize=True,\n",
        "    lower=True,\n",
        "    remove_stop=True,\n",
        "    remove_punct=True,\n",
        "    remove_email=True,\n",
        "    remove_url=True,\n",
        "    remove_num=False,\n",
        "    stemming=False,\n",
        "    add_user_mention_prefix=False,  # Remove @mentions\n",
        "    remove_hashtag_prefix=False     # Keep #hashtags\n",
        ")"
      ]
    },
    {
      "cell_type": "code",
      "execution_count": null,
      "id": "9e5c64af-eab8-4331-9ad3-93ad970ee93a",
      "metadata": {
        "id": "9e5c64af-eab8-4331-9ad3-93ad970ee93a",
        "outputId": "847acdc8-9a7c-422e-9eda-b7b1042b847c"
      },
      "outputs": [
        {
          "name": "stderr",
          "output_type": "stream",
          "text": [
            "C:\\Users\\shobh\\AppData\\Local\\Temp\\ipykernel_11160\\3860166522.py:48: MarkupResemblesLocatorWarning: The input looks more like a filename than markup. You may want to open this file and pass the filehandle into Beautiful Soup.\n",
            "  soup = BeautifulSoup(text, \"html.parser\")\n"
          ]
        }
      ],
      "source": [
        "# Apply preprocessing to the train_set (fit and transform)\n",
        "train_set['Cleaned_Reviews'] = preprocessor.fit_transform(train_set['Tweet'].values)"
      ]
    },
    {
      "cell_type": "code",
      "execution_count": null,
      "id": "de27eca2-a0f5-44b0-aebb-29fbc16b2ee8",
      "metadata": {
        "id": "de27eca2-a0f5-44b0-aebb-29fbc16b2ee8",
        "outputId": "551f0c64-b81b-410e-c345-20fb0f798826"
      },
      "outputs": [
        {
          "data": {
            "text/html": [
              "<div>\n",
              "<style scoped>\n",
              "    .dataframe tbody tr th:only-of-type {\n",
              "        vertical-align: middle;\n",
              "    }\n",
              "\n",
              "    .dataframe tbody tr th {\n",
              "        vertical-align: top;\n",
              "    }\n",
              "\n",
              "    .dataframe thead th {\n",
              "        text-align: right;\n",
              "    }\n",
              "</style>\n",
              "<table border=\"1\" class=\"dataframe\">\n",
              "  <thead>\n",
              "    <tr style=\"text-align: right;\">\n",
              "      <th></th>\n",
              "      <th>ID</th>\n",
              "      <th>Tweet</th>\n",
              "      <th>anger</th>\n",
              "      <th>anticipation</th>\n",
              "      <th>disgust</th>\n",
              "      <th>fear</th>\n",
              "      <th>joy</th>\n",
              "      <th>love</th>\n",
              "      <th>optimism</th>\n",
              "      <th>pessimism</th>\n",
              "      <th>sadness</th>\n",
              "      <th>surprise</th>\n",
              "      <th>trust</th>\n",
              "      <th>Cleaned_Reviews</th>\n",
              "    </tr>\n",
              "  </thead>\n",
              "  <tbody>\n",
              "    <tr>\n",
              "      <th>3916</th>\n",
              "      <td>2017-41313</td>\n",
              "      <td>@chrislhayes It's hard for most folks to reali...</td>\n",
              "      <td>1</td>\n",
              "      <td>0</td>\n",
              "      <td>1</td>\n",
              "      <td>0</td>\n",
              "      <td>0</td>\n",
              "      <td>0</td>\n",
              "      <td>0</td>\n",
              "      <td>0</td>\n",
              "      <td>0</td>\n",
              "      <td>0</td>\n",
              "      <td>0</td>\n",
              "      <td>hard folk realize deep hatred dive murky end p...</td>\n",
              "    </tr>\n",
              "    <tr>\n",
              "      <th>3696</th>\n",
              "      <td>2017-30339</td>\n",
              "      <td>@PersephoneOD Her cheerful voice echoed throug...</td>\n",
              "      <td>0</td>\n",
              "      <td>0</td>\n",
              "      <td>0</td>\n",
              "      <td>0</td>\n",
              "      <td>1</td>\n",
              "      <td>1</td>\n",
              "      <td>1</td>\n",
              "      <td>0</td>\n",
              "      <td>0</td>\n",
              "      <td>0</td>\n",
              "      <td>0</td>\n",
              "      <td>cheerful voice echo grand familiar home smile ...</td>\n",
              "    </tr>\n",
              "    <tr>\n",
              "      <th>4067</th>\n",
              "      <td>2017-10126</td>\n",
              "      <td>@brian5or6 turn that shit off!   Home Button u...</td>\n",
              "      <td>1</td>\n",
              "      <td>0</td>\n",
              "      <td>1</td>\n",
              "      <td>0</td>\n",
              "      <td>0</td>\n",
              "      <td>0</td>\n",
              "      <td>0</td>\n",
              "      <td>0</td>\n",
              "      <td>0</td>\n",
              "      <td>0</td>\n",
              "      <td>0</td>\n",
              "      <td>turn shit    home button accessibility \\n\\nwhe...</td>\n",
              "    </tr>\n",
              "    <tr>\n",
              "      <th>3665</th>\n",
              "      <td>2017-21523</td>\n",
              "      <td>#smackdev #ptp #start oh yeah!</td>\n",
              "      <td>0</td>\n",
              "      <td>0</td>\n",
              "      <td>0</td>\n",
              "      <td>0</td>\n",
              "      <td>1</td>\n",
              "      <td>0</td>\n",
              "      <td>1</td>\n",
              "      <td>0</td>\n",
              "      <td>0</td>\n",
              "      <td>0</td>\n",
              "      <td>0</td>\n",
              "      <td>smackdev ptp start oh yeah</td>\n",
              "    </tr>\n",
              "    <tr>\n",
              "      <th>7626</th>\n",
              "      <td>2018-02014</td>\n",
              "      <td>It could be soul-crushing despair, but it also...</td>\n",
              "      <td>0</td>\n",
              "      <td>0</td>\n",
              "      <td>0</td>\n",
              "      <td>0</td>\n",
              "      <td>0</td>\n",
              "      <td>0</td>\n",
              "      <td>0</td>\n",
              "      <td>0</td>\n",
              "      <td>1</td>\n",
              "      <td>0</td>\n",
              "      <td>0</td>\n",
              "      <td>soul crush despair marshmallow breakfast</td>\n",
              "    </tr>\n",
              "  </tbody>\n",
              "</table>\n",
              "</div>"
            ],
            "text/plain": [
              "              ID                                              Tweet  anger  \\\n",
              "3916  2017-41313  @chrislhayes It's hard for most folks to reali...      1   \n",
              "3696  2017-30339  @PersephoneOD Her cheerful voice echoed throug...      0   \n",
              "4067  2017-10126  @brian5or6 turn that shit off!   Home Button u...      1   \n",
              "3665  2017-21523                     #smackdev #ptp #start oh yeah!      0   \n",
              "7626  2018-02014  It could be soul-crushing despair, but it also...      0   \n",
              "\n",
              "      anticipation  disgust  fear  joy  love  optimism  pessimism  sadness  \\\n",
              "3916             0        1     0    0     0         0          0        0   \n",
              "3696             0        0     0    1     1         1          0        0   \n",
              "4067             0        1     0    0     0         0          0        0   \n",
              "3665             0        0     0    1     0         1          0        0   \n",
              "7626             0        0     0    0     0         0          0        1   \n",
              "\n",
              "      surprise  trust                                    Cleaned_Reviews  \n",
              "3916         0      0  hard folk realize deep hatred dive murky end p...  \n",
              "3696         0      0  cheerful voice echo grand familiar home smile ...  \n",
              "4067         0      0  turn shit    home button accessibility \\n\\nwhe...  \n",
              "3665         0      0                         smackdev ptp start oh yeah  \n",
              "7626         0      0           soul crush despair marshmallow breakfast  "
            ]
          },
          "execution_count": 19,
          "metadata": {},
          "output_type": "execute_result"
        }
      ],
      "source": [
        "train_set.head()"
      ]
    },
    {
      "cell_type": "code",
      "execution_count": null,
      "id": "86d87b27-e5e6-4f13-a02f-c25085cf358d",
      "metadata": {
        "id": "86d87b27-e5e6-4f13-a02f-c25085cf358d",
        "outputId": "1066743a-39e1-45b5-cda7-d737408470d5"
      },
      "outputs": [
        {
          "name": "stdout",
          "output_type": "stream",
          "text": [
            "('Very long day. Thank goodness for Bake Off to brighten up a weary Wednesday '\n",
            " '☺ #GBBO')\n"
          ]
        }
      ],
      "source": [
        "pprint(train_set['Tweet'].values[100], width=80)"
      ]
    },
    {
      "cell_type": "code",
      "execution_count": null,
      "id": "b647dbd5-08dd-4a1d-a776-72be6e4173f8",
      "metadata": {
        "id": "b647dbd5-08dd-4a1d-a776-72be6e4173f8",
        "outputId": "9983c459-af35-4f77-fb6a-680fcbdb4755"
      },
      "outputs": [
        {
          "name": "stdout",
          "output_type": "stream",
          "text": [
            "'long day thank goodness bake brighten weary wednesday ☺ gbbo'\n"
          ]
        }
      ],
      "source": [
        "pprint(train_set['Cleaned_Reviews'].values[100], width=80)"
      ]
    },
    {
      "cell_type": "code",
      "execution_count": null,
      "id": "9b9f2d81-f791-45e9-b893-be4f6168be67",
      "metadata": {
        "id": "9b9f2d81-f791-45e9-b893-be4f6168be67",
        "outputId": "ba0c96f7-f76f-42f4-aa9b-bf84ce05c9bd"
      },
      "outputs": [
        {
          "name": "stderr",
          "output_type": "stream",
          "text": [
            "C:\\Users\\shobh\\AppData\\Local\\Temp\\ipykernel_11160\\3860166522.py:48: MarkupResemblesLocatorWarning: The input looks more like a filename than markup. You may want to open this file and pass the filehandle into Beautiful Soup.\n",
            "  soup = BeautifulSoup(text, \"html.parser\")\n",
            "C:\\Users\\shobh\\AppData\\Local\\Temp\\ipykernel_11160\\3860166522.py:48: MarkupResemblesLocatorWarning: The input looks more like a filename than markup. You may want to open this file and pass the filehandle into Beautiful Soup.\n",
            "  soup = BeautifulSoup(text, \"html.parser\")\n"
          ]
        }
      ],
      "source": [
        "# Apply preprocessing to the test_set and validation_df (transform only)\n",
        "test_set['Cleaned_Reviews'] = preprocessor.transform(test_set['Tweet'].values)\n",
        "valid_df['Cleaned_Reviews'] = preprocessor.transform(valid_df['Tweet'].values)"
      ]
    },
    {
      "cell_type": "code",
      "execution_count": null,
      "id": "b0f086c6-60ec-48a2-bf0d-430748fefed5",
      "metadata": {
        "id": "b0f086c6-60ec-48a2-bf0d-430748fefed5",
        "outputId": "d3aec81d-beab-48b6-a3d5-05b7d0bab0ef"
      },
      "outputs": [
        {
          "name": "stdout",
          "output_type": "stream",
          "text": [
            "'not worry indian army way dispatch terrorist hell'\n"
          ]
        }
      ],
      "source": [
        "pprint(valid_df['Cleaned_Reviews'].values[0], width=80)"
      ]
    },
    {
      "cell_type": "markdown",
      "id": "b9646e58-0def-4a93-8fd9-b94d3092ce49",
      "metadata": {
        "id": "b9646e58-0def-4a93-8fd9-b94d3092ce49"
      },
      "source": [
        "### Step 3: working with HuggingFace Dataset"
      ]
    },
    {
      "cell_type": "code",
      "execution_count": null,
      "id": "7e95c2bb-c242-4318-ad3f-8936a08fd192",
      "metadata": {
        "id": "7e95c2bb-c242-4318-ad3f-8936a08fd192"
      },
      "outputs": [],
      "source": [
        "import pandas as pd\n",
        "from datasets import Dataset\n",
        "\n",
        "def convert_to_hf_dataset(df, text_column='Cleaned_Reviews', label_columns=None):\n",
        "    \"\"\"\n",
        "    Converts a pandas DataFrame to a Hugging Face Dataset for multi-label classification.\n",
        "\n",
        "    Args:\n",
        "    df (pd.DataFrame): The input pandas DataFrame.\n",
        "    text_column (str): The name of the column containing the text data (default is 'Cleaned_Reviews').\n",
        "    label_columns (list): List of column names that contain the sentiment labels.\n",
        "\n",
        "    Returns:\n",
        "    hf_dataset (datasets.Dataset): A Hugging Face Dataset ready for multi-label classification.\n",
        "    \"\"\"\n",
        "    # Ensure label_columns is provided\n",
        "    if label_columns is None:\n",
        "        raise ValueError(\"label_columns must be a list of the sentiment label columns.\")\n",
        "\n",
        "    # Remove unnecessary columns (in case 'ID' or 'Tweet' exist)\n",
        "    # Keeping only the text_column and the label_columns\n",
        "    df = df[[text_column] + label_columns]\n",
        "\n",
        "    # Ensure labels are cast to integers\n",
        "    df[label_columns] = df[label_columns].astype(int)\n",
        "\n",
        "    # Convert DataFrame to Hugging Face Dataset\n",
        "    hf_dataset = Dataset.from_pandas(df)\n",
        "\n",
        "    # Define a preprocessing function to convert label columns to a list of labels\n",
        "    def preprocess_data(examples):\n",
        "        # Create a 'labels' list from the label columns for multi-label classification\n",
        "        examples['labels'] = [examples[col] for col in label_columns]\n",
        "        return examples\n",
        "\n",
        "    # Apply preprocessing to create the 'labels' column\n",
        "    hf_dataset = hf_dataset.map(preprocess_data)\n",
        "\n",
        "    # Remove the individual sentiment label columns to avoid duplication\n",
        "    hf_dataset = hf_dataset.remove_columns(label_columns)\n",
        "\n",
        "    return hf_dataset\n"
      ]
    },
    {
      "cell_type": "code",
      "execution_count": null,
      "id": "67a21543-a2e5-4c6f-9077-848d88cbe7b9",
      "metadata": {
        "id": "67a21543-a2e5-4c6f-9077-848d88cbe7b9",
        "outputId": "4630ac5d-0aca-4179-a7ac-9a90a5636ef6"
      },
      "outputs": [
        {
          "data": {
            "text/plain": [
              "Index(['ID', 'Tweet', 'anger', 'anticipation', 'disgust', 'fear', 'joy',\n",
              "       'love', 'optimism', 'pessimism', 'sadness', 'surprise', 'trust',\n",
              "       'Cleaned_Reviews'],\n",
              "      dtype='object')"
            ]
          },
          "execution_count": 25,
          "metadata": {},
          "output_type": "execute_result"
        }
      ],
      "source": [
        "train_set.columns"
      ]
    },
    {
      "cell_type": "code",
      "execution_count": null,
      "id": "69d2e3f0-b707-40d5-a8e7-c736af2a4c21",
      "metadata": {
        "id": "69d2e3f0-b707-40d5-a8e7-c736af2a4c21",
        "outputId": "527597a0-e3af-4d30-a95a-3c1ac956cab8"
      },
      "outputs": [
        {
          "name": "stderr",
          "output_type": "stream",
          "text": [
            "C:\\Users\\shobh\\AppData\\Local\\Temp\\ipykernel_11160\\1091016352.py:25: SettingWithCopyWarning: \n",
            "A value is trying to be set on a copy of a slice from a DataFrame.\n",
            "Try using .loc[row_indexer,col_indexer] = value instead\n",
            "\n",
            "See the caveats in the documentation: https://pandas.pydata.org/pandas-docs/stable/user_guide/indexing.html#returning-a-view-versus-a-copy\n",
            "  df[label_columns] = df[label_columns].astype(int)\n",
            "Map: 100%|██████████| 6179/6179 [00:01<00:00, 4538.74 examples/s]\n",
            "C:\\Users\\shobh\\AppData\\Local\\Temp\\ipykernel_11160\\1091016352.py:25: SettingWithCopyWarning: \n",
            "A value is trying to be set on a copy of a slice from a DataFrame.\n",
            "Try using .loc[row_indexer,col_indexer] = value instead\n",
            "\n",
            "See the caveats in the documentation: https://pandas.pydata.org/pandas-docs/stable/user_guide/indexing.html#returning-a-view-versus-a-copy\n",
            "  df[label_columns] = df[label_columns].astype(int)\n",
            "Map: 100%|██████████| 1545/1545 [00:00<00:00, 4569.24 examples/s]\n"
          ]
        }
      ],
      "source": [
        "# Defining the label columns (the multi-label sentiment categories)\n",
        "label_columns = ['anger', 'anticipation', 'disgust', 'fear', 'joy', 'love',\n",
        "                 'optimism', 'pessimism', 'sadness', 'surprise', 'trust']\n",
        "\n",
        "\n",
        "# Convert train_set DataFrame to a Hugging Face Dataset\n",
        "hf_train_set = convert_to_hf_dataset(train_set,\n",
        "                                   text_column='Cleaned_Reviews',\n",
        "                                   label_columns=label_columns)\n",
        "\n",
        "\n",
        "# Convert Test_set DataFrame to a Hugging Face Dataset\n",
        "hf_test_set = convert_to_hf_dataset(test_set,\n",
        "                                    text_column='Cleaned_Reviews',\n",
        "                                    label_columns=label_columns)"
      ]
    },
    {
      "cell_type": "code",
      "execution_count": null,
      "id": "9f650e2a-7b3f-4df9-ae8a-601bcb1086a8",
      "metadata": {
        "id": "9f650e2a-7b3f-4df9-ae8a-601bcb1086a8",
        "outputId": "7f4ad89a-37e4-4bad-b272-fbad6ac73fec"
      },
      "outputs": [
        {
          "name": "stdout",
          "output_type": "stream",
          "text": [
            "{'Cleaned_Reviews': 'hard folk realize deep hatred dive murky end pool guy nuts', '__index_level_0__': 3916, 'labels': [1, 0, 1, 0, 0, 0, 0, 0, 0, 0, 0]}\n"
          ]
        }
      ],
      "source": [
        "print(hf_train_set[0])"
      ]
    },
    {
      "cell_type": "code",
      "execution_count": null,
      "id": "e1b1a93c-d316-416d-9334-c62f83ebb56b",
      "metadata": {
        "id": "e1b1a93c-d316-416d-9334-c62f83ebb56b",
        "outputId": "5e4b40b1-85bb-4d7d-e951-9fa69f3deb59"
      },
      "outputs": [
        {
          "data": {
            "text/plain": [
              "Dataset({\n",
              "    features: ['Cleaned_Reviews', '__index_level_0__', 'labels'],\n",
              "    num_rows: 6179\n",
              "})"
            ]
          },
          "execution_count": 28,
          "metadata": {},
          "output_type": "execute_result"
        }
      ],
      "source": [
        "hf_train_set"
      ]
    },
    {
      "cell_type": "code",
      "execution_count": null,
      "id": "94b45b9f-e1ba-473a-b8ec-59c9448ce8e5",
      "metadata": {
        "id": "94b45b9f-e1ba-473a-b8ec-59c9448ce8e5",
        "outputId": "90ade3c9-0f28-4072-8d40-b945b22134a3"
      },
      "outputs": [
        {
          "data": {
            "text/plain": [
              "Dataset({\n",
              "    features: ['Cleaned_Reviews', '__index_level_0__', 'labels'],\n",
              "    num_rows: 1545\n",
              "})"
            ]
          },
          "execution_count": 29,
          "metadata": {},
          "output_type": "execute_result"
        }
      ],
      "source": [
        "hf_test_set"
      ]
    },
    {
      "cell_type": "code",
      "execution_count": null,
      "id": "d36d02ff-bd70-4e8b-9408-e3a5f15e2aff",
      "metadata": {
        "id": "d36d02ff-bd70-4e8b-9408-e3a5f15e2aff",
        "outputId": "694e88d6-0233-4d7f-af92-88f57400dc9d"
      },
      "outputs": [
        {
          "data": {
            "text/plain": [
              "{'Cleaned_Reviews': Value(dtype='string', id=None),\n",
              " '__index_level_0__': Value(dtype='int64', id=None),\n",
              " 'labels': Sequence(feature=Value(dtype='int64', id=None), length=-1, id=None)}"
            ]
          },
          "execution_count": 30,
          "metadata": {},
          "output_type": "execute_result"
        }
      ],
      "source": [
        "hf_train_set.features"
      ]
    },
    {
      "cell_type": "code",
      "execution_count": null,
      "id": "adf570b0-49b0-4678-b1a0-fb6e58de35b4",
      "metadata": {
        "id": "adf570b0-49b0-4678-b1a0-fb6e58de35b4",
        "outputId": "923b850c-0e7e-48eb-f252-4d153604db2d"
      },
      "outputs": [
        {
          "data": {
            "text/plain": [
              "{'Cleaned_Reviews': Value(dtype='string', id=None),\n",
              " 'labels': Sequence(feature=Value(dtype='int64', id=None), length=-1, id=None)}"
            ]
          },
          "execution_count": 31,
          "metadata": {},
          "output_type": "execute_result"
        }
      ],
      "source": [
        "hf_train_set = hf_train_set.remove_columns(['__index_level_0__'])\n",
        "hf_train_set.features"
      ]
    },
    {
      "cell_type": "code",
      "execution_count": null,
      "id": "dfc6796c-4ce4-4903-8494-4354f1bc545a",
      "metadata": {
        "id": "dfc6796c-4ce4-4903-8494-4354f1bc545a",
        "outputId": "a80d9684-c011-4925-9472-307940af8fce"
      },
      "outputs": [
        {
          "data": {
            "text/plain": [
              "{'Cleaned_Reviews': Value(dtype='string', id=None),\n",
              " 'labels': Sequence(feature=Value(dtype='int64', id=None), length=-1, id=None)}"
            ]
          },
          "execution_count": 32,
          "metadata": {},
          "output_type": "execute_result"
        }
      ],
      "source": [
        "hf_test_set = hf_test_set.remove_columns(['__index_level_0__'])\n",
        "hf_test_set.features"
      ]
    },
    {
      "cell_type": "code",
      "execution_count": null,
      "id": "a06bef2b-1af1-4d63-8571-5e85db54d163",
      "metadata": {
        "id": "a06bef2b-1af1-4d63-8571-5e85db54d163",
        "outputId": "dc505641-dc57-4a97-b62f-2dadbeb2d70e"
      },
      "outputs": [
        {
          "data": {
            "text/plain": [
              "'hard folk realize deep hatred dive murky end pool guy nuts'"
            ]
          },
          "execution_count": 33,
          "metadata": {},
          "output_type": "execute_result"
        }
      ],
      "source": [
        "hf_train_set[0]['Cleaned_Reviews']"
      ]
    },
    {
      "cell_type": "code",
      "execution_count": null,
      "id": "d4f8e0e7-bd90-4d9b-aa18-36858f96295a",
      "metadata": {
        "id": "d4f8e0e7-bd90-4d9b-aa18-36858f96295a",
        "outputId": "6d4d24b4-8a51-4782-ae49-64eba09b2c44"
      },
      "outputs": [
        {
          "name": "stdout",
          "output_type": "stream",
          "text": [
            "{'Cleaned_Reviews': 'not worry indian army way dispatch terrorist hell'}\n"
          ]
        }
      ],
      "source": [
        "# Converting the Validation set to Hugging Face Dataset.\n",
        "# Only keep the 'Tweet' column (since we are predicting and don’t have labels)\n",
        "valid_df = valid_df[['Cleaned_Reviews']]\n",
        "\n",
        "# Convert the DataFrame to a Hugging Face Dataset\n",
        "hf_valid_dataset = Dataset.from_pandas(valid_df)\n",
        "\n",
        "# Check the dataset\n",
        "print(hf_valid_dataset[0])"
      ]
    },
    {
      "cell_type": "code",
      "execution_count": null,
      "id": "09f0c71e-8392-4fa5-837e-ad28aeaf2430",
      "metadata": {
        "id": "09f0c71e-8392-4fa5-837e-ad28aeaf2430",
        "outputId": "596990c0-4ad0-433f-df1f-c964bfc7855a"
      },
      "outputs": [
        {
          "name": "stdout",
          "output_type": "stream",
          "text": [
            "{'Cleaned_Reviews': 'long day thank goodness bake brighten weary wednesday ☺ gbbo', 'labels': [0, 1, 0, 0, 1, 0, 1, 0, 0, 0, 1]}\n",
            "{'Cleaned_Reviews': 'mom work discount riot f ticket $ 147/3 day sadden', 'labels': [0, 0, 1, 0, 0, 0, 0, 1, 1, 0, 0]}\n"
          ]
        }
      ],
      "source": [
        "print(hf_train_set[100])  # Check the structure of the first training sample\n",
        "print(hf_test_set[100])   # Check the structure of the first test sample\n",
        "\n"
      ]
    },
    {
      "cell_type": "markdown",
      "id": "31ef4124-2842-4d2b-a88b-afc5929db2a2",
      "metadata": {
        "id": "31ef4124-2842-4d2b-a88b-afc5929db2a2"
      },
      "source": [
        "### Step 4: Creating the Vocab"
      ]
    },
    {
      "cell_type": "code",
      "execution_count": null,
      "id": "af9b2386-1076-4bcf-8e0c-33b4b21e4e6a",
      "metadata": {
        "id": "af9b2386-1076-4bcf-8e0c-33b4b21e4e6a"
      },
      "outputs": [],
      "source": [
        "from collections import Counter, OrderedDict\n",
        "from typing import Dict, List, Optional, Union\n",
        "\n",
        "class Vocab:\n",
        "    def __init__(self, tokens: List[str]) -> None:\n",
        "        self.itos: List[str] = tokens  # List of tokens (indices to strings)\n",
        "        self.stoi: Dict[str, int] = {token: i for i, token in enumerate(tokens)}  # Map tokens to indices\n",
        "        self.default_index: Optional[int] = None  # Index for unknown tokens\n",
        "\n",
        "    def __getitem__(self, token: str) -> int:\n",
        "        # Return the index of the token, or the default index if it's unknown\n",
        "        if token in self.stoi:\n",
        "            return self.stoi[token]\n",
        "        if self.default_index is not None:\n",
        "            return self.default_index\n",
        "        raise RuntimeError(f\"Token '{token}' not found in vocab\")\n",
        "\n",
        "    def __len__(self) -> int:\n",
        "        return len(self.itos)\n",
        "\n",
        "    def insert_token(self, token: str, index: int) -> None:\n",
        "        # Insert token at a specific index in the vocab\n",
        "        if index < 0 or index > len(self.itos):\n",
        "            raise ValueError(\"Index out of range\")\n",
        "        if token in self.stoi:\n",
        "            old_index = self.stoi[token]\n",
        "            self.itos.pop(old_index)\n",
        "            self.itos.insert(index, token)\n",
        "        else:\n",
        "            self.itos.insert(index, token)\n",
        "        self.stoi = {token: i for i, token in enumerate(self.itos)}\n",
        "\n",
        "    def append_token(self, token: str) -> None:\n",
        "        # Append a token to the vocab\n",
        "        if token in self.stoi:\n",
        "            raise RuntimeError(f\"Token '{token}' already exists in the vocab\")\n",
        "        self.insert_token(token, len(self.itos))\n",
        "\n",
        "    def set_default_index(self, index: Optional[int]) -> None:\n",
        "        self.default_index = index\n",
        "\n",
        "    def get_default_index(self) -> Optional[int]:\n",
        "        return self.default_index\n",
        "\n",
        "    def lookup_token(self, index: int) -> str:\n",
        "        # Return the token given its index\n",
        "        if 0 <= index < len(self.itos):\n",
        "            return self.itos[index]\n",
        "        raise RuntimeError(f\"Index {index} out of range\")\n",
        "\n",
        "    def lookup_tokens(self, indices: List[int]) -> List[str]:\n",
        "        # Return a list of tokens given a list of indices\n",
        "        return [self.lookup_token(index) for index in indices]\n",
        "\n",
        "    def lookup_indices(self, tokens: List[str]) -> List[int]:\n",
        "        # Return a list of indices given a list of tokens\n",
        "        return [self[token] for token in tokens]\n",
        "\n",
        "    def get_stoi(self) -> Dict[str, int]:\n",
        "        return self.stoi.copy()\n",
        "\n",
        "    def get_itos(self) -> List[str]:\n",
        "        return self.itos.copy()\n",
        "\n",
        "    @classmethod\n",
        "    def vocab(cls, ordered_dict: Union[OrderedDict, Counter], min_freq: int = 1, specials: Optional[List[str]] = None, special_first: bool = True) -> 'Vocab':\n",
        "        specials = specials or []\n",
        "        for token in specials:\n",
        "            ordered_dict.pop(token, None)\n",
        "        tokens = [token for token, freq in ordered_dict.items() if freq >= min_freq]\n",
        "        if special_first:\n",
        "            tokens = specials + tokens\n",
        "        else:\n",
        "            tokens = tokens + specials\n",
        "        return cls(tokens)\n"
      ]
    },
    {
      "cell_type": "code",
      "execution_count": null,
      "id": "650a6bc4-281b-42e7-b1b4-ebe348abe72e",
      "metadata": {
        "id": "650a6bc4-281b-42e7-b1b4-ebe348abe72e"
      },
      "outputs": [],
      "source": [
        "# Function to create a vocabulary from the dataset\n",
        "def get_vocab(dataset, min_freq=1):\n",
        "    counter = Counter()\n",
        "\n",
        "    # Count frequencies of tokens in the dataset\n",
        "    for text in dataset['Cleaned_Reviews']:  # Assuming 'Cleaned_Reviews' is the preprocessed text column\n",
        "        counter.update(str(text).split())\n",
        "\n",
        "    # Create vocabulary using the Counter object\n",
        "    my_vocab = Vocab.vocab(counter, min_freq=min_freq)\n",
        "\n",
        "    # Insert the unknown token <unk> at index 0\n",
        "    my_vocab.insert_token('<unk>', 0)\n",
        "\n",
        "    # Set the default index to 0 (for unknown tokens)\n",
        "    my_vocab.set_default_index(0)\n",
        "\n",
        "    return my_vocab\n",
        "\n",
        "# Create the vocabulary using the trainset\n",
        "emotion_vocab = get_vocab(train_set, min_freq=2)\n"
      ]
    },
    {
      "cell_type": "markdown",
      "id": "91f15bfd-7069-46d3-acba-9fdb384ae976",
      "metadata": {
        "id": "91f15bfd-7069-46d3-acba-9fdb384ae976"
      },
      "source": [
        "### Step 5: Defining Custom Model and Model Config Class"
      ]
    },
    {
      "cell_type": "code",
      "execution_count": null,
      "id": "755512ff-9e51-464a-a1a3-4cdee76f9de7",
      "metadata": {
        "id": "755512ff-9e51-464a-a1a3-4cdee76f9de7"
      },
      "outputs": [],
      "source": [
        "from transformers import PretrainedConfig\n",
        "\n",
        "# CustomConfig class to define model-specific hyperparameters\n",
        "class CustomConfig(PretrainedConfig):\n",
        "    def __init__(self, vocab_size=0, embedding_dim=0, hidden_dim1=0, hidden_dim2=0, num_labels=2, **kwargs):\n",
        "        super().__init__()\n",
        "        self.vocab_size = vocab_size\n",
        "        self.embedding_dim = embedding_dim\n",
        "        self.hidden_dim1 = hidden_dim1\n",
        "        self.hidden_dim2 = hidden_dim2\n",
        "        self.num_labels = num_labels"
      ]
    },
    {
      "cell_type": "code",
      "execution_count": null,
      "id": "162971a8-c7e0-4567-be11-0acfc66fbf68",
      "metadata": {
        "id": "162971a8-c7e0-4567-be11-0acfc66fbf68"
      },
      "outputs": [],
      "source": [
        "import torch.nn as nn\n",
        "from transformers import PreTrainedModel\n",
        "from transformers.modeling_outputs import SequenceClassifierOutput\n",
        "\n",
        "# CustomMLP class for the multi-layer perceptron model\n",
        "class CustomMLP(PreTrainedModel):\n",
        "    config_class = CustomConfig\n",
        "\n",
        "    def __init__(self, config):\n",
        "        super().__init__(config)\n",
        "\n",
        "        # EmbeddingBag layer to handle text embeddings\n",
        "        self.embedding_bag = nn.EmbeddingBag(config.vocab_size, config.embedding_dim)\n",
        "\n",
        "        # Sequential model containing multiple layers\n",
        "        self.layers = nn.Sequential(\n",
        "            nn.Linear(config.embedding_dim, config.hidden_dim1),\n",
        "            nn.BatchNorm1d(num_features=config.hidden_dim1),\n",
        "            nn.ReLU(),\n",
        "            nn.Dropout(p=0.5),\n",
        "            nn.Linear(config.hidden_dim1, config.hidden_dim2),\n",
        "            nn.BatchNorm1d(num_features=config.hidden_dim2),\n",
        "            nn.ReLU(),\n",
        "            nn.Dropout(p=0.5),\n",
        "            nn.Linear(config.hidden_dim2, config.num_labels)  # Output layer with logits for each emotion label\n",
        "        )\n",
        "\n",
        "    def forward(self, input_ids, offsets, labels=None):\n",
        "        # Get embeddings from input tokens\n",
        "        embed_out = self.embedding_bag(input_ids, offsets)\n",
        "\n",
        "        # Pass through the layers to get logits\n",
        "        logits = self.layers(embed_out)\n",
        "\n",
        "        # Calculate loss if labels are provided (for training)\n",
        "        loss = None\n",
        "        if labels is not None:\n",
        "            loss_fct = nn.BCEWithLogitsLoss()  # Binary Cross-Entropy for multi-label classification\n",
        "            loss = loss_fct(logits, labels.float())  # Convert labels to float\n",
        "\n",
        "        # Return loss and logits\n",
        "        return SequenceClassifierOutput(\n",
        "            loss=loss,\n",
        "            logits=logits\n",
        "        )\n"
      ]
    },
    {
      "cell_type": "markdown",
      "id": "54389269-77b0-4fb8-92a3-3ea1f3e100f6",
      "metadata": {
        "id": "54389269-77b0-4fb8-92a3-3ea1f3e100f6"
      },
      "source": [
        "#### Collate Function"
      ]
    },
    {
      "cell_type": "code",
      "execution_count": null,
      "id": "71aae16b-547f-47bc-ad86-7ce9e4e8aa4e",
      "metadata": {
        "id": "71aae16b-547f-47bc-ad86-7ce9e4e8aa4e"
      },
      "outputs": [],
      "source": [
        "# Tokenizer function to convert text into a list of token indices based on the vocabulary\n",
        "def tokenizer(text, vocab):\n",
        "    \"\"\"Converts text to a list of indices using a vocabulary dictionary\"\"\"\n",
        "    return [vocab[token] for token in str(text).split()]  # Split text into tokens and map each to an index\n"
      ]
    },
    {
      "cell_type": "code",
      "execution_count": null,
      "id": "34d4eabd-2905-4297-8d64-b64a711b5089",
      "metadata": {
        "id": "34d4eabd-2905-4297-8d64-b64a711b5089"
      },
      "outputs": [],
      "source": [
        "import torch\n",
        "\n",
        "def collate_batch(batch, my_vocab):\n",
        "    \"\"\"\n",
        "    Prepares a batch of data by transforming texts into indices based on a vocabulary and\n",
        "    converting labels into a tensor.\n",
        "\n",
        "    Args:\n",
        "        batch (list of dict): A batch of data where each element is a dictionary with keys\n",
        "                              'labels' and 'Cleaned_Reviews'. 'labels' are the emotion labels,\n",
        "                              and 'Cleaned_Reviews' are the corresponding texts (tweets).\n",
        "        my_vocab (Vocab): The vocabulary object that maps tokens to indices.\n",
        "\n",
        "    Returns:\n",
        "        dict: A dictionary with three keys:\n",
        "              - 'input_ids': A tensor containing concatenated indices of the texts.\n",
        "              - 'offsets': A tensor representing the starting index of each text in 'input_ids'.\n",
        "              - 'labels': A tensor of the labels for each text in the batch.\n",
        "    \"\"\"\n",
        "\n",
        "    # Extract labels and texts from the batch\n",
        "    labels = [sample['labels'] for sample in batch]  # Multi-labels (binary vectors for emotions)\n",
        "    texts = [sample['Cleaned_Reviews'] for sample in batch]  # Texts (tweets)\n",
        "\n",
        "    # Convert the list of labels into a tensor (dtype float32 for multi-label classification)\n",
        "    labels = torch.tensor(labels, dtype=torch.float32)\n",
        "\n",
        "    # Convert the list of texts into a list of token indices using the tokenizer\n",
        "    list_of_list_of_indices = [tokenizer(text, my_vocab) for text in texts]\n",
        "\n",
        "    # Concatenate all token indices into a single tensor (input_ids)\n",
        "    input_ids = torch.cat([torch.tensor(i, dtype=torch.int64) for i in list_of_list_of_indices])\n",
        "\n",
        "    # Compute the offsets for each text in the concatenated tensor\n",
        "    offsets = [0] + [len(i) for i in list_of_list_of_indices]\n",
        "    offsets = torch.tensor(offsets[:-1]).cumsum(dim=0)\n",
        "\n",
        "    return {\n",
        "        'input_ids': input_ids,  # Flattened input tokens\n",
        "        'offsets': offsets,  # Offsets to keep track of the start of each tweet\n",
        "        'labels': labels  # Multi-labels (emotion binary vectors)\n",
        "    }\n"
      ]
    },
    {
      "cell_type": "code",
      "execution_count": null,
      "id": "0c337459-9cf5-4068-9b99-b53972c230ba",
      "metadata": {
        "id": "0c337459-9cf5-4068-9b99-b53972c230ba"
      },
      "outputs": [],
      "source": [
        "collate_fn = partial(collate_batch, my_vocab=emotion_vocab)\n",
        "# processed_batch = collate_fn(batch)"
      ]
    },
    {
      "cell_type": "markdown",
      "id": "b12a79bb-a2a3-48c3-b6a4-9f9e3d0268d5",
      "metadata": {
        "id": "b12a79bb-a2a3-48c3-b6a4-9f9e3d0268d5"
      },
      "source": [
        "#### Instantiate Model"
      ]
    },
    {
      "cell_type": "code",
      "execution_count": null,
      "id": "6d572457-7745-4227-be2a-7bb33c5bf70c",
      "metadata": {
        "id": "6d572457-7745-4227-be2a-7bb33c5bf70c"
      },
      "outputs": [],
      "source": [
        "# Instantiate the configuration after the vocabulary is created\n",
        "my_config = CustomConfig(\n",
        "    vocab_size=len(emotion_vocab),  # Use the size of the vocabulary generated above\n",
        "    embedding_dim=300,  # Embedding dimension\n",
        "    hidden_dim1=200,  # First hidden layer size\n",
        "    hidden_dim2=100,  # Second hidden layer size\n",
        "    num_labels=11  # Number of emotion labels\n",
        ")\n",
        "\n",
        "# Map label indices to emotion classes\n",
        "my_config.id2label = {\n",
        "    0: 'anger', 1: 'anticipation', 2: 'disgust', 3: 'fear', 4: 'joy',\n",
        "    5: 'love', 6: 'optimism', 7: 'pessimism', 8: 'sadness', 9: 'surprise', 10: 'trust'\n",
        "}\n",
        "\n",
        "# Reverse the mapping to create label2id\n",
        "my_config.label2id = {v: k for k, v in my_config.id2label.items()}\n"
      ]
    },
    {
      "cell_type": "code",
      "execution_count": null,
      "id": "c5ef032a-480a-4ad9-8a56-f1daf7054485",
      "metadata": {
        "id": "c5ef032a-480a-4ad9-8a56-f1daf7054485",
        "outputId": "5c64176c-cce5-4bd0-97e3-319ba6453322"
      },
      "outputs": [
        {
          "data": {
            "text/plain": [
              "CustomConfig {\n",
              "  \"embedding_dim\": 300,\n",
              "  \"hidden_dim1\": 200,\n",
              "  \"hidden_dim2\": 100,\n",
              "  \"id2label\": {\n",
              "    \"0\": \"anger\",\n",
              "    \"1\": \"anticipation\",\n",
              "    \"2\": \"disgust\",\n",
              "    \"3\": \"fear\",\n",
              "    \"4\": \"joy\",\n",
              "    \"5\": \"love\",\n",
              "    \"6\": \"optimism\",\n",
              "    \"7\": \"pessimism\",\n",
              "    \"8\": \"sadness\",\n",
              "    \"9\": \"surprise\",\n",
              "    \"10\": \"trust\"\n",
              "  },\n",
              "  \"label2id\": {\n",
              "    \"anger\": 0,\n",
              "    \"anticipation\": 1,\n",
              "    \"disgust\": 2,\n",
              "    \"fear\": 3,\n",
              "    \"joy\": 4,\n",
              "    \"love\": 5,\n",
              "    \"optimism\": 6,\n",
              "    \"pessimism\": 7,\n",
              "    \"sadness\": 8,\n",
              "    \"surprise\": 9,\n",
              "    \"trust\": 10\n",
              "  },\n",
              "  \"transformers_version\": \"4.45.1\",\n",
              "  \"vocab_size\": 4988\n",
              "}"
            ]
          },
          "execution_count": 44,
          "metadata": {},
          "output_type": "execute_result"
        }
      ],
      "source": [
        "my_config"
      ]
    },
    {
      "cell_type": "code",
      "execution_count": null,
      "id": "f9bcbbc4-991c-487e-b533-f60227efdad9",
      "metadata": {
        "id": "f9bcbbc4-991c-487e-b533-f60227efdad9",
        "outputId": "89d99fba-c66b-47cb-d058-b0d215b37177"
      },
      "outputs": [
        {
          "name": "stdout",
          "output_type": "stream",
          "text": [
            "CustomMLP(\n",
            "  (embedding_bag): EmbeddingBag(4988, 300, mode='mean')\n",
            "  (layers): Sequential(\n",
            "    (0): Linear(in_features=300, out_features=200, bias=True)\n",
            "    (1): BatchNorm1d(200, eps=1e-05, momentum=0.1, affine=True, track_running_stats=True)\n",
            "    (2): ReLU()\n",
            "    (3): Dropout(p=0.5, inplace=False)\n",
            "    (4): Linear(in_features=200, out_features=100, bias=True)\n",
            "    (5): BatchNorm1d(100, eps=1e-05, momentum=0.1, affine=True, track_running_stats=True)\n",
            "    (6): ReLU()\n",
            "    (7): Dropout(p=0.5, inplace=False)\n",
            "    (8): Linear(in_features=100, out_features=11, bias=True)\n",
            "  )\n",
            ")\n"
          ]
        }
      ],
      "source": [
        "# Instantiate the model using the configuration\n",
        "model = CustomMLP(config=my_config)\n",
        "\n",
        "# Print the model architecture to check everything is set up correctly\n",
        "print(model)"
      ]
    },
    {
      "cell_type": "markdown",
      "id": "b6f51229-0f7f-4505-9700-535726e188d2",
      "metadata": {
        "id": "b6f51229-0f7f-4505-9700-535726e188d2"
      },
      "source": [
        "### Step 6: Compute_Metrics Function"
      ]
    },
    {
      "cell_type": "code",
      "execution_count": null,
      "id": "ef03a6e1-9285-48ab-8bfc-0634c38911ca",
      "metadata": {
        "id": "ef03a6e1-9285-48ab-8bfc-0634c38911ca"
      },
      "outputs": [],
      "source": [
        "import numpy as np\n",
        "import evaluate\n",
        "import torch\n",
        "\n",
        "# Define the compute_metrics function\n",
        "def compute_metrics(eval_pred):\n",
        "    # Unpack predictions and labels\n",
        "    logits, labels = eval_pred\n",
        "\n",
        "    # Apply sigmoid to logits for multi-label classification (to get probabilities)\n",
        "    sigmoid_logits = torch.sigmoid(torch.tensor(logits))\n",
        "\n",
        "    # Convert logits to predictions (1 if > 0.5, else 0)\n",
        "    predictions = (sigmoid_logits > 0.5).int()\n",
        "\n",
        "    # Convert labels to int if they are in float\n",
        "    labels = torch.tensor(labels).int()\n",
        "\n",
        "    # Flatten both predictions and labels for metric calculation\n",
        "    predictions = predictions.view(-1).cpu().numpy()\n",
        "    labels = labels.view(-1).cpu().numpy()\n",
        "\n",
        "    # Load evaluation metrics\n",
        "    accuracy_metric = evaluate.load(\"accuracy\")\n",
        "    f1_metric = evaluate.load(\"f1\", average=\"macro\")  # Macro F1-score for multi-label classification\n",
        "\n",
        "    # Compute the accuracy\n",
        "    accuracy = accuracy_metric.compute(predictions=predictions, references=labels)\n",
        "\n",
        "    # Compute the F1-score\n",
        "    f1_score = f1_metric.compute(predictions=predictions, references=labels)\n",
        "\n",
        "    # Return both accuracy and F1 score\n",
        "    return {\n",
        "        \"accuracy\": accuracy[\"accuracy\"],\n",
        "        \"f1_score\": f1_score[\"f1\"]\n",
        "    }\n"
      ]
    },
    {
      "cell_type": "markdown",
      "id": "ca599bd6-182f-47f4-a6ce-ef960ba61645",
      "metadata": {
        "id": "ca599bd6-182f-47f4-a6ce-ef960ba61645"
      },
      "source": [
        "### Step 7: Training Arguments"
      ]
    },
    {
      "cell_type": "code",
      "execution_count": null,
      "id": "0b33f513-23d2-4e6b-a0ef-93e212d23fb8",
      "metadata": {
        "id": "0b33f513-23d2-4e6b-a0ef-93e212d23fb8"
      },
      "outputs": [],
      "source": [
        "from transformers import TrainingArguments\n",
        "\n",
        "# Configure training parameters for the Emotion Detection task\n",
        "training_args = TrainingArguments(\n",
        "\n",
        "    # Training-specific configurations\n",
        "    num_train_epochs=25,  # Number of epochs\n",
        "    per_device_train_batch_size=16,  # Batch size for training\n",
        "    per_device_eval_batch_size=16,  # Batch size for evaluation\n",
        "    weight_decay=0.01,  # L2 regularization\n",
        "    learning_rate=0.001,  # Learning rate\n",
        "    optim='adamw_torch',  # Optimizer\n",
        "    remove_unused_columns=False,  # Keep all columns in the dataset\n",
        "\n",
        "    # Checkpoint saving and model evaluation settings\n",
        "    output_dir=\"./emotion_results\",  # Directory to save checkpoints and outputs\n",
        "    eval_strategy='steps',  # Use `eval_strategy` instead of `evaluation_strategy`\n",
        "    eval_steps=50,  # Perform evaluation every 100 training steps\n",
        "    save_strategy=\"steps\",  # Save model checkpoints periodically\n",
        "    save_steps=100,  # Save a model checkpoint every 100 training steps\n",
        "    load_best_model_at_end=True,  # Reload the best model at the end of training\n",
        "    save_total_limit=3,  # Retain only the best 3 models\n",
        "\n",
        "    # Evaluation and model comparison settings\n",
        "    metric_for_best_model=\"f1_score\",  # Use F1 score as the metric for the best model\n",
        "    greater_is_better=True,  # A higher F1 score is better\n",
        "\n",
        "    # Experiment logging configurations\n",
        "    logging_strategy='steps',  # Log metrics and loss periodically during training\n",
        "    logging_steps=50,  # Log every 50 training steps\n",
        "    report_to='wandb',  # Use Weights & Biases for logging\n",
        "    run_name='emotion_detection_trainer',  # Name of the experiment for Weights & Biases\n",
        ")\n"
      ]
    },
    {
      "cell_type": "code",
      "execution_count": null,
      "metadata": {
        "id": "3FS9yazFVRXc"
      },
      "outputs": [],
      "source": [
        "# !python -m pip install --upgrade pip"
      ],
      "id": "3FS9yazFVRXc"
    },
    {
      "cell_type": "code",
      "execution_count": null,
      "metadata": {
        "id": "RNciVMaiVRXc"
      },
      "outputs": [],
      "source": [
        "# !pip install torch transformers datasets evaluate wandb scikit-learn matplotlib seaborn joblib beautifulsoup4 spacy"
      ],
      "id": "RNciVMaiVRXc"
    },
    {
      "cell_type": "code",
      "execution_count": null,
      "metadata": {
        "id": "jRlE0jvbVRXc"
      },
      "outputs": [],
      "source": [
        "# !python -m spacy download en_core_web_sm"
      ],
      "id": "jRlE0jvbVRXc"
    },
    {
      "cell_type": "code",
      "execution_count": null,
      "id": "85a9c537-cefb-4d18-ae7f-494397d6170e",
      "metadata": {
        "id": "85a9c537-cefb-4d18-ae7f-494397d6170e"
      },
      "outputs": [],
      "source": [
        "## Initialize Trainer\n",
        "from transformers import Trainer\n",
        "\n",
        "# Initialize the Trainer\n",
        "trainer = Trainer(\n",
        "    model=model,  # The model we instantiated (CustomMLP)\n",
        "    args=training_args,  # The training arguments we just defined\n",
        "    train_dataset=hf_train_set,  # The training dataset (ensure it's preprocessed)\n",
        "    eval_dataset=hf_test_set,  # The validation dataset for evaluation during training\n",
        "    data_collator=collate_fn,  # Function to collate batches (defined earlier)\n",
        "    compute_metrics=compute_metrics  # Function to compute metrics (defined earlier)\n",
        ")"
      ]
    },
    {
      "cell_type": "markdown",
      "id": "2dd636ad-3f0a-46ab-bc41-34f0345bcb42",
      "metadata": {
        "id": "2dd636ad-3f0a-46ab-bc41-34f0345bcb42"
      },
      "source": [
        "#### Setup Weight and Bias"
      ]
    },
    {
      "cell_type": "code",
      "execution_count": null,
      "id": "016ced41-43d9-48e1-98c0-6356bb44a7e7",
      "metadata": {
        "id": "016ced41-43d9-48e1-98c0-6356bb44a7e7",
        "outputId": "d5a4a44f-b8ac-4ff9-a1e0-d3faf2e65549"
      },
      "outputs": [
        {
          "name": "stderr",
          "output_type": "stream",
          "text": [
            "\u001b[34m\u001b[1mwandb\u001b[0m: Using wandb-core as the SDK backend. Please refer to https://wandb.me/wandb-core for more information.\n",
            "\u001b[34m\u001b[1mwandb\u001b[0m: Currently logged in as: \u001b[33mshobhit-pachauri\u001b[0m (\u001b[33mshobhit-pachauri-university-of-texas-at-dallas\u001b[0m). Use \u001b[1m`wandb login --relogin`\u001b[0m to force relogin\n"
          ]
        },
        {
          "data": {
            "text/plain": [
              "True"
            ]
          },
          "execution_count": 52,
          "metadata": {},
          "output_type": "execute_result"
        }
      ],
      "source": [
        "import wandb\n",
        "\n",
        "# Log into WandB\n",
        "wandb.login()"
      ]
    },
    {
      "cell_type": "code",
      "execution_count": null,
      "id": "e947fa91-b69c-401f-96b0-9b1623ec253f",
      "metadata": {
        "id": "e947fa91-b69c-401f-96b0-9b1623ec253f"
      },
      "outputs": [],
      "source": [
        "import os\n",
        "\n",
        "# Set the WandB project name (adjust for your task)\n",
        "os.environ[\"WANDB_PROJECT\"] = \"emotion_detection_fall_2024\""
      ]
    },
    {
      "cell_type": "markdown",
      "id": "be61b02e-34f0-48f1-a4b5-237c320aab5a",
      "metadata": {
        "id": "be61b02e-34f0-48f1-a4b5-237c320aab5a"
      },
      "source": [
        "### Step 7: Training and Validation"
      ]
    },
    {
      "cell_type": "code",
      "execution_count": null,
      "id": "9632546e-4e87-4c33-9c1b-7c23c1259aa7",
      "metadata": {
        "id": "9632546e-4e87-4c33-9c1b-7c23c1259aa7",
        "outputId": "98cf8ccc-15df-42b9-f8c3-d164ff8b6d87"
      },
      "outputs": [
        {
          "data": {
            "text/html": [
              "Changes to your `wandb` environment variables will be ignored because your `wandb` session has already started. For more information on how to modify your settings with `wandb.init()` arguments, please refer to <a href='https://wandb.me/wandb-init' target=\"_blank\">the W&B docs</a>."
            ],
            "text/plain": [
              "<IPython.core.display.HTML object>"
            ]
          },
          "metadata": {},
          "output_type": "display_data"
        },
        {
          "data": {
            "text/html": [
              "Tracking run with wandb version 0.18.3"
            ],
            "text/plain": [
              "<IPython.core.display.HTML object>"
            ]
          },
          "metadata": {},
          "output_type": "display_data"
        },
        {
          "data": {
            "text/html": [
              "Run data is saved locally in <code>d:\\University\\NLP\\assignment 5\\wandb\\run-20241005_175151-iite4zeo</code>"
            ],
            "text/plain": [
              "<IPython.core.display.HTML object>"
            ]
          },
          "metadata": {},
          "output_type": "display_data"
        },
        {
          "data": {
            "text/html": [
              "Syncing run <strong><a href='https://wandb.ai/shobhit-pachauri-university-of-texas-at-dallas/emotion_detection_fall_2024/runs/iite4zeo' target=\"_blank\">emotion_detection_trainer</a></strong> to <a href='https://wandb.ai/shobhit-pachauri-university-of-texas-at-dallas/emotion_detection_fall_2024' target=\"_blank\">Weights & Biases</a> (<a href='https://wandb.me/run' target=\"_blank\">docs</a>)<br/>"
            ],
            "text/plain": [
              "<IPython.core.display.HTML object>"
            ]
          },
          "metadata": {},
          "output_type": "display_data"
        },
        {
          "data": {
            "text/html": [
              " View project at <a href='https://wandb.ai/shobhit-pachauri-university-of-texas-at-dallas/emotion_detection_fall_2024' target=\"_blank\">https://wandb.ai/shobhit-pachauri-university-of-texas-at-dallas/emotion_detection_fall_2024</a>"
            ],
            "text/plain": [
              "<IPython.core.display.HTML object>"
            ]
          },
          "metadata": {},
          "output_type": "display_data"
        },
        {
          "data": {
            "text/html": [
              " View run at <a href='https://wandb.ai/shobhit-pachauri-university-of-texas-at-dallas/emotion_detection_fall_2024/runs/iite4zeo' target=\"_blank\">https://wandb.ai/shobhit-pachauri-university-of-texas-at-dallas/emotion_detection_fall_2024/runs/iite4zeo</a>"
            ],
            "text/plain": [
              "<IPython.core.display.HTML object>"
            ]
          },
          "metadata": {},
          "output_type": "display_data"
        },
        {
          "name": "stderr",
          "output_type": "stream",
          "text": [
            "  1%|          | 50/9675 [00:00<02:29, 64.47it/s]"
          ]
        },
        {
          "name": "stdout",
          "output_type": "stream",
          "text": [
            "{'loss': 0.594, 'grad_norm': 0.7160231471061707, 'learning_rate': 0.0009948320413436691, 'epoch': 0.13}\n"
          ]
        },
        {
          "name": "stderr",
          "output_type": "stream",
          "text": [
            "                                                 \n",
            "  1%|          | 55/9675 [00:02<13:59, 11.46it/s]"
          ]
        },
        {
          "name": "stdout",
          "output_type": "stream",
          "text": [
            "{'eval_loss': 0.5390411019325256, 'eval_accuracy': 0.7829361576934393, 'eval_f1_score': 0.13424078854728938, 'eval_runtime': 1.5585, 'eval_samples_per_second': 991.312, 'eval_steps_per_second': 62.238, 'epoch': 0.13}\n"
          ]
        },
        {
          "name": "stderr",
          "output_type": "stream",
          "text": [
            "  1%|          | 100/9675 [00:03<03:48, 41.92it/s]"
          ]
        },
        {
          "name": "stdout",
          "output_type": "stream",
          "text": [
            "{'loss': 0.5003, 'grad_norm': 0.7282071709632874, 'learning_rate': 0.0009896640826873384, 'epoch': 0.26}\n"
          ]
        },
        {
          "name": "stderr",
          "output_type": "stream",
          "text": [
            "                                                  \n",
            "  1%|          | 111/9675 [00:04<08:53, 17.92it/s]"
          ]
        },
        {
          "name": "stdout",
          "output_type": "stream",
          "text": [
            "{'eval_loss': 0.48778969049453735, 'eval_accuracy': 0.7922918505442778, 'eval_f1_score': 0.12450396825396826, 'eval_runtime': 1.3586, 'eval_samples_per_second': 1137.237, 'eval_steps_per_second': 71.399, 'epoch': 0.26}\n"
          ]
        },
        {
          "name": "stderr",
          "output_type": "stream",
          "text": [
            "  2%|▏         | 150/9675 [00:05<03:43, 42.70it/s]"
          ]
        },
        {
          "name": "stdout",
          "output_type": "stream",
          "text": [
            "{'loss': 0.4829, 'grad_norm': 0.8154372572898865, 'learning_rate': 0.0009844961240310078, 'epoch': 0.39}\n"
          ]
        },
        {
          "name": "stderr",
          "output_type": "stream",
          "text": [
            "                                                  \n",
            "  2%|▏         | 159/9675 [00:06<09:10, 17.29it/s]"
          ]
        },
        {
          "name": "stdout",
          "output_type": "stream",
          "text": [
            "{'eval_loss': 0.47688397765159607, 'eval_accuracy': 0.7923506913798176, 'eval_f1_score': 0.2183831672203765, 'eval_runtime': 1.4904, 'eval_samples_per_second': 1036.607, 'eval_steps_per_second': 65.081, 'epoch': 0.39}\n"
          ]
        },
        {
          "name": "stderr",
          "output_type": "stream",
          "text": [
            "  2%|▏         | 200/9675 [00:07<03:14, 48.78it/s]"
          ]
        },
        {
          "name": "stdout",
          "output_type": "stream",
          "text": [
            "{'loss': 0.4751, 'grad_norm': 0.7490781545639038, 'learning_rate': 0.000979328165374677, 'epoch': 0.52}\n"
          ]
        },
        {
          "name": "stderr",
          "output_type": "stream",
          "text": [
            "                                                  \n",
            "  2%|▏         | 207/9675 [00:08<11:17, 13.97it/s]"
          ]
        },
        {
          "name": "stdout",
          "output_type": "stream",
          "text": [
            "{'eval_loss': 0.4658980667591095, 'eval_accuracy': 0.7994704324801413, 'eval_f1_score': 0.17839922854387658, 'eval_runtime': 1.3803, 'eval_samples_per_second': 1119.282, 'eval_steps_per_second': 70.272, 'epoch': 0.52}\n"
          ]
        },
        {
          "name": "stderr",
          "output_type": "stream",
          "text": [
            "  3%|▎         | 250/9675 [00:09<03:26, 45.70it/s]"
          ]
        },
        {
          "name": "stdout",
          "output_type": "stream",
          "text": [
            "{'loss': 0.457, 'grad_norm': 0.9878899455070496, 'learning_rate': 0.0009741602067183463, 'epoch': 0.65}\n"
          ]
        },
        {
          "name": "stderr",
          "output_type": "stream",
          "text": [
            "                                                  \n",
            "  3%|▎         | 258/9675 [00:10<11:10, 14.05it/s]"
          ]
        },
        {
          "name": "stdout",
          "output_type": "stream",
          "text": [
            "{'eval_loss': 0.45654967427253723, 'eval_accuracy': 0.8035892909679317, 'eval_f1_score': 0.25557537912578054, 'eval_runtime': 1.4042, 'eval_samples_per_second': 1100.236, 'eval_steps_per_second': 69.076, 'epoch': 0.65}\n"
          ]
        },
        {
          "name": "stderr",
          "output_type": "stream",
          "text": [
            "  3%|▎         | 300/9675 [00:11<03:29, 44.72it/s]"
          ]
        },
        {
          "name": "stdout",
          "output_type": "stream",
          "text": [
            "{'loss': 0.4636, 'grad_norm': 0.7837476134300232, 'learning_rate': 0.0009689922480620155, 'epoch': 0.78}\n"
          ]
        },
        {
          "name": "stderr",
          "output_type": "stream",
          "text": [
            "                                                  \n",
            "  3%|▎         | 308/9675 [00:12<11:28, 13.61it/s]"
          ]
        },
        {
          "name": "stdout",
          "output_type": "stream",
          "text": [
            "{'eval_loss': 0.4521386921405792, 'eval_accuracy': 0.8062959694027655, 'eval_f1_score': 0.28184991273996507, 'eval_runtime': 1.4323, 'eval_samples_per_second': 1078.657, 'eval_steps_per_second': 67.721, 'epoch': 0.78}\n"
          ]
        },
        {
          "name": "stderr",
          "output_type": "stream",
          "text": [
            "  4%|▎         | 350/9675 [00:13<03:30, 44.26it/s]"
          ]
        },
        {
          "name": "stdout",
          "output_type": "stream",
          "text": [
            "{'loss': 0.4556, 'grad_norm': 0.6796554923057556, 'learning_rate': 0.0009638242894056848, 'epoch': 0.9}\n"
          ]
        },
        {
          "name": "stderr",
          "output_type": "stream",
          "text": [
            "                                                  \n",
            "  4%|▎         | 357/9675 [00:14<10:53, 14.26it/s]"
          ]
        },
        {
          "name": "stdout",
          "output_type": "stream",
          "text": [
            "{'eval_loss': 0.4491797983646393, 'eval_accuracy': 0.8068255369226243, 'eval_f1_score': 0.31014919100651395, 'eval_runtime': 1.3542, 'eval_samples_per_second': 1140.908, 'eval_steps_per_second': 71.63, 'epoch': 0.9}\n"
          ]
        },
        {
          "name": "stderr",
          "output_type": "stream",
          "text": [
            "  4%|▍         | 400/9675 [00:15<03:26, 44.97it/s]"
          ]
        },
        {
          "name": "stdout",
          "output_type": "stream",
          "text": [
            "{'loss': 0.4405, 'grad_norm': 0.6227124333381653, 'learning_rate': 0.000958656330749354, 'epoch': 1.03}\n"
          ]
        },
        {
          "name": "stderr",
          "output_type": "stream",
          "text": [
            "                                                  \n",
            "  4%|▍         | 407/9675 [00:17<10:53, 14.18it/s]"
          ]
        },
        {
          "name": "stdout",
          "output_type": "stream",
          "text": [
            "{'eval_loss': 0.4385853707790375, 'eval_accuracy': 0.8098264195351574, 'eval_f1_score': 0.33278282411230387, 'eval_runtime': 1.3464, 'eval_samples_per_second': 1147.532, 'eval_steps_per_second': 72.046, 'epoch': 1.03}\n"
          ]
        },
        {
          "name": "stderr",
          "output_type": "stream",
          "text": [
            "  5%|▍         | 450/9675 [00:17<03:24, 45.11it/s]"
          ]
        },
        {
          "name": "stdout",
          "output_type": "stream",
          "text": [
            "{'loss': 0.4344, 'grad_norm': 0.5780012607574463, 'learning_rate': 0.0009534883720930233, 'epoch': 1.16}\n"
          ]
        },
        {
          "name": "stderr",
          "output_type": "stream",
          "text": [
            "                                                  \n",
            "  5%|▍         | 466/9675 [00:19<07:42, 19.93it/s]"
          ]
        },
        {
          "name": "stdout",
          "output_type": "stream",
          "text": [
            "{'eval_loss': 0.43005576729774475, 'eval_accuracy': 0.8121212121212121, 'eval_f1_score': 0.3760015634160641, 'eval_runtime': 1.3225, 'eval_samples_per_second': 1168.206, 'eval_steps_per_second': 73.344, 'epoch': 1.16}\n"
          ]
        },
        {
          "name": "stderr",
          "output_type": "stream",
          "text": [
            "  5%|▌         | 500/9675 [00:19<03:20, 45.83it/s]"
          ]
        },
        {
          "name": "stdout",
          "output_type": "stream",
          "text": [
            "{'loss': 0.4231, 'grad_norm': 0.6639222502708435, 'learning_rate': 0.0009483204134366925, 'epoch': 1.29}\n"
          ]
        },
        {
          "name": "stderr",
          "output_type": "stream",
          "text": [
            "                                                  \n",
            "  5%|▌         | 507/9675 [00:21<10:52, 14.04it/s]"
          ]
        },
        {
          "name": "stdout",
          "output_type": "stream",
          "text": [
            "{'eval_loss': 0.43131178617477417, 'eval_accuracy': 0.8144748455428067, 'eval_f1_score': 0.41772853185595565, 'eval_runtime': 1.3637, 'eval_samples_per_second': 1132.98, 'eval_steps_per_second': 71.132, 'epoch': 1.29}\n"
          ]
        },
        {
          "name": "stderr",
          "output_type": "stream",
          "text": [
            "  6%|▌         | 550/9675 [00:21<03:27, 44.03it/s]"
          ]
        },
        {
          "name": "stdout",
          "output_type": "stream",
          "text": [
            "{'loss': 0.4142, 'grad_norm': 0.747040331363678, 'learning_rate': 0.0009431524547803619, 'epoch': 1.42}\n"
          ]
        },
        {
          "name": "stderr",
          "output_type": "stream",
          "text": [
            "                                                  \n",
            "  6%|▌         | 564/9675 [00:23<08:24, 18.07it/s]"
          ]
        },
        {
          "name": "stdout",
          "output_type": "stream",
          "text": [
            "{'eval_loss': 0.42328399419784546, 'eval_accuracy': 0.8181818181818182, 'eval_f1_score': 0.4114285714285714, 'eval_runtime': 1.4284, 'eval_samples_per_second': 1081.634, 'eval_steps_per_second': 67.908, 'epoch': 1.42}\n"
          ]
        },
        {
          "name": "stderr",
          "output_type": "stream",
          "text": [
            "  6%|▌         | 600/9675 [00:23<03:20, 45.35it/s]"
          ]
        },
        {
          "name": "stdout",
          "output_type": "stream",
          "text": [
            "{'loss': 0.4208, 'grad_norm': 0.5605087876319885, 'learning_rate': 0.0009379844961240311, 'epoch': 1.55}\n"
          ]
        },
        {
          "name": "stderr",
          "output_type": "stream",
          "text": [
            "                                                  \n",
            "  6%|▋         | 606/9675 [00:25<10:19, 14.64it/s]"
          ]
        },
        {
          "name": "stdout",
          "output_type": "stream",
          "text": [
            "{'eval_loss': 0.4180540442466736, 'eval_accuracy': 0.8177110914974992, 'eval_f1_score': 0.4233060312732688, 'eval_runtime': 1.3067, 'eval_samples_per_second': 1182.35, 'eval_steps_per_second': 74.232, 'epoch': 1.55}\n"
          ]
        },
        {
          "name": "stderr",
          "output_type": "stream",
          "text": [
            "  7%|▋         | 650/9675 [00:25<03:17, 45.81it/s]"
          ]
        },
        {
          "name": "stdout",
          "output_type": "stream",
          "text": [
            "{'loss': 0.4186, 'grad_norm': 0.6420555710792542, 'learning_rate': 0.0009328165374677003, 'epoch': 1.68}\n"
          ]
        },
        {
          "name": "stderr",
          "output_type": "stream",
          "text": [
            "                                                  \n",
            "  7%|▋         | 657/9675 [00:26<09:53, 15.19it/s]"
          ]
        },
        {
          "name": "stdout",
          "output_type": "stream",
          "text": [
            "{'eval_loss': 0.4181858003139496, 'eval_accuracy': 0.8185348631950574, 'eval_f1_score': 0.422688131785848, 'eval_runtime': 1.254, 'eval_samples_per_second': 1232.075, 'eval_steps_per_second': 77.354, 'epoch': 1.68}\n"
          ]
        },
        {
          "name": "stderr",
          "output_type": "stream",
          "text": [
            "  7%|▋         | 700/9675 [00:27<03:12, 46.66it/s]"
          ]
        },
        {
          "name": "stdout",
          "output_type": "stream",
          "text": [
            "{'loss': 0.418, 'grad_norm': 0.6252408027648926, 'learning_rate': 0.0009276485788113696, 'epoch': 1.81}\n"
          ]
        },
        {
          "name": "stderr",
          "output_type": "stream",
          "text": [
            "                                                  \n",
            "  7%|▋         | 707/9675 [00:28<10:13, 14.61it/s]"
          ]
        },
        {
          "name": "stdout",
          "output_type": "stream",
          "text": [
            "{'eval_loss': 0.413179874420166, 'eval_accuracy': 0.8235363342159459, 'eval_f1_score': 0.44514338575393153, 'eval_runtime': 1.2997, 'eval_samples_per_second': 1188.74, 'eval_steps_per_second': 74.633, 'epoch': 1.81}\n"
          ]
        },
        {
          "name": "stderr",
          "output_type": "stream",
          "text": [
            "  8%|▊         | 750/9675 [00:29<03:15, 45.76it/s]"
          ]
        },
        {
          "name": "stdout",
          "output_type": "stream",
          "text": [
            "{'loss': 0.4193, 'grad_norm': 0.4967257082462311, 'learning_rate': 0.0009224806201550388, 'epoch': 1.94}\n"
          ]
        },
        {
          "name": "stderr",
          "output_type": "stream",
          "text": [
            "                                                  \n",
            "  8%|▊         | 757/9675 [00:30<10:23, 14.29it/s]"
          ]
        },
        {
          "name": "stdout",
          "output_type": "stream",
          "text": [
            "{'eval_loss': 0.4265332520008087, 'eval_accuracy': 0.8120623712856723, 'eval_f1_score': 0.42471181556195964, 'eval_runtime': 1.313, 'eval_samples_per_second': 1176.663, 'eval_steps_per_second': 73.875, 'epoch': 1.94}\n"
          ]
        },
        {
          "name": "stderr",
          "output_type": "stream",
          "text": [
            "  8%|▊         | 800/9675 [00:31<03:22, 43.88it/s]"
          ]
        },
        {
          "name": "stdout",
          "output_type": "stream",
          "text": [
            "{'loss': 0.3974, 'grad_norm': 0.6102959513664246, 'learning_rate': 0.0009173126614987081, 'epoch': 2.07}\n"
          ]
        },
        {
          "name": "stderr",
          "output_type": "stream",
          "text": [
            "                                                  \n",
            "  8%|▊         | 805/9675 [00:33<10:46, 13.72it/s]"
          ]
        },
        {
          "name": "stdout",
          "output_type": "stream",
          "text": [
            "{'eval_loss': 0.4084765315055847, 'eval_accuracy': 0.8274786701971169, 'eval_f1_score': 0.47977288857345635, 'eval_runtime': 1.3691, 'eval_samples_per_second': 1128.505, 'eval_steps_per_second': 70.851, 'epoch': 2.07}\n"
          ]
        },
        {
          "name": "stderr",
          "output_type": "stream",
          "text": [
            "  9%|▉         | 850/9675 [00:33<03:11, 46.11it/s]"
          ]
        },
        {
          "name": "stdout",
          "output_type": "stream",
          "text": [
            "{'loss': 0.3814, 'grad_norm': 0.5912169814109802, 'learning_rate': 0.0009121447028423772, 'epoch': 2.2}\n"
          ]
        },
        {
          "name": "stderr",
          "output_type": "stream",
          "text": [
            "                                                  \n",
            "  9%|▉         | 864/9675 [00:35<07:26, 19.73it/s]"
          ]
        },
        {
          "name": "stdout",
          "output_type": "stream",
          "text": [
            "{'eval_loss': 0.4049288332462311, 'eval_accuracy': 0.826949102677258, 'eval_f1_score': 0.4824916417385184, 'eval_runtime': 1.2916, 'eval_samples_per_second': 1196.186, 'eval_steps_per_second': 75.1, 'epoch': 2.2}\n"
          ]
        },
        {
          "name": "stderr",
          "output_type": "stream",
          "text": [
            "  9%|▉         | 900/9675 [00:35<03:09, 46.21it/s]"
          ]
        },
        {
          "name": "stdout",
          "output_type": "stream",
          "text": [
            "{'loss': 0.3855, 'grad_norm': 0.5714093446731567, 'learning_rate': 0.0009069767441860464, 'epoch': 2.33}\n"
          ]
        },
        {
          "name": "stderr",
          "output_type": "stream",
          "text": [
            "                                                  \n",
            "  9%|▉         | 906/9675 [00:37<10:32, 13.86it/s]"
          ]
        },
        {
          "name": "stdout",
          "output_type": "stream",
          "text": [
            "{'eval_loss': 0.4005952477455139, 'eval_accuracy': 0.8298911444542513, 'eval_f1_score': 0.4943152002798671, 'eval_runtime': 1.4028, 'eval_samples_per_second': 1101.331, 'eval_steps_per_second': 69.145, 'epoch': 2.33}\n"
          ]
        },
        {
          "name": "stderr",
          "output_type": "stream",
          "text": [
            " 10%|▉         | 950/9675 [00:37<03:17, 44.12it/s]"
          ]
        },
        {
          "name": "stdout",
          "output_type": "stream",
          "text": [
            "{'loss': 0.3839, 'grad_norm': 0.5941560864448547, 'learning_rate': 0.0009018087855297157, 'epoch': 2.45}\n"
          ]
        },
        {
          "name": "stderr",
          "output_type": "stream",
          "text": [
            "                                                  \n",
            " 10%|▉         | 964/9675 [00:39<07:25, 19.53it/s]"
          ]
        },
        {
          "name": "stdout",
          "output_type": "stream",
          "text": [
            "{'eval_loss': 0.3984612822532654, 'eval_accuracy': 0.8293027360988526, 'eval_f1_score': 0.5014607320845507, 'eval_runtime': 1.2738, 'eval_samples_per_second': 1212.941, 'eval_steps_per_second': 76.152, 'epoch': 2.45}\n"
          ]
        },
        {
          "name": "stderr",
          "output_type": "stream",
          "text": [
            " 10%|█         | 1000/9675 [00:39<03:06, 46.60it/s]"
          ]
        },
        {
          "name": "stdout",
          "output_type": "stream",
          "text": [
            "{'loss': 0.3787, 'grad_norm': 0.7264965176582336, 'learning_rate': 0.000896640826873385, 'epoch': 2.58}\n"
          ]
        },
        {
          "name": "stderr",
          "output_type": "stream",
          "text": [
            "                                                   \n",
            " 10%|█         | 1006/9675 [00:41<10:06, 14.29it/s]"
          ]
        },
        {
          "name": "stdout",
          "output_type": "stream",
          "text": [
            "{'eval_loss': 0.39316806197166443, 'eval_accuracy': 0.8343630479552809, 'eval_f1_score': 0.5223146105548956, 'eval_runtime': 1.3482, 'eval_samples_per_second': 1145.978, 'eval_steps_per_second': 71.948, 'epoch': 2.58}\n"
          ]
        },
        {
          "name": "stderr",
          "output_type": "stream",
          "text": [
            " 11%|█         | 1050/9675 [00:41<03:07, 45.89it/s]"
          ]
        },
        {
          "name": "stdout",
          "output_type": "stream",
          "text": [
            "{'loss': 0.3921, 'grad_norm': 0.5946364998817444, 'learning_rate': 0.0008914728682170543, 'epoch': 2.71}\n"
          ]
        },
        {
          "name": "stderr",
          "output_type": "stream",
          "text": [
            "                                                   \n",
            " 11%|█         | 1065/9675 [00:43<07:44, 18.52it/s]"
          ]
        },
        {
          "name": "stdout",
          "output_type": "stream",
          "text": [
            "{'eval_loss': 0.39281830191612244, 'eval_accuracy': 0.8339511621065019, 'eval_f1_score': 0.5177717019822283, 'eval_runtime': 1.43, 'eval_samples_per_second': 1080.386, 'eval_steps_per_second': 67.83, 'epoch': 2.71}\n"
          ]
        },
        {
          "name": "stderr",
          "output_type": "stream",
          "text": [
            " 11%|█▏        | 1100/9675 [00:43<03:13, 44.26it/s]"
          ]
        },
        {
          "name": "stdout",
          "output_type": "stream",
          "text": [
            "{'loss': 0.3898, 'grad_norm': 0.5765224695205688, 'learning_rate': 0.0008863049095607235, 'epoch': 2.84}\n"
          ]
        },
        {
          "name": "stderr",
          "output_type": "stream",
          "text": [
            "                                                   \n",
            " 11%|█▏        | 1106/9675 [00:45<10:33, 13.53it/s]"
          ]
        },
        {
          "name": "stdout",
          "output_type": "stream",
          "text": [
            "{'eval_loss': 0.3919646441936493, 'eval_accuracy': 0.8338334804354222, 'eval_f1_score': 0.5149433184472689, 'eval_runtime': 1.4274, 'eval_samples_per_second': 1082.364, 'eval_steps_per_second': 67.954, 'epoch': 2.84}\n"
          ]
        },
        {
          "name": "stderr",
          "output_type": "stream",
          "text": [
            " 12%|█▏        | 1150/9675 [00:45<03:07, 45.48it/s]"
          ]
        },
        {
          "name": "stdout",
          "output_type": "stream",
          "text": [
            "{'loss': 0.3732, 'grad_norm': 0.6747328042984009, 'learning_rate': 0.0008811369509043928, 'epoch': 2.97}\n"
          ]
        },
        {
          "name": "stderr",
          "output_type": "stream",
          "text": [
            "                                                   \n",
            " 12%|█▏        | 1157/9675 [00:47<09:29, 14.96it/s]"
          ]
        },
        {
          "name": "stdout",
          "output_type": "stream",
          "text": [
            "{'eval_loss': 0.3888028860092163, 'eval_accuracy': 0.8363047955280964, 'eval_f1_score': 0.5221573342493988, 'eval_runtime': 1.3055, 'eval_samples_per_second': 1183.486, 'eval_steps_per_second': 74.303, 'epoch': 2.97}\n"
          ]
        },
        {
          "name": "stderr",
          "output_type": "stream",
          "text": [
            " 12%|█▏        | 1200/9675 [00:47<02:59, 47.10it/s]"
          ]
        },
        {
          "name": "stdout",
          "output_type": "stream",
          "text": [
            "{'loss': 0.3817, 'grad_norm': 0.3743402659893036, 'learning_rate': 0.000875968992248062, 'epoch': 3.1}\n"
          ]
        },
        {
          "name": "stderr",
          "output_type": "stream",
          "text": [
            "                                                   \n",
            " 12%|█▏        | 1207/9675 [00:49<09:32, 14.79it/s]"
          ]
        },
        {
          "name": "stdout",
          "output_type": "stream",
          "text": [
            "{'eval_loss': 0.3887260854244232, 'eval_accuracy': 0.8351279788172992, 'eval_f1_score': 0.5247625508819539, 'eval_runtime': 1.3108, 'eval_samples_per_second': 1178.665, 'eval_steps_per_second': 74.0, 'epoch': 3.1}\n"
          ]
        },
        {
          "name": "stderr",
          "output_type": "stream",
          "text": [
            " 13%|█▎        | 1250/9675 [00:49<03:01, 46.54it/s]"
          ]
        },
        {
          "name": "stdout",
          "output_type": "stream",
          "text": [
            "{'loss': 0.3685, 'grad_norm': 0.6553896069526672, 'learning_rate': 0.0008708010335917312, 'epoch': 3.23}\n"
          ]
        },
        {
          "name": "stderr",
          "output_type": "stream",
          "text": [
            "                                                   \n",
            " 13%|█▎        | 1267/9675 [00:51<06:45, 20.73it/s]"
          ]
        },
        {
          "name": "stdout",
          "output_type": "stream",
          "text": [
            "{'eval_loss': 0.38953545689582825, 'eval_accuracy': 0.8361871138570167, 'eval_f1_score': 0.5292526208995604, 'eval_runtime': 1.2612, 'eval_samples_per_second': 1225.033, 'eval_steps_per_second': 76.911, 'epoch': 3.23}\n"
          ]
        },
        {
          "name": "stderr",
          "output_type": "stream",
          "text": [
            " 13%|█▎        | 1300/9675 [00:51<03:03, 45.55it/s]"
          ]
        },
        {
          "name": "stdout",
          "output_type": "stream",
          "text": [
            "{'loss': 0.3676, 'grad_norm': 0.651456892490387, 'learning_rate': 0.0008656330749354005, 'epoch': 3.36}\n"
          ]
        },
        {
          "name": "stderr",
          "output_type": "stream",
          "text": [
            "                                                   \n",
            " 14%|█▎        | 1307/9675 [00:53<09:48, 14.22it/s]"
          ]
        },
        {
          "name": "stdout",
          "output_type": "stream",
          "text": [
            "{'eval_loss': 0.38249748945236206, 'eval_accuracy': 0.8378934980876729, 'eval_f1_score': 0.5345497550261868, 'eval_runtime': 1.3192, 'eval_samples_per_second': 1171.14, 'eval_steps_per_second': 73.528, 'epoch': 3.36}\n"
          ]
        },
        {
          "name": "stderr",
          "output_type": "stream",
          "text": [
            " 14%|█▍        | 1350/9675 [00:53<03:48, 36.40it/s]"
          ]
        },
        {
          "name": "stdout",
          "output_type": "stream",
          "text": [
            "{'loss': 0.3654, 'grad_norm': 0.4467473030090332, 'learning_rate': 0.0008604651162790697, 'epoch': 3.49}\n"
          ]
        },
        {
          "name": "stderr",
          "output_type": "stream",
          "text": [
            "                                                   \n",
            " 14%|█▍        | 1359/9675 [00:55<07:54, 17.52it/s]"
          ]
        },
        {
          "name": "stdout",
          "output_type": "stream",
          "text": [
            "{'eval_loss': 0.38247427344322205, 'eval_accuracy': 0.837834657252133, 'eval_f1_score': 0.5391304347826087, 'eval_runtime': 1.4746, 'eval_samples_per_second': 1047.713, 'eval_steps_per_second': 65.779, 'epoch': 3.49}\n"
          ]
        },
        {
          "name": "stderr",
          "output_type": "stream",
          "text": [
            " 14%|█▍        | 1400/9675 [00:55<03:11, 43.18it/s]"
          ]
        },
        {
          "name": "stdout",
          "output_type": "stream",
          "text": [
            "{'loss': 0.3589, 'grad_norm': 0.4159049689769745, 'learning_rate': 0.0008552971576227391, 'epoch': 3.62}\n"
          ]
        },
        {
          "name": "stderr",
          "output_type": "stream",
          "text": [
            "                                                   \n",
            " 15%|█▍        | 1409/9675 [00:57<07:28, 18.41it/s]"
          ]
        },
        {
          "name": "stdout",
          "output_type": "stream",
          "text": [
            "{'eval_loss': 0.3801320195198059, 'eval_accuracy': 0.8396587231538688, 'eval_f1_score': 0.5486168626801391, 'eval_runtime': 1.3689, 'eval_samples_per_second': 1128.624, 'eval_steps_per_second': 70.859, 'epoch': 3.62}\n"
          ]
        },
        {
          "name": "stderr",
          "output_type": "stream",
          "text": [
            " 15%|█▍        | 1450/9675 [00:57<03:03, 44.94it/s]"
          ]
        },
        {
          "name": "stdout",
          "output_type": "stream",
          "text": [
            "{'loss': 0.3702, 'grad_norm': 0.6766512989997864, 'learning_rate': 0.0008501291989664083, 'epoch': 3.75}\n"
          ]
        },
        {
          "name": "stderr",
          "output_type": "stream",
          "text": [
            "                                                   \n",
            " 15%|█▌        | 1460/9675 [00:59<06:42, 20.40it/s]"
          ]
        },
        {
          "name": "stdout",
          "output_type": "stream",
          "text": [
            "{'eval_loss': 0.3811820149421692, 'eval_accuracy': 0.8390114739629303, 'eval_f1_score': 0.5449101796407185, 'eval_runtime': 1.2699, 'eval_samples_per_second': 1216.661, 'eval_steps_per_second': 76.386, 'epoch': 3.75}\n"
          ]
        },
        {
          "name": "stderr",
          "output_type": "stream",
          "text": [
            " 16%|█▌        | 1500/9675 [00:59<02:50, 47.98it/s]"
          ]
        },
        {
          "name": "stdout",
          "output_type": "stream",
          "text": [
            "{'loss': 0.3576, 'grad_norm': 0.6492254734039307, 'learning_rate': 0.0008449612403100775, 'epoch': 3.88}\n"
          ]
        },
        {
          "name": "stderr",
          "output_type": "stream",
          "text": [
            "                                                   \n",
            " 16%|█▌        | 1509/9675 [01:01<07:33, 17.99it/s]"
          ]
        },
        {
          "name": "stdout",
          "output_type": "stream",
          "text": [
            "{'eval_loss': 0.38097748160362244, 'eval_accuracy': 0.8395998823183289, 'eval_f1_score': 0.5401484480431848, 'eval_runtime': 1.2959, 'eval_samples_per_second': 1192.179, 'eval_steps_per_second': 74.849, 'epoch': 3.88}\n"
          ]
        },
        {
          "name": "stderr",
          "output_type": "stream",
          "text": [
            " 16%|█▌        | 1550/9675 [01:02<03:53, 34.76it/s]"
          ]
        },
        {
          "name": "stdout",
          "output_type": "stream",
          "text": [
            "{'loss': 0.3541, 'grad_norm': 0.49311891198158264, 'learning_rate': 0.0008397932816537468, 'epoch': 4.01}\n"
          ]
        },
        {
          "name": "stderr",
          "output_type": "stream",
          "text": [
            "                                                   \n",
            " 16%|█▌        | 1558/9675 [01:03<09:33, 14.15it/s]"
          ]
        },
        {
          "name": "stdout",
          "output_type": "stream",
          "text": [
            "{'eval_loss': 0.3764585554599762, 'eval_accuracy': 0.8430714916151809, 'eval_f1_score': 0.5458879618593564, 'eval_runtime': 1.4483, 'eval_samples_per_second': 1066.771, 'eval_steps_per_second': 66.975, 'epoch': 4.01}\n"
          ]
        },
        {
          "name": "stderr",
          "output_type": "stream",
          "text": [
            " 17%|█▋        | 1600/9675 [01:04<02:45, 48.88it/s]"
          ]
        },
        {
          "name": "stdout",
          "output_type": "stream",
          "text": [
            "{'loss': 0.3489, 'grad_norm': 0.6168593168258667, 'learning_rate': 0.000834625322997416, 'epoch': 4.13}\n"
          ]
        },
        {
          "name": "stderr",
          "output_type": "stream",
          "text": [
            "                                                   \n",
            " 17%|█▋        | 1607/9675 [01:05<10:52, 12.37it/s]"
          ]
        },
        {
          "name": "stdout",
          "output_type": "stream",
          "text": [
            "{'eval_loss': 0.376207560300827, 'eval_accuracy': 0.842188879082083, 'eval_f1_score': 0.551654964894684, 'eval_runtime': 1.4149, 'eval_samples_per_second': 1091.927, 'eval_steps_per_second': 68.555, 'epoch': 4.13}\n"
          ]
        },
        {
          "name": "stderr",
          "output_type": "stream",
          "text": [
            " 17%|█▋        | 1650/9675 [01:06<02:59, 44.68it/s]"
          ]
        },
        {
          "name": "stdout",
          "output_type": "stream",
          "text": [
            "{'loss': 0.3455, 'grad_norm': 0.40472179651260376, 'learning_rate': 0.0008294573643410853, 'epoch': 4.26}\n"
          ]
        },
        {
          "name": "stderr",
          "output_type": "stream",
          "text": [
            "                                                   \n",
            " 17%|█▋        | 1657/9675 [01:07<09:34, 13.95it/s]"
          ]
        },
        {
          "name": "stdout",
          "output_type": "stream",
          "text": [
            "{'eval_loss': 0.3821302354335785, 'eval_accuracy': 0.8375404530744337, 'eval_f1_score': 0.5397566261043507, 'eval_runtime': 1.4011, 'eval_samples_per_second': 1102.71, 'eval_steps_per_second': 69.232, 'epoch': 4.26}\n"
          ]
        },
        {
          "name": "stderr",
          "output_type": "stream",
          "text": [
            " 18%|█▊        | 1700/9675 [01:08<03:01, 43.91it/s]"
          ]
        },
        {
          "name": "stdout",
          "output_type": "stream",
          "text": [
            "{'loss': 0.3475, 'grad_norm': 0.5903719663619995, 'learning_rate': 0.0008242894056847545, 'epoch': 4.39}\n"
          ]
        },
        {
          "name": "stderr",
          "output_type": "stream",
          "text": [
            "                                                   \n",
            " 18%|█▊        | 1706/9675 [01:09<08:57, 14.83it/s]"
          ]
        },
        {
          "name": "stdout",
          "output_type": "stream",
          "text": [
            "{'eval_loss': 0.3783859312534332, 'eval_accuracy': 0.8412474257134451, 'eval_f1_score': 0.5628645495787427, 'eval_runtime': 1.2289, 'eval_samples_per_second': 1257.177, 'eval_steps_per_second': 78.93, 'epoch': 4.39}\n"
          ]
        },
        {
          "name": "stderr",
          "output_type": "stream",
          "text": [
            " 18%|█▊        | 1750/9675 [01:10<02:45, 47.78it/s]"
          ]
        },
        {
          "name": "stdout",
          "output_type": "stream",
          "text": [
            "{'loss': 0.3465, 'grad_norm': 0.5525920987129211, 'learning_rate': 0.0008191214470284238, 'epoch': 4.52}\n"
          ]
        },
        {
          "name": "stderr",
          "output_type": "stream",
          "text": [
            "                                                   \n",
            " 18%|█▊        | 1757/9675 [01:11<08:39, 15.23it/s]"
          ]
        },
        {
          "name": "stdout",
          "output_type": "stream",
          "text": [
            "{'eval_loss': 0.3762075901031494, 'eval_accuracy': 0.8406001765225066, 'eval_f1_score': 0.5577142857142857, 'eval_runtime': 1.2957, 'eval_samples_per_second': 1192.41, 'eval_steps_per_second': 74.863, 'epoch': 4.52}\n"
          ]
        },
        {
          "name": "stderr",
          "output_type": "stream",
          "text": [
            " 19%|█▊        | 1800/9675 [01:12<03:13, 40.77it/s]"
          ]
        },
        {
          "name": "stdout",
          "output_type": "stream",
          "text": [
            "{'loss': 0.3506, 'grad_norm': 0.5622513294219971, 'learning_rate': 0.0008139534883720931, 'epoch': 4.65}\n"
          ]
        },
        {
          "name": "stderr",
          "output_type": "stream",
          "text": [
            "                                                   \n",
            " 19%|█▊        | 1810/9675 [01:13<06:50, 19.18it/s]"
          ]
        },
        {
          "name": "stdout",
          "output_type": "stream",
          "text": [
            "{'eval_loss': 0.3740222156047821, 'eval_accuracy': 0.8420711974110032, 'eval_f1_score': 0.5508701472556894, 'eval_runtime': 1.3811, 'eval_samples_per_second': 1118.675, 'eval_steps_per_second': 70.234, 'epoch': 4.65}\n"
          ]
        },
        {
          "name": "stderr",
          "output_type": "stream",
          "text": [
            " 19%|█▉        | 1850/9675 [01:14<02:51, 45.74it/s]"
          ]
        },
        {
          "name": "stdout",
          "output_type": "stream",
          "text": [
            "{'loss': 0.3413, 'grad_norm': 0.48057442903518677, 'learning_rate': 0.0008087855297157623, 'epoch': 4.78}\n"
          ]
        },
        {
          "name": "stderr",
          "output_type": "stream",
          "text": [
            "                                                   \n",
            " 19%|█▉        | 1862/9675 [01:15<06:33, 19.87it/s]"
          ]
        },
        {
          "name": "stdout",
          "output_type": "stream",
          "text": [
            "{'eval_loss': 0.37610363960266113, 'eval_accuracy': 0.8420123565754634, 'eval_f1_score': 0.5616326530612245, 'eval_runtime': 1.3609, 'eval_samples_per_second': 1135.282, 'eval_steps_per_second': 71.277, 'epoch': 4.78}\n"
          ]
        },
        {
          "name": "stderr",
          "output_type": "stream",
          "text": [
            " 20%|█▉        | 1900/9675 [01:16<02:47, 46.50it/s]"
          ]
        },
        {
          "name": "stdout",
          "output_type": "stream",
          "text": [
            "{'loss': 0.3579, 'grad_norm': 0.44067731499671936, 'learning_rate': 0.0008036175710594316, 'epoch': 4.91}\n"
          ]
        },
        {
          "name": "stderr",
          "output_type": "stream",
          "text": [
            "                                                   \n",
            " 20%|█▉        | 1905/9675 [01:17<08:29, 15.25it/s]"
          ]
        },
        {
          "name": "stdout",
          "output_type": "stream",
          "text": [
            "{'eval_loss': 0.37346237897872925, 'eval_accuracy': 0.843895263312739, 'eval_f1_score': 0.5693880863496186, 'eval_runtime': 1.2688, 'eval_samples_per_second': 1217.664, 'eval_steps_per_second': 76.449, 'epoch': 4.91}\n"
          ]
        },
        {
          "name": "stderr",
          "output_type": "stream",
          "text": [
            " 20%|██        | 1950/9675 [01:18<02:39, 48.33it/s]"
          ]
        },
        {
          "name": "stdout",
          "output_type": "stream",
          "text": [
            "{'loss': 0.3494, 'grad_norm': 0.5420166850090027, 'learning_rate': 0.0007984496124031008, 'epoch': 5.04}\n"
          ]
        },
        {
          "name": "stderr",
          "output_type": "stream",
          "text": [
            "                                                   \n",
            " 20%|██        | 1957/9675 [01:19<08:26, 15.23it/s]"
          ]
        },
        {
          "name": "stdout",
          "output_type": "stream",
          "text": [
            "{'eval_loss': 0.3731958568096161, 'eval_accuracy': 0.8410120623712857, 'eval_f1_score': 0.5603644646924829, 'eval_runtime': 1.3249, 'eval_samples_per_second': 1166.161, 'eval_steps_per_second': 73.215, 'epoch': 5.04}\n"
          ]
        },
        {
          "name": "stderr",
          "output_type": "stream",
          "text": [
            " 21%|██        | 2000/9675 [01:20<03:10, 40.38it/s]"
          ]
        },
        {
          "name": "stdout",
          "output_type": "stream",
          "text": [
            "{'loss': 0.3416, 'grad_norm': 0.5901219844818115, 'learning_rate': 0.0007932816537467701, 'epoch': 5.17}\n"
          ]
        },
        {
          "name": "stderr",
          "output_type": "stream",
          "text": [
            "                                                   \n",
            " 21%|██        | 2010/9675 [01:21<06:41, 19.07it/s]"
          ]
        },
        {
          "name": "stdout",
          "output_type": "stream",
          "text": [
            "{'eval_loss': 0.37184545397758484, 'eval_accuracy': 0.8439541041482789, 'eval_f1_score': 0.5666666666666667, 'eval_runtime': 1.3964, 'eval_samples_per_second': 1106.396, 'eval_steps_per_second': 69.463, 'epoch': 5.17}\n"
          ]
        },
        {
          "name": "stderr",
          "output_type": "stream",
          "text": [
            " 21%|██        | 2050/9675 [01:22<02:47, 45.57it/s]"
          ]
        },
        {
          "name": "stdout",
          "output_type": "stream",
          "text": [
            "{'loss': 0.3227, 'grad_norm': 0.7054568529129028, 'learning_rate': 0.0007881136950904393, 'epoch': 5.3}\n"
          ]
        },
        {
          "name": "stderr",
          "output_type": "stream",
          "text": [
            "                                                   \n",
            " 21%|██▏       | 2062/9675 [01:23<06:17, 20.14it/s]"
          ]
        },
        {
          "name": "stdout",
          "output_type": "stream",
          "text": [
            "{'eval_loss': 0.37174463272094727, 'eval_accuracy': 0.8429538099441012, 'eval_f1_score': 0.5713826882929179, 'eval_runtime': 1.3284, 'eval_samples_per_second': 1163.057, 'eval_steps_per_second': 73.02, 'epoch': 5.3}\n"
          ]
        },
        {
          "name": "stderr",
          "output_type": "stream",
          "text": [
            " 22%|██▏       | 2100/9675 [01:24<02:38, 47.89it/s]"
          ]
        },
        {
          "name": "stdout",
          "output_type": "stream",
          "text": [
            "{'loss': 0.3335, 'grad_norm': 0.6374677419662476, 'learning_rate': 0.0007829457364341085, 'epoch': 5.43}\n"
          ]
        },
        {
          "name": "stderr",
          "output_type": "stream",
          "text": [
            "                                                   \n",
            " 22%|██▏       | 2105/9675 [01:25<08:20, 15.11it/s]"
          ]
        },
        {
          "name": "stdout",
          "output_type": "stream",
          "text": [
            "{'eval_loss': 0.37084051966667175, 'eval_accuracy': 0.8448367166813768, 'eval_f1_score': 0.5710102489019033, 'eval_runtime': 1.3052, 'eval_samples_per_second': 1183.706, 'eval_steps_per_second': 74.317, 'epoch': 5.43}\n"
          ]
        },
        {
          "name": "stderr",
          "output_type": "stream",
          "text": [
            " 22%|██▏       | 2150/9675 [01:26<02:47, 44.82it/s]"
          ]
        },
        {
          "name": "stdout",
          "output_type": "stream",
          "text": [
            "{'loss': 0.3343, 'grad_norm': 0.5308833122253418, 'learning_rate': 0.0007777777777777778, 'epoch': 5.56}\n"
          ]
        },
        {
          "name": "stderr",
          "output_type": "stream",
          "text": [
            "                                                   \n",
            " 22%|██▏       | 2164/9675 [01:27<06:33, 19.08it/s]"
          ]
        },
        {
          "name": "stdout",
          "output_type": "stream",
          "text": [
            "{'eval_loss': 0.3689294457435608, 'eval_accuracy': 0.846954986760812, 'eval_f1_score': 0.5724149268453066, 'eval_runtime': 1.4069, 'eval_samples_per_second': 1098.123, 'eval_steps_per_second': 68.944, 'epoch': 5.56}\n"
          ]
        },
        {
          "name": "stderr",
          "output_type": "stream",
          "text": [
            " 23%|██▎       | 2200/9675 [01:28<02:39, 46.86it/s]"
          ]
        },
        {
          "name": "stdout",
          "output_type": "stream",
          "text": [
            "{'loss': 0.3299, 'grad_norm': 0.4467376470565796, 'learning_rate': 0.000772609819121447, 'epoch': 5.68}\n"
          ]
        },
        {
          "name": "stderr",
          "output_type": "stream",
          "text": [
            "                                                   \n",
            " 23%|██▎       | 2208/9675 [01:29<08:47, 14.16it/s]"
          ]
        },
        {
          "name": "stdout",
          "output_type": "stream",
          "text": [
            "{'eval_loss': 0.3725939095020294, 'eval_accuracy': 0.8434245366284201, 'eval_f1_score': 0.5618310554915198, 'eval_runtime': 1.4193, 'eval_samples_per_second': 1088.556, 'eval_steps_per_second': 68.343, 'epoch': 5.68}\n"
          ]
        },
        {
          "name": "stderr",
          "output_type": "stream",
          "text": [
            " 23%|██▎       | 2250/9675 [01:30<03:10, 38.99it/s]"
          ]
        },
        {
          "name": "stdout",
          "output_type": "stream",
          "text": [
            "{'loss': 0.3373, 'grad_norm': 0.6896238923072815, 'learning_rate': 0.0007674418604651164, 'epoch': 5.81}\n"
          ]
        },
        {
          "name": "stderr",
          "output_type": "stream",
          "text": [
            "                                                   \n",
            " 23%|██▎       | 2260/9675 [01:32<06:41, 18.48it/s]"
          ]
        },
        {
          "name": "stdout",
          "output_type": "stream",
          "text": [
            "{'eval_loss': 0.3699314296245575, 'eval_accuracy': 0.8454839658723153, 'eval_f1_score': 0.573146944083225, 'eval_runtime': 1.3725, 'eval_samples_per_second': 1125.68, 'eval_steps_per_second': 70.674, 'epoch': 5.81}\n"
          ]
        },
        {
          "name": "stderr",
          "output_type": "stream",
          "text": [
            " 24%|██▍       | 2300/9675 [01:32<02:41, 45.69it/s]"
          ]
        },
        {
          "name": "stdout",
          "output_type": "stream",
          "text": [
            "{'loss': 0.3376, 'grad_norm': 0.8064349293708801, 'learning_rate': 0.0007622739018087856, 'epoch': 5.94}\n"
          ]
        },
        {
          "name": "stderr",
          "output_type": "stream",
          "text": [
            "                                                   \n",
            " 24%|██▍       | 2311/9675 [01:34<06:40, 18.39it/s]"
          ]
        },
        {
          "name": "stdout",
          "output_type": "stream",
          "text": [
            "{'eval_loss': 0.37011152505874634, 'eval_accuracy': 0.8444836716681376, 'eval_f1_score': 0.5652245435104458, 'eval_runtime': 1.4174, 'eval_samples_per_second': 1089.997, 'eval_steps_per_second': 68.433, 'epoch': 5.94}\n"
          ]
        },
        {
          "name": "stderr",
          "output_type": "stream",
          "text": [
            " 24%|██▍       | 2350/9675 [01:34<02:45, 44.24it/s]"
          ]
        },
        {
          "name": "stdout",
          "output_type": "stream",
          "text": [
            "{'loss': 0.3236, 'grad_norm': 0.4630815088748932, 'learning_rate': 0.0007571059431524549, 'epoch': 6.07}\n"
          ]
        },
        {
          "name": "stderr",
          "output_type": "stream",
          "text": [
            "                                                   \n",
            " 24%|██▍       | 2362/9675 [01:36<06:10, 19.73it/s]"
          ]
        },
        {
          "name": "stdout",
          "output_type": "stream",
          "text": [
            "{'eval_loss': 0.3711334466934204, 'eval_accuracy': 0.8442483083259782, 'eval_f1_score': 0.5696634693545765, 'eval_runtime': 1.333, 'eval_samples_per_second': 1159.08, 'eval_steps_per_second': 72.771, 'epoch': 6.07}\n"
          ]
        },
        {
          "name": "stderr",
          "output_type": "stream",
          "text": [
            " 25%|██▍       | 2400/9675 [01:36<02:37, 46.25it/s]"
          ]
        },
        {
          "name": "stdout",
          "output_type": "stream",
          "text": [
            "{'loss': 0.3191, 'grad_norm': 0.5465372800827026, 'learning_rate': 0.0007519379844961241, 'epoch': 6.2}\n"
          ]
        },
        {
          "name": "stderr",
          "output_type": "stream",
          "text": [
            "                                                   \n",
            " 25%|██▍       | 2404/9675 [01:38<08:24, 14.41it/s]"
          ]
        },
        {
          "name": "stdout",
          "output_type": "stream",
          "text": [
            "{'eval_loss': 0.3688173294067383, 'eval_accuracy': 0.8456016475433951, 'eval_f1_score': 0.5754045307443366, 'eval_runtime': 1.3391, 'eval_samples_per_second': 1153.758, 'eval_steps_per_second': 72.437, 'epoch': 6.2}\n"
          ]
        },
        {
          "name": "stderr",
          "output_type": "stream",
          "text": [
            " 25%|██▌       | 2450/9675 [01:38<02:37, 45.95it/s]"
          ]
        },
        {
          "name": "stdout",
          "output_type": "stream",
          "text": [
            "{'loss': 0.3289, 'grad_norm': 0.4580507278442383, 'learning_rate': 0.0007467700258397932, 'epoch': 6.33}\n"
          ]
        },
        {
          "name": "stderr",
          "output_type": "stream",
          "text": [
            "                                                   \n",
            " 25%|██▌       | 2463/9675 [01:40<06:21, 18.91it/s]"
          ]
        },
        {
          "name": "stdout",
          "output_type": "stream",
          "text": [
            "{'eval_loss': 0.37395012378692627, 'eval_accuracy': 0.8434245366284201, 'eval_f1_score': 0.574716317724149, 'eval_runtime': 1.3727, 'eval_samples_per_second': 1125.489, 'eval_steps_per_second': 70.662, 'epoch': 6.33}\n"
          ]
        },
        {
          "name": "stderr",
          "output_type": "stream",
          "text": [
            " 26%|██▌       | 2500/9675 [01:40<02:31, 47.22it/s]"
          ]
        },
        {
          "name": "stdout",
          "output_type": "stream",
          "text": [
            "{'loss': 0.3147, 'grad_norm': 0.6926022171974182, 'learning_rate': 0.0007416020671834625, 'epoch': 6.46}\n"
          ]
        },
        {
          "name": "stderr",
          "output_type": "stream",
          "text": [
            "                                                   \n",
            " 26%|██▌       | 2507/9675 [01:42<07:41, 15.53it/s]"
          ]
        },
        {
          "name": "stdout",
          "output_type": "stream",
          "text": [
            "{'eval_loss': 0.3695686161518097, 'eval_accuracy': 0.8452486025301559, 'eval_f1_score': 0.577713551701991, 'eval_runtime': 1.2466, 'eval_samples_per_second': 1239.392, 'eval_steps_per_second': 77.813, 'epoch': 6.46}\n"
          ]
        },
        {
          "name": "stderr",
          "output_type": "stream",
          "text": [
            " 26%|██▋       | 2550/9675 [01:42<02:29, 47.68it/s]"
          ]
        },
        {
          "name": "stdout",
          "output_type": "stream",
          "text": [
            "{'loss': 0.3347, 'grad_norm': 0.4860627055168152, 'learning_rate': 0.0007364341085271317, 'epoch': 6.59}\n"
          ]
        },
        {
          "name": "stderr",
          "output_type": "stream",
          "text": [
            "                                                   \n",
            " 26%|██▋       | 2557/9675 [01:44<07:49, 15.15it/s]"
          ]
        },
        {
          "name": "stdout",
          "output_type": "stream",
          "text": [
            "{'eval_loss': 0.3724135458469391, 'eval_accuracy': 0.8436010591350397, 'eval_f1_score': 0.562828947368421, 'eval_runtime': 1.3212, 'eval_samples_per_second': 1169.435, 'eval_steps_per_second': 73.421, 'epoch': 6.59}\n"
          ]
        },
        {
          "name": "stderr",
          "output_type": "stream",
          "text": [
            " 27%|██▋       | 2600/9675 [01:44<02:54, 40.50it/s]"
          ]
        },
        {
          "name": "stdout",
          "output_type": "stream",
          "text": [
            "{'loss': 0.3203, 'grad_norm': 0.6339017748832703, 'learning_rate': 0.000731266149870801, 'epoch': 6.72}\n"
          ]
        },
        {
          "name": "stderr",
          "output_type": "stream",
          "text": [
            "                                                   \n",
            " 27%|██▋       | 2609/9675 [01:46<06:27, 18.23it/s]"
          ]
        },
        {
          "name": "stdout",
          "output_type": "stream",
          "text": [
            "{'eval_loss': 0.37056082487106323, 'eval_accuracy': 0.846131215063254, 'eval_f1_score': 0.5823350902411756, 'eval_runtime': 1.4142, 'eval_samples_per_second': 1092.479, 'eval_steps_per_second': 68.589, 'epoch': 6.72}\n"
          ]
        },
        {
          "name": "stderr",
          "output_type": "stream",
          "text": [
            " 27%|██▋       | 2650/9675 [01:46<02:38, 44.38it/s]"
          ]
        },
        {
          "name": "stdout",
          "output_type": "stream",
          "text": [
            "{'loss': 0.3193, 'grad_norm': 0.4936107099056244, 'learning_rate': 0.0007260981912144703, 'epoch': 6.85}\n"
          ]
        },
        {
          "name": "stderr",
          "output_type": "stream",
          "text": [
            "                                                   \n",
            " 27%|██▋       | 2659/9675 [01:48<05:51, 19.95it/s]"
          ]
        },
        {
          "name": "stdout",
          "output_type": "stream",
          "text": [
            "{'eval_loss': 0.3822998106479645, 'eval_accuracy': 0.8382465431009121, 'eval_f1_score': 0.5593845167494791, 'eval_runtime': 1.2612, 'eval_samples_per_second': 1224.995, 'eval_steps_per_second': 76.909, 'epoch': 6.85}\n"
          ]
        },
        {
          "name": "stderr",
          "output_type": "stream",
          "text": [
            " 28%|██▊       | 2700/9675 [01:48<02:26, 47.73it/s]"
          ]
        },
        {
          "name": "stdout",
          "output_type": "stream",
          "text": [
            "{'loss': 0.3267, 'grad_norm': 0.616814911365509, 'learning_rate': 0.0007209302325581395, 'epoch': 6.98}\n"
          ]
        },
        {
          "name": "stderr",
          "output_type": "stream",
          "text": [
            "                                                   \n",
            " 28%|██▊       | 2710/9675 [01:50<06:11, 18.73it/s]"
          ]
        },
        {
          "name": "stdout",
          "output_type": "stream",
          "text": [
            "{'eval_loss': 0.3713616728782654, 'eval_accuracy': 0.8458958517210945, 'eval_f1_score': 0.5826294820717132, 'eval_runtime': 1.3904, 'eval_samples_per_second': 1111.22, 'eval_steps_per_second': 69.766, 'epoch': 6.98}\n"
          ]
        },
        {
          "name": "stderr",
          "output_type": "stream",
          "text": [
            " 28%|██▊       | 2750/9675 [01:50<02:32, 45.43it/s]"
          ]
        },
        {
          "name": "stdout",
          "output_type": "stream",
          "text": [
            "{'loss': 0.312, 'grad_norm': 0.4500008225440979, 'learning_rate': 0.0007157622739018088, 'epoch': 7.11}\n"
          ]
        },
        {
          "name": "stderr",
          "output_type": "stream",
          "text": [
            "                                                   \n",
            " 29%|██▊       | 2761/9675 [01:52<06:26, 17.88it/s]"
          ]
        },
        {
          "name": "stdout",
          "output_type": "stream",
          "text": [
            "{'eval_loss': 0.36807844042778015, 'eval_accuracy': 0.8473080317740512, 'eval_f1_score': 0.5800291309273345, 'eval_runtime': 1.4935, 'eval_samples_per_second': 1034.483, 'eval_steps_per_second': 64.948, 'epoch': 7.11}\n"
          ]
        },
        {
          "name": "stderr",
          "output_type": "stream",
          "text": [
            " 29%|██▉       | 2800/9675 [01:52<02:38, 43.33it/s]"
          ]
        },
        {
          "name": "stdout",
          "output_type": "stream",
          "text": [
            "{'loss': 0.3132, 'grad_norm': 0.38282349705696106, 'learning_rate': 0.000710594315245478, 'epoch': 7.24}\n"
          ]
        },
        {
          "name": "stderr",
          "output_type": "stream",
          "text": [
            "                                                   \n",
            " 29%|██▉       | 2810/9675 [01:54<07:38, 14.97it/s]"
          ]
        },
        {
          "name": "stdout",
          "output_type": "stream",
          "text": [
            "{'eval_loss': 0.3730011284351349, 'eval_accuracy': 0.8443071491615181, 'eval_f1_score': 0.5831758034026465, 'eval_runtime': 1.8299, 'eval_samples_per_second': 844.311, 'eval_steps_per_second': 53.009, 'epoch': 7.24}\n"
          ]
        },
        {
          "name": "stderr",
          "output_type": "stream",
          "text": [
            " 29%|██▉       | 2850/9675 [01:55<02:53, 39.44it/s]"
          ]
        },
        {
          "name": "stdout",
          "output_type": "stream",
          "text": [
            "{'loss': 0.3221, 'grad_norm': 0.5757938027381897, 'learning_rate': 0.0007054263565891473, 'epoch': 7.36}\n"
          ]
        },
        {
          "name": "stderr",
          "output_type": "stream",
          "text": [
            "                                                   \n",
            " 30%|██▉       | 2861/9675 [01:56<05:50, 19.42it/s]"
          ]
        },
        {
          "name": "stdout",
          "output_type": "stream",
          "text": [
            "{'eval_loss': 0.37033811211586, 'eval_accuracy': 0.8456016475433951, 'eval_f1_score': 0.5817660184890022, 'eval_runtime': 1.3054, 'eval_samples_per_second': 1183.521, 'eval_steps_per_second': 74.305, 'epoch': 7.36}\n"
          ]
        },
        {
          "name": "stderr",
          "output_type": "stream",
          "text": [
            " 30%|██▉       | 2900/9675 [01:57<02:28, 45.53it/s]"
          ]
        },
        {
          "name": "stdout",
          "output_type": "stream",
          "text": [
            "{'loss': 0.3154, 'grad_norm': 0.4431299865245819, 'learning_rate': 0.0007002583979328165, 'epoch': 7.49}\n"
          ]
        },
        {
          "name": "stderr",
          "output_type": "stream",
          "text": [
            "                                                   \n",
            " 30%|███       | 2910/9675 [01:58<05:51, 19.25it/s]"
          ]
        },
        {
          "name": "stdout",
          "output_type": "stream",
          "text": [
            "{'eval_loss': 0.36865466833114624, 'eval_accuracy': 0.845189761694616, 'eval_f1_score': 0.5792419638573485, 'eval_runtime': 1.2951, 'eval_samples_per_second': 1192.932, 'eval_steps_per_second': 74.896, 'epoch': 7.49}\n"
          ]
        },
        {
          "name": "stderr",
          "output_type": "stream",
          "text": [
            " 30%|███       | 2950/9675 [01:59<02:22, 47.14it/s]"
          ]
        },
        {
          "name": "stdout",
          "output_type": "stream",
          "text": [
            "{'loss': 0.317, 'grad_norm': 0.31093159317970276, 'learning_rate': 0.0006950904392764858, 'epoch': 7.62}\n"
          ]
        },
        {
          "name": "stderr",
          "output_type": "stream",
          "text": [
            "                                                   \n",
            " 31%|███       | 2961/9675 [02:00<05:28, 20.41it/s]"
          ]
        },
        {
          "name": "stdout",
          "output_type": "stream",
          "text": [
            "{'eval_loss': 0.3688896894454956, 'eval_accuracy': 0.8471903501029715, 'eval_f1_score': 0.5813316137352894, 'eval_runtime': 1.2453, 'eval_samples_per_second': 1240.639, 'eval_steps_per_second': 77.891, 'epoch': 7.62}\n"
          ]
        },
        {
          "name": "stderr",
          "output_type": "stream",
          "text": [
            " 31%|███       | 3000/9675 [02:01<02:19, 47.84it/s]"
          ]
        },
        {
          "name": "stdout",
          "output_type": "stream",
          "text": [
            "{'loss': 0.3205, 'grad_norm': 0.5461407899856567, 'learning_rate': 0.000689922480620155, 'epoch': 7.75}\n"
          ]
        },
        {
          "name": "stderr",
          "output_type": "stream",
          "text": [
            "                                                   \n",
            " 31%|███       | 3011/9675 [02:02<05:59, 18.54it/s]"
          ]
        },
        {
          "name": "stdout",
          "output_type": "stream",
          "text": [
            "{'eval_loss': 0.3682026267051697, 'eval_accuracy': 0.8472491909385114, 'eval_f1_score': 0.5830388692579506, 'eval_runtime': 1.4049, 'eval_samples_per_second': 1099.7, 'eval_steps_per_second': 69.043, 'epoch': 7.75}\n"
          ]
        },
        {
          "name": "stderr",
          "output_type": "stream",
          "text": [
            " 32%|███▏      | 3050/9675 [02:03<02:31, 43.62it/s]"
          ]
        },
        {
          "name": "stdout",
          "output_type": "stream",
          "text": [
            "{'loss': 0.3097, 'grad_norm': 0.4653273820877075, 'learning_rate': 0.0006847545219638243, 'epoch': 7.88}\n"
          ]
        },
        {
          "name": "stderr",
          "output_type": "stream",
          "text": [
            "                                                   \n",
            " 32%|███▏      | 3060/9675 [02:04<05:28, 20.11it/s]"
          ]
        },
        {
          "name": "stdout",
          "output_type": "stream",
          "text": [
            "{'eval_loss': 0.3677736818790436, 'eval_accuracy': 0.8474845542806708, 'eval_f1_score': 0.5844822058352036, 'eval_runtime': 1.2655, 'eval_samples_per_second': 1220.883, 'eval_steps_per_second': 76.651, 'epoch': 7.88}\n"
          ]
        },
        {
          "name": "stderr",
          "output_type": "stream",
          "text": [
            " 32%|███▏      | 3100/9675 [02:05<02:14, 48.94it/s]"
          ]
        },
        {
          "name": "stdout",
          "output_type": "stream",
          "text": [
            "{'loss': 0.3154, 'grad_norm': 0.39464065432548523, 'learning_rate': 0.0006795865633074936, 'epoch': 8.01}\n"
          ]
        },
        {
          "name": "stderr",
          "output_type": "stream",
          "text": [
            "                                                   \n",
            " 32%|███▏      | 3104/9675 [02:06<07:15, 15.10it/s]"
          ]
        },
        {
          "name": "stdout",
          "output_type": "stream",
          "text": [
            "{'eval_loss': 0.3671926259994507, 'eval_accuracy': 0.8478964401294499, 'eval_f1_score': 0.5800162469536961, 'eval_runtime': 1.3167, 'eval_samples_per_second': 1173.423, 'eval_steps_per_second': 73.671, 'epoch': 8.01}\n"
          ]
        },
        {
          "name": "stderr",
          "output_type": "stream",
          "text": [
            " 33%|███▎      | 3150/9675 [02:07<02:23, 45.62it/s]"
          ]
        },
        {
          "name": "stdout",
          "output_type": "stream",
          "text": [
            "{'loss': 0.3017, 'grad_norm': 0.3967902362346649, 'learning_rate': 0.0006744186046511628, 'epoch': 8.14}\n"
          ]
        },
        {
          "name": "stderr",
          "output_type": "stream",
          "text": [
            "                                                   \n",
            " 33%|███▎      | 3161/9675 [02:08<05:33, 19.52it/s]"
          ]
        },
        {
          "name": "stdout",
          "output_type": "stream",
          "text": [
            "{'eval_loss': 0.36607053875923157, 'eval_accuracy': 0.8467196234186526, 'eval_f1_score': 0.5792279114844129, 'eval_runtime': 1.2925, 'eval_samples_per_second': 1195.341, 'eval_steps_per_second': 75.047, 'epoch': 8.14}\n"
          ]
        },
        {
          "name": "stderr",
          "output_type": "stream",
          "text": [
            " 33%|███▎      | 3200/9675 [02:09<02:26, 44.12it/s]"
          ]
        },
        {
          "name": "stdout",
          "output_type": "stream",
          "text": [
            "{'loss': 0.3019, 'grad_norm': 0.8360742330551147, 'learning_rate': 0.0006692506459948321, 'epoch': 8.27}\n"
          ]
        },
        {
          "name": "stderr",
          "output_type": "stream",
          "text": [
            "                                                   \n",
            " 33%|███▎      | 3209/9675 [02:10<05:37, 19.18it/s]"
          ]
        },
        {
          "name": "stdout",
          "output_type": "stream",
          "text": [
            "{'eval_loss': 0.37100091576576233, 'eval_accuracy': 0.846543100912033, 'eval_f1_score': 0.5881238155401137, 'eval_runtime': 1.2595, 'eval_samples_per_second': 1226.683, 'eval_steps_per_second': 77.015, 'epoch': 8.27}\n"
          ]
        },
        {
          "name": "stderr",
          "output_type": "stream",
          "text": [
            " 34%|███▎      | 3250/9675 [02:11<02:13, 48.02it/s]"
          ]
        },
        {
          "name": "stdout",
          "output_type": "stream",
          "text": [
            "{'loss': 0.3036, 'grad_norm': 0.4209347367286682, 'learning_rate': 0.0006640826873385013, 'epoch': 8.4}\n"
          ]
        },
        {
          "name": "stderr",
          "output_type": "stream",
          "text": [
            "                                                   \n",
            " 34%|███▎      | 3262/9675 [02:12<05:22, 19.86it/s]"
          ]
        },
        {
          "name": "stdout",
          "output_type": "stream",
          "text": [
            "{'eval_loss': 0.36854347586631775, 'eval_accuracy': 0.8470138275963519, 'eval_f1_score': 0.5892575039494471, 'eval_runtime': 1.3698, 'eval_samples_per_second': 1127.896, 'eval_steps_per_second': 70.813, 'epoch': 8.4}\n"
          ]
        },
        {
          "name": "stderr",
          "output_type": "stream",
          "text": [
            " 34%|███▍      | 3300/9675 [02:13<02:15, 47.20it/s]"
          ]
        },
        {
          "name": "stdout",
          "output_type": "stream",
          "text": [
            "{'loss': 0.303, 'grad_norm': 0.7245590090751648, 'learning_rate': 0.0006589147286821705, 'epoch': 8.53}\n"
          ]
        },
        {
          "name": "stderr",
          "output_type": "stream",
          "text": [
            "                                                   \n",
            " 34%|███▍      | 3313/9675 [02:14<05:50, 18.14it/s]"
          ]
        },
        {
          "name": "stdout",
          "output_type": "stream",
          "text": [
            "{'eval_loss': 0.3697831630706787, 'eval_accuracy': 0.8449543983524566, 'eval_f1_score': 0.5776566757493188, 'eval_runtime': 1.4628, 'eval_samples_per_second': 1056.195, 'eval_steps_per_second': 66.311, 'epoch': 8.53}\n"
          ]
        },
        {
          "name": "stderr",
          "output_type": "stream",
          "text": [
            " 35%|███▍      | 3350/9675 [02:15<02:23, 44.00it/s]"
          ]
        },
        {
          "name": "stdout",
          "output_type": "stream",
          "text": [
            "{'loss': 0.3105, 'grad_norm': 0.5029395818710327, 'learning_rate': 0.0006537467700258398, 'epoch': 8.66}\n"
          ]
        },
        {
          "name": "stderr",
          "output_type": "stream",
          "text": [
            "                                                   \n",
            " 35%|███▍      | 3364/9675 [02:16<05:17, 19.87it/s]"
          ]
        },
        {
          "name": "stdout",
          "output_type": "stream",
          "text": [
            "{'eval_loss': 0.3679705560207367, 'eval_accuracy': 0.8464842600764931, 'eval_f1_score': 0.579532634971797, 'eval_runtime': 1.3074, 'eval_samples_per_second': 1181.769, 'eval_steps_per_second': 74.195, 'epoch': 8.66}\n"
          ]
        },
        {
          "name": "stderr",
          "output_type": "stream",
          "text": [
            " 35%|███▌      | 3400/9675 [02:17<02:15, 46.37it/s]"
          ]
        },
        {
          "name": "stdout",
          "output_type": "stream",
          "text": [
            "{'loss': 0.311, 'grad_norm': 0.4803599715232849, 'learning_rate': 0.000648578811369509, 'epoch': 8.79}\n"
          ]
        },
        {
          "name": "stderr",
          "output_type": "stream",
          "text": [
            "                                                   \n",
            " 35%|███▌      | 3406/9675 [02:18<07:06, 14.68it/s]"
          ]
        },
        {
          "name": "stdout",
          "output_type": "stream",
          "text": [
            "{'eval_loss': 0.37024590373039246, 'eval_accuracy': 0.8472491909385114, 'eval_f1_score': 0.5909234163252443, 'eval_runtime': 1.3088, 'eval_samples_per_second': 1180.433, 'eval_steps_per_second': 74.111, 'epoch': 8.79}\n"
          ]
        },
        {
          "name": "stderr",
          "output_type": "stream",
          "text": [
            " 36%|███▌      | 3450/9675 [02:19<02:13, 46.77it/s]"
          ]
        },
        {
          "name": "stdout",
          "output_type": "stream",
          "text": [
            "{'loss': 0.319, 'grad_norm': 0.4178926348686218, 'learning_rate': 0.0006434108527131784, 'epoch': 8.91}\n"
          ]
        },
        {
          "name": "stderr",
          "output_type": "stream",
          "text": [
            "                                                   \n",
            " 36%|███▌      | 3458/9675 [02:20<06:59, 14.82it/s]"
          ]
        },
        {
          "name": "stdout",
          "output_type": "stream",
          "text": [
            "{'eval_loss': 0.3691504895687103, 'eval_accuracy': 0.8473668726095911, 'eval_f1_score': 0.5889064976228209, 'eval_runtime': 1.3492, 'eval_samples_per_second': 1145.126, 'eval_steps_per_second': 71.895, 'epoch': 8.91}\n"
          ]
        },
        {
          "name": "stderr",
          "output_type": "stream",
          "text": [
            " 36%|███▌      | 3500/9675 [02:21<02:14, 45.82it/s]"
          ]
        },
        {
          "name": "stdout",
          "output_type": "stream",
          "text": [
            "{'loss': 0.2958, 'grad_norm': 0.6293174624443054, 'learning_rate': 0.0006382428940568476, 'epoch': 9.04}\n"
          ]
        },
        {
          "name": "stderr",
          "output_type": "stream",
          "text": [
            "                                                   \n",
            " 36%|███▋      | 3508/9675 [02:22<07:06, 14.45it/s]"
          ]
        },
        {
          "name": "stdout",
          "output_type": "stream",
          "text": [
            "{'eval_loss': 0.3669680058956146, 'eval_accuracy': 0.8480729626360695, 'eval_f1_score': 0.5887225230965275, 'eval_runtime': 1.33, 'eval_samples_per_second': 1161.628, 'eval_steps_per_second': 72.931, 'epoch': 9.04}\n"
          ]
        },
        {
          "name": "stderr",
          "output_type": "stream",
          "text": [
            " 37%|███▋      | 3550/9675 [02:23<02:11, 46.48it/s]"
          ]
        },
        {
          "name": "stdout",
          "output_type": "stream",
          "text": [
            "{'loss': 0.2879, 'grad_norm': 0.5556517839431763, 'learning_rate': 0.0006330749354005169, 'epoch': 9.17}\n"
          ]
        },
        {
          "name": "stderr",
          "output_type": "stream",
          "text": [
            "                                                   \n",
            " 37%|███▋      | 3558/9675 [02:24<06:38, 15.35it/s]"
          ]
        },
        {
          "name": "stdout",
          "output_type": "stream",
          "text": [
            "{'eval_loss': 0.36941230297088623, 'eval_accuracy': 0.8470726684318918, 'eval_f1_score': 0.5850231518441641, 'eval_runtime': 1.2779, 'eval_samples_per_second': 1209.005, 'eval_steps_per_second': 75.905, 'epoch': 9.17}\n"
          ]
        },
        {
          "name": "stderr",
          "output_type": "stream",
          "text": [
            " 37%|███▋      | 3600/9675 [02:25<02:27, 41.25it/s]"
          ]
        },
        {
          "name": "stdout",
          "output_type": "stream",
          "text": [
            "{'loss': 0.292, 'grad_norm': 0.4308937191963196, 'learning_rate': 0.0006279069767441861, 'epoch': 9.3}\n"
          ]
        },
        {
          "name": "stderr",
          "output_type": "stream",
          "text": [
            "                                                   \n",
            " 37%|███▋      | 3602/9675 [02:26<07:01, 14.42it/s]"
          ]
        },
        {
          "name": "stdout",
          "output_type": "stream",
          "text": [
            "{'eval_loss': 0.3706169128417969, 'eval_accuracy': 0.846954986760812, 'eval_f1_score': 0.5873393622084722, 'eval_runtime': 1.3003, 'eval_samples_per_second': 1188.182, 'eval_steps_per_second': 74.598, 'epoch': 9.3}\n"
          ]
        },
        {
          "name": "stderr",
          "output_type": "stream",
          "text": [
            " 38%|███▊      | 3650/9675 [02:27<02:12, 45.34it/s]"
          ]
        },
        {
          "name": "stdout",
          "output_type": "stream",
          "text": [
            "{'loss': 0.3004, 'grad_norm': 0.4353162348270416, 'learning_rate': 0.0006227390180878553, 'epoch': 9.43}\n"
          ]
        },
        {
          "name": "stderr",
          "output_type": "stream",
          "text": [
            "                                                   \n",
            " 38%|███▊      | 3662/9675 [02:28<04:58, 20.14it/s]"
          ]
        },
        {
          "name": "stdout",
          "output_type": "stream",
          "text": [
            "{'eval_loss': 0.368987500667572, 'eval_accuracy': 0.8485436893203884, 'eval_f1_score': 0.5956644674835061, 'eval_runtime': 1.2952, 'eval_samples_per_second': 1192.908, 'eval_steps_per_second': 74.895, 'epoch': 9.43}\n"
          ]
        },
        {
          "name": "stderr",
          "output_type": "stream",
          "text": [
            " 38%|███▊      | 3700/9675 [02:28<02:06, 47.14it/s]"
          ]
        },
        {
          "name": "stdout",
          "output_type": "stream",
          "text": [
            "{'loss': 0.2945, 'grad_norm': 0.5410159230232239, 'learning_rate': 0.0006175710594315246, 'epoch': 9.56}\n"
          ]
        },
        {
          "name": "stderr",
          "output_type": "stream",
          "text": [
            "                                                   \n",
            " 38%|███▊      | 3704/9675 [02:30<06:32, 15.23it/s]"
          ]
        },
        {
          "name": "stdout",
          "output_type": "stream",
          "text": [
            "{'eval_loss': 0.36996975541114807, 'eval_accuracy': 0.8460723742277141, 'eval_f1_score': 0.587641866330391, 'eval_runtime': 1.2545, 'eval_samples_per_second': 1231.6, 'eval_steps_per_second': 77.324, 'epoch': 9.56}\n"
          ]
        },
        {
          "name": "stderr",
          "output_type": "stream",
          "text": [
            " 39%|███▉      | 3750/9675 [02:30<02:04, 47.74it/s]"
          ]
        },
        {
          "name": "stdout",
          "output_type": "stream",
          "text": [
            "{'loss': 0.3036, 'grad_norm': 0.4018622040748596, 'learning_rate': 0.0006124031007751938, 'epoch': 9.69}\n"
          ]
        },
        {
          "name": "stderr",
          "output_type": "stream",
          "text": [
            "                                                   \n",
            " 39%|███▉      | 3765/9675 [02:32<04:55, 20.00it/s]"
          ]
        },
        {
          "name": "stdout",
          "output_type": "stream",
          "text": [
            "{'eval_loss': 0.36770644783973694, 'eval_accuracy': 0.846954986760812, 'eval_f1_score': 0.5837734037445992, 'eval_runtime': 1.3444, 'eval_samples_per_second': 1149.173, 'eval_steps_per_second': 72.149, 'epoch': 9.69}\n"
          ]
        },
        {
          "name": "stderr",
          "output_type": "stream",
          "text": [
            " 39%|███▉      | 3800/9675 [02:32<02:06, 46.36it/s]"
          ]
        },
        {
          "name": "stdout",
          "output_type": "stream",
          "text": [
            "{'loss': 0.3005, 'grad_norm': 0.4107981026172638, 'learning_rate': 0.0006072351421188631, 'epoch': 9.82}\n"
          ]
        },
        {
          "name": "stderr",
          "output_type": "stream",
          "text": [
            "                                                   \n",
            " 39%|███▉      | 3807/9675 [02:34<06:22, 15.34it/s]"
          ]
        },
        {
          "name": "stdout",
          "output_type": "stream",
          "text": [
            "{'eval_loss': 0.37068676948547363, 'eval_accuracy': 0.846543100912033, 'eval_f1_score': 0.581783194355356, 'eval_runtime': 1.2462, 'eval_samples_per_second': 1239.793, 'eval_steps_per_second': 77.838, 'epoch': 9.82}\n"
          ]
        },
        {
          "name": "stderr",
          "output_type": "stream",
          "text": [
            " 40%|███▉      | 3850/9675 [02:34<02:03, 47.02it/s]"
          ]
        },
        {
          "name": "stdout",
          "output_type": "stream",
          "text": [
            "{'loss': 0.3006, 'grad_norm': 0.48901012539863586, 'learning_rate': 0.0006020671834625324, 'epoch': 9.95}\n"
          ]
        },
        {
          "name": "stderr",
          "output_type": "stream",
          "text": [
            "                                                   \n",
            " 40%|███▉      | 3866/9675 [02:36<05:00, 19.35it/s]"
          ]
        },
        {
          "name": "stdout",
          "output_type": "stream",
          "text": [
            "{'eval_loss': 0.37282055616378784, 'eval_accuracy': 0.8460135333921742, 'eval_f1_score': 0.5903897323524808, 'eval_runtime': 1.4059, 'eval_samples_per_second': 1098.948, 'eval_steps_per_second': 68.995, 'epoch': 9.95}\n"
          ]
        },
        {
          "name": "stderr",
          "output_type": "stream",
          "text": [
            " 40%|████      | 3900/9675 [02:36<02:28, 38.99it/s]"
          ]
        },
        {
          "name": "stdout",
          "output_type": "stream",
          "text": [
            "{'loss': 0.2982, 'grad_norm': 0.5832831859588623, 'learning_rate': 0.0005968992248062016, 'epoch': 10.08}\n"
          ]
        },
        {
          "name": "stderr",
          "output_type": "stream",
          "text": [
            "                                                   \n",
            " 40%|████      | 3909/9675 [02:38<05:03, 19.02it/s]"
          ]
        },
        {
          "name": "stdout",
          "output_type": "stream",
          "text": [
            "{'eval_loss': 0.3679731786251068, 'eval_accuracy': 0.8471903501029715, 'eval_f1_score': 0.5866624224096769, 'eval_runtime': 1.3022, 'eval_samples_per_second': 1186.438, 'eval_steps_per_second': 74.488, 'epoch': 10.08}\n"
          ]
        },
        {
          "name": "stderr",
          "output_type": "stream",
          "text": [
            " 41%|████      | 3950/9675 [02:38<02:05, 45.50it/s]"
          ]
        },
        {
          "name": "stdout",
          "output_type": "stream",
          "text": [
            "{'loss': 0.2822, 'grad_norm': 0.5679050087928772, 'learning_rate': 0.0005917312661498709, 'epoch': 10.21}\n"
          ]
        },
        {
          "name": "stderr",
          "output_type": "stream",
          "text": [
            "                                                   \n",
            " 41%|████      | 3959/9675 [02:40<04:57, 19.23it/s]"
          ]
        },
        {
          "name": "stdout",
          "output_type": "stream",
          "text": [
            "{'eval_loss': 0.3711822032928467, 'eval_accuracy': 0.8453074433656957, 'eval_f1_score': 0.5872193436960277, 'eval_runtime': 1.3411, 'eval_samples_per_second': 1152.011, 'eval_steps_per_second': 72.327, 'epoch': 10.21}\n"
          ]
        },
        {
          "name": "stderr",
          "output_type": "stream",
          "text": [
            " 41%|████▏     | 4000/9675 [02:40<02:02, 46.23it/s]"
          ]
        },
        {
          "name": "stdout",
          "output_type": "stream",
          "text": [
            "{'loss': 0.2989, 'grad_norm': 0.4152710735797882, 'learning_rate': 0.0005865633074935401, 'epoch': 10.34}\n"
          ]
        },
        {
          "name": "stderr",
          "output_type": "stream",
          "text": [
            "                                                   \n",
            " 41%|████▏     | 4009/9675 [02:42<04:53, 19.28it/s]"
          ]
        },
        {
          "name": "stdout",
          "output_type": "stream",
          "text": [
            "{'eval_loss': 0.37245872616767883, 'eval_accuracy': 0.8457193292144748, 'eval_f1_score': 0.5913341645885287, 'eval_runtime': 1.3027, 'eval_samples_per_second': 1185.956, 'eval_steps_per_second': 74.458, 'epoch': 10.34}\n"
          ]
        },
        {
          "name": "stderr",
          "output_type": "stream",
          "text": [
            " 42%|████▏     | 4050/9675 [02:42<02:01, 46.47it/s]"
          ]
        },
        {
          "name": "stdout",
          "output_type": "stream",
          "text": [
            "{'loss': 0.2956, 'grad_norm': 0.6606373190879822, 'learning_rate': 0.0005813953488372093, 'epoch': 10.47}\n"
          ]
        },
        {
          "name": "stderr",
          "output_type": "stream",
          "text": [
            "                                                   \n",
            " 42%|████▏     | 4060/9675 [02:44<04:35, 20.35it/s]"
          ]
        },
        {
          "name": "stdout",
          "output_type": "stream",
          "text": [
            "{'eval_loss': 0.37201815843582153, 'eval_accuracy': 0.8470726684318918, 'eval_f1_score': 0.5896099794726039, 'eval_runtime': 1.3018, 'eval_samples_per_second': 1186.84, 'eval_steps_per_second': 74.514, 'epoch': 10.47}\n"
          ]
        },
        {
          "name": "stderr",
          "output_type": "stream",
          "text": [
            " 42%|████▏     | 4100/9675 [02:44<01:59, 46.69it/s]"
          ]
        },
        {
          "name": "stdout",
          "output_type": "stream",
          "text": [
            "{'loss': 0.2913, 'grad_norm': 0.5334804058074951, 'learning_rate': 0.0005762273901808785, 'epoch': 10.59}\n"
          ]
        },
        {
          "name": "stderr",
          "output_type": "stream",
          "text": [
            "                                                   \n",
            " 42%|████▏     | 4110/9675 [02:46<04:52, 19.01it/s]"
          ]
        },
        {
          "name": "stdout",
          "output_type": "stream",
          "text": [
            "{'eval_loss': 0.3745216727256775, 'eval_accuracy': 0.8462488967343337, 'eval_f1_score': 0.5842482100238664, 'eval_runtime': 1.3226, 'eval_samples_per_second': 1168.135, 'eval_steps_per_second': 73.339, 'epoch': 10.59}\n"
          ]
        },
        {
          "name": "stderr",
          "output_type": "stream",
          "text": [
            " 43%|████▎     | 4150/9675 [02:46<01:58, 46.54it/s]"
          ]
        },
        {
          "name": "stdout",
          "output_type": "stream",
          "text": [
            "{'loss': 0.2901, 'grad_norm': 0.908357560634613, 'learning_rate': 0.0005710594315245478, 'epoch': 10.72}\n"
          ]
        },
        {
          "name": "stderr",
          "output_type": "stream",
          "text": [
            "                                                   \n",
            " 43%|████▎     | 4160/9675 [02:48<04:40, 19.63it/s]"
          ]
        },
        {
          "name": "stdout",
          "output_type": "stream",
          "text": [
            "{'eval_loss': 0.3731535077095032, 'eval_accuracy': 0.846131215063254, 'eval_f1_score': 0.5845909451945989, 'eval_runtime': 1.3106, 'eval_samples_per_second': 1178.86, 'eval_steps_per_second': 74.013, 'epoch': 10.72}\n"
          ]
        },
        {
          "name": "stderr",
          "output_type": "stream",
          "text": [
            " 43%|████▎     | 4200/9675 [02:48<01:56, 47.15it/s]"
          ]
        },
        {
          "name": "stdout",
          "output_type": "stream",
          "text": [
            "{'loss': 0.2934, 'grad_norm': 0.5873842835426331, 'learning_rate': 0.000565891472868217, 'epoch': 10.85}\n"
          ]
        },
        {
          "name": "stderr",
          "output_type": "stream",
          "text": [
            "                                                   \n",
            " 44%|████▎     | 4212/9675 [02:50<04:32, 20.08it/s]"
          ]
        },
        {
          "name": "stdout",
          "output_type": "stream",
          "text": [
            "{'eval_loss': 0.37172889709472656, 'eval_accuracy': 0.8443659899970579, 'eval_f1_score': 0.580225361053801, 'eval_runtime': 1.2975, 'eval_samples_per_second': 1190.767, 'eval_steps_per_second': 74.76, 'epoch': 10.85}\n"
          ]
        },
        {
          "name": "stderr",
          "output_type": "stream",
          "text": [
            " 44%|████▍     | 4250/9675 [02:50<01:54, 47.42it/s]"
          ]
        },
        {
          "name": "stdout",
          "output_type": "stream",
          "text": [
            "{'loss': 0.3088, 'grad_norm': 0.5150148272514343, 'learning_rate': 0.0005607235142118862, 'epoch': 10.98}\n"
          ]
        },
        {
          "name": "stderr",
          "output_type": "stream",
          "text": [
            "                                                   \n",
            " 44%|████▍     | 4264/9675 [02:52<04:18, 20.95it/s]"
          ]
        },
        {
          "name": "stdout",
          "output_type": "stream",
          "text": [
            "{'eval_loss': 0.37159377336502075, 'eval_accuracy': 0.8457781700500147, 'eval_f1_score': 0.5844299984144601, 'eval_runtime': 1.2553, 'eval_samples_per_second': 1230.812, 'eval_steps_per_second': 77.274, 'epoch': 10.98}\n"
          ]
        },
        {
          "name": "stderr",
          "output_type": "stream",
          "text": [
            " 44%|████▍     | 4300/9675 [02:52<01:50, 48.62it/s]"
          ]
        },
        {
          "name": "stdout",
          "output_type": "stream",
          "text": [
            "{'loss': 0.2848, 'grad_norm': 0.47550728917121887, 'learning_rate': 0.0005555555555555556, 'epoch': 11.11}\n"
          ]
        },
        {
          "name": "stderr",
          "output_type": "stream",
          "text": [
            "                                                   \n",
            " 45%|████▍     | 4308/9675 [02:54<06:12, 14.42it/s]"
          ]
        },
        {
          "name": "stdout",
          "output_type": "stream",
          "text": [
            "{'eval_loss': 0.3724471926689148, 'eval_accuracy': 0.8476610767872904, 'eval_f1_score': 0.5883288281125775, 'eval_runtime': 1.4036, 'eval_samples_per_second': 1100.758, 'eval_steps_per_second': 69.109, 'epoch': 11.11}\n"
          ]
        },
        {
          "name": "stderr",
          "output_type": "stream",
          "text": [
            " 45%|████▍     | 4350/9675 [02:54<02:16, 39.13it/s]"
          ]
        },
        {
          "name": "stdout",
          "output_type": "stream",
          "text": [
            "{'loss': 0.2753, 'grad_norm': 0.4615395665168762, 'learning_rate': 0.0005503875968992248, 'epoch': 11.24}\n"
          ]
        },
        {
          "name": "stderr",
          "output_type": "stream",
          "text": [
            "                                                   \n",
            " 45%|████▌     | 4359/9675 [02:56<04:42, 18.80it/s]"
          ]
        },
        {
          "name": "stdout",
          "output_type": "stream",
          "text": [
            "{'eval_loss': 0.3722289502620697, 'eval_accuracy': 0.8471903501029715, 'eval_f1_score': 0.5879739806441378, 'eval_runtime': 1.3243, 'eval_samples_per_second': 1166.644, 'eval_steps_per_second': 73.246, 'epoch': 11.24}\n"
          ]
        },
        {
          "name": "stderr",
          "output_type": "stream",
          "text": [
            " 45%|████▌     | 4400/9675 [02:56<01:53, 46.28it/s]"
          ]
        },
        {
          "name": "stdout",
          "output_type": "stream",
          "text": [
            "{'loss': 0.2832, 'grad_norm': 0.3840012550354004, 'learning_rate': 0.0005452196382428941, 'epoch': 11.37}\n"
          ]
        },
        {
          "name": "stderr",
          "output_type": "stream",
          "text": [
            "                                                   \n",
            " 46%|████▌     | 4411/9675 [02:58<04:31, 19.40it/s]"
          ]
        },
        {
          "name": "stdout",
          "output_type": "stream",
          "text": [
            "{'eval_loss': 0.3716981112957001, 'eval_accuracy': 0.8460135333921742, 'eval_f1_score': 0.5879389072586995, 'eval_runtime': 1.3574, 'eval_samples_per_second': 1138.223, 'eval_steps_per_second': 71.461, 'epoch': 11.37}\n"
          ]
        },
        {
          "name": "stderr",
          "output_type": "stream",
          "text": [
            " 46%|████▌     | 4450/9675 [02:58<01:55, 45.10it/s]"
          ]
        },
        {
          "name": "stdout",
          "output_type": "stream",
          "text": [
            "{'loss': 0.2813, 'grad_norm': 0.4655182361602783, 'learning_rate': 0.0005400516795865633, 'epoch': 11.5}\n"
          ]
        },
        {
          "name": "stderr",
          "output_type": "stream",
          "text": [
            "                                                   \n",
            " 46%|████▌     | 4460/9675 [03:00<04:31, 19.18it/s]"
          ]
        },
        {
          "name": "stdout",
          "output_type": "stream",
          "text": [
            "{'eval_loss': 0.36940792202949524, 'eval_accuracy': 0.8477787584583701, 'eval_f1_score': 0.5900808112818887, 'eval_runtime': 1.3235, 'eval_samples_per_second': 1167.367, 'eval_steps_per_second': 73.291, 'epoch': 11.5}\n"
          ]
        },
        {
          "name": "stderr",
          "output_type": "stream",
          "text": [
            " 47%|████▋     | 4500/9675 [03:00<01:54, 45.02it/s]"
          ]
        },
        {
          "name": "stdout",
          "output_type": "stream",
          "text": [
            "{'loss': 0.3048, 'grad_norm': 0.5425352454185486, 'learning_rate': 0.0005348837209302325, 'epoch': 11.63}\n"
          ]
        },
        {
          "name": "stderr",
          "output_type": "stream",
          "text": [
            "                                                   \n",
            " 47%|████▋     | 4510/9675 [03:02<04:24, 19.54it/s]"
          ]
        },
        {
          "name": "stdout",
          "output_type": "stream",
          "text": [
            "{'eval_loss': 0.37385064363479614, 'eval_accuracy': 0.8468373050897323, 'eval_f1_score': 0.5911732370032983, 'eval_runtime': 1.2986, 'eval_samples_per_second': 1189.728, 'eval_steps_per_second': 74.695, 'epoch': 11.63}\n"
          ]
        },
        {
          "name": "stderr",
          "output_type": "stream",
          "text": [
            " 47%|████▋     | 4550/9675 [03:02<01:49, 46.66it/s]"
          ]
        },
        {
          "name": "stdout",
          "output_type": "stream",
          "text": [
            "{'loss': 0.2945, 'grad_norm': 0.7499716281890869, 'learning_rate': 0.0005297157622739018, 'epoch': 11.76}\n"
          ]
        },
        {
          "name": "stderr",
          "output_type": "stream",
          "text": [
            "                                                   \n",
            " 47%|████▋     | 4560/9675 [03:04<04:35, 18.54it/s]"
          ]
        },
        {
          "name": "stdout",
          "output_type": "stream",
          "text": [
            "{'eval_loss': 0.3813570439815521, 'eval_accuracy': 0.8444248308325978, 'eval_f1_score': 0.5905853205326727, 'eval_runtime': 1.4297, 'eval_samples_per_second': 1080.659, 'eval_steps_per_second': 67.847, 'epoch': 11.76}\n"
          ]
        },
        {
          "name": "stderr",
          "output_type": "stream",
          "text": [
            " 48%|████▊     | 4600/9675 [03:04<01:53, 44.60it/s]"
          ]
        },
        {
          "name": "stdout",
          "output_type": "stream",
          "text": [
            "{'loss': 0.2899, 'grad_norm': 0.5716961026191711, 'learning_rate': 0.000524547803617571, 'epoch': 11.89}\n"
          ]
        },
        {
          "name": "stderr",
          "output_type": "stream",
          "text": [
            "                                                   \n",
            " 48%|████▊     | 4610/9675 [03:06<04:14, 19.86it/s]"
          ]
        },
        {
          "name": "stdout",
          "output_type": "stream",
          "text": [
            "{'eval_loss': 0.3784923255443573, 'eval_accuracy': 0.8438364224771991, 'eval_f1_score': 0.5757672634271099, 'eval_runtime': 1.2247, 'eval_samples_per_second': 1261.502, 'eval_steps_per_second': 79.201, 'epoch': 11.89}\n"
          ]
        },
        {
          "name": "stderr",
          "output_type": "stream",
          "text": [
            " 48%|████▊     | 4650/9675 [03:06<01:49, 45.85it/s]"
          ]
        },
        {
          "name": "stdout",
          "output_type": "stream",
          "text": [
            "{'loss': 0.2846, 'grad_norm': 0.3553001880645752, 'learning_rate': 0.0005193798449612403, 'epoch': 12.02}\n"
          ]
        },
        {
          "name": "stderr",
          "output_type": "stream",
          "text": [
            "                                                   \n",
            " 48%|████▊     | 4660/9675 [03:08<04:09, 20.09it/s]"
          ]
        },
        {
          "name": "stdout",
          "output_type": "stream",
          "text": [
            "{'eval_loss': 0.3763725459575653, 'eval_accuracy': 0.8451309208590762, 'eval_f1_score': 0.5806246016571064, 'eval_runtime': 1.3001, 'eval_samples_per_second': 1188.354, 'eval_steps_per_second': 74.609, 'epoch': 12.02}\n"
          ]
        },
        {
          "name": "stderr",
          "output_type": "stream",
          "text": [
            " 49%|████▊     | 4700/9675 [03:08<01:47, 46.12it/s]"
          ]
        },
        {
          "name": "stdout",
          "output_type": "stream",
          "text": [
            "{'loss': 0.2878, 'grad_norm': 0.41766270995140076, 'learning_rate': 0.0005142118863049096, 'epoch': 12.14}\n"
          ]
        },
        {
          "name": "stderr",
          "output_type": "stream",
          "text": [
            "                                                   \n",
            " 49%|████▊     | 4709/9675 [03:10<04:29, 18.44it/s]"
          ]
        },
        {
          "name": "stdout",
          "output_type": "stream",
          "text": [
            "{'eval_loss': 0.3753432333469391, 'eval_accuracy': 0.849132097675787, 'eval_f1_score': 0.5978670012547052, 'eval_runtime': 1.367, 'eval_samples_per_second': 1130.207, 'eval_steps_per_second': 70.958, 'epoch': 12.14}\n"
          ]
        },
        {
          "name": "stderr",
          "output_type": "stream",
          "text": [
            " 49%|████▉     | 4750/9675 [03:10<01:48, 45.48it/s]"
          ]
        },
        {
          "name": "stdout",
          "output_type": "stream",
          "text": [
            "{'loss': 0.2806, 'grad_norm': 0.43222659826278687, 'learning_rate': 0.0005090439276485789, 'epoch': 12.27}\n"
          ]
        },
        {
          "name": "stderr",
          "output_type": "stream",
          "text": [
            "                                                   \n",
            " 49%|████▉     | 4761/9675 [03:12<04:03, 20.17it/s]"
          ]
        },
        {
          "name": "stdout",
          "output_type": "stream",
          "text": [
            "{'eval_loss': 0.3763674199581146, 'eval_accuracy': 0.8470726684318918, 'eval_f1_score': 0.5890909090909091, 'eval_runtime': 1.3, 'eval_samples_per_second': 1188.507, 'eval_steps_per_second': 74.618, 'epoch': 12.27}\n"
          ]
        },
        {
          "name": "stderr",
          "output_type": "stream",
          "text": [
            " 50%|████▉     | 4800/9675 [03:12<01:42, 47.73it/s]"
          ]
        },
        {
          "name": "stdout",
          "output_type": "stream",
          "text": [
            "{'loss': 0.2692, 'grad_norm': 0.5418506860733032, 'learning_rate': 0.0005038759689922481, 'epoch': 12.4}\n"
          ]
        },
        {
          "name": "stderr",
          "output_type": "stream",
          "text": [
            "                                                   \n",
            " 50%|████▉     | 4804/9675 [03:14<05:31, 14.67it/s]"
          ]
        },
        {
          "name": "stdout",
          "output_type": "stream",
          "text": [
            "{'eval_loss': 0.37465718388557434, 'eval_accuracy': 0.8462488967343337, 'eval_f1_score': 0.5910158084207231, 'eval_runtime': 1.3475, 'eval_samples_per_second': 1146.6, 'eval_steps_per_second': 71.987, 'epoch': 12.4}\n"
          ]
        },
        {
          "name": "stderr",
          "output_type": "stream",
          "text": [
            " 50%|█████     | 4850/9675 [03:14<01:44, 46.31it/s]"
          ]
        },
        {
          "name": "stdout",
          "output_type": "stream",
          "text": [
            "{'loss': 0.2849, 'grad_norm': 0.49455106258392334, 'learning_rate': 0.0004987080103359173, 'epoch': 12.53}\n"
          ]
        },
        {
          "name": "stderr",
          "output_type": "stream",
          "text": [
            "                                                   \n",
            " 50%|█████     | 4862/9675 [03:16<04:14, 18.91it/s]"
          ]
        },
        {
          "name": "stdout",
          "output_type": "stream",
          "text": [
            "{'eval_loss': 0.37402838468551636, 'eval_accuracy': 0.846543100912033, 'eval_f1_score': 0.58497772119669, 'eval_runtime': 1.3803, 'eval_samples_per_second': 1119.323, 'eval_steps_per_second': 70.275, 'epoch': 12.53}\n"
          ]
        },
        {
          "name": "stderr",
          "output_type": "stream",
          "text": [
            " 51%|█████     | 4900/9675 [03:16<01:47, 44.39it/s]"
          ]
        },
        {
          "name": "stdout",
          "output_type": "stream",
          "text": [
            "{'loss': 0.2918, 'grad_norm': 0.6592478156089783, 'learning_rate': 0.0004935400516795866, 'epoch': 12.66}\n"
          ]
        },
        {
          "name": "stderr",
          "output_type": "stream",
          "text": [
            "                                                   \n",
            " 51%|█████     | 4904/9675 [03:18<05:19, 14.95it/s]"
          ]
        },
        {
          "name": "stdout",
          "output_type": "stream",
          "text": [
            "{'eval_loss': 0.3749973177909851, 'eval_accuracy': 0.8459546925566344, 'eval_f1_score': 0.5853658536585366, 'eval_runtime': 1.2588, 'eval_samples_per_second': 1227.402, 'eval_steps_per_second': 77.06, 'epoch': 12.66}\n"
          ]
        },
        {
          "name": "stderr",
          "output_type": "stream",
          "text": [
            " 51%|█████     | 4950/9675 [03:18<01:44, 45.37it/s]"
          ]
        },
        {
          "name": "stdout",
          "output_type": "stream",
          "text": [
            "{'loss': 0.2895, 'grad_norm': 0.4768199324607849, 'learning_rate': 0.0004883720930232558, 'epoch': 12.79}\n"
          ]
        },
        {
          "name": "stderr",
          "output_type": "stream",
          "text": [
            "                                                   \n",
            " 51%|█████▏    | 4962/9675 [03:20<03:53, 20.20it/s]"
          ]
        },
        {
          "name": "stdout",
          "output_type": "stream",
          "text": [
            "{'eval_loss': 0.37679827213287354, 'eval_accuracy': 0.8444248308325978, 'eval_f1_score': 0.5833595965962811, 'eval_runtime': 1.2772, 'eval_samples_per_second': 1209.685, 'eval_steps_per_second': 75.948, 'epoch': 12.79}\n"
          ]
        },
        {
          "name": "stderr",
          "output_type": "stream",
          "text": [
            " 52%|█████▏    | 5000/9675 [03:20<01:39, 47.06it/s]"
          ]
        },
        {
          "name": "stdout",
          "output_type": "stream",
          "text": [
            "{'loss': 0.2906, 'grad_norm': 0.428860604763031, 'learning_rate': 0.0004832041343669251, 'epoch': 12.92}\n"
          ]
        },
        {
          "name": "stderr",
          "output_type": "stream",
          "text": [
            "                                                   \n",
            " 52%|█████▏    | 5011/9675 [03:22<04:10, 18.64it/s]"
          ]
        },
        {
          "name": "stdout",
          "output_type": "stream",
          "text": [
            "{'eval_loss': 0.3728596866130829, 'eval_accuracy': 0.846131215063254, 'eval_f1_score': 0.5899325701740631, 'eval_runtime': 1.3593, 'eval_samples_per_second': 1136.635, 'eval_steps_per_second': 71.362, 'epoch': 12.92}\n"
          ]
        },
        {
          "name": "stderr",
          "output_type": "stream",
          "text": [
            " 52%|█████▏    | 5050/9675 [03:22<01:41, 45.52it/s]"
          ]
        },
        {
          "name": "stdout",
          "output_type": "stream",
          "text": [
            "{'loss': 0.2762, 'grad_norm': 0.5032492876052856, 'learning_rate': 0.00047803617571059434, 'epoch': 13.05}\n"
          ]
        },
        {
          "name": "stderr",
          "output_type": "stream",
          "text": [
            "                                                   \n",
            " 52%|█████▏    | 5061/9675 [03:24<03:55, 19.60it/s]"
          ]
        },
        {
          "name": "stdout",
          "output_type": "stream",
          "text": [
            "{'eval_loss': 0.3755231201648712, 'eval_accuracy': 0.8483671668137688, 'eval_f1_score': 0.595764705882353, 'eval_runtime': 1.3434, 'eval_samples_per_second': 1150.032, 'eval_steps_per_second': 72.203, 'epoch': 13.05}\n"
          ]
        },
        {
          "name": "stderr",
          "output_type": "stream",
          "text": [
            " 53%|█████▎    | 5100/9675 [03:24<01:39, 46.12it/s]"
          ]
        },
        {
          "name": "stdout",
          "output_type": "stream",
          "text": [
            "{'loss': 0.2798, 'grad_norm': 0.4231008291244507, 'learning_rate': 0.0004728682170542636, 'epoch': 13.18}\n"
          ]
        },
        {
          "name": "stderr",
          "output_type": "stream",
          "text": [
            "                                                   \n",
            " 53%|█████▎    | 5112/9675 [03:26<03:56, 19.28it/s]"
          ]
        },
        {
          "name": "stdout",
          "output_type": "stream",
          "text": [
            "{'eval_loss': 0.37522614002227783, 'eval_accuracy': 0.8466607825831127, 'eval_f1_score': 0.5872663921444409, 'eval_runtime': 1.3756, 'eval_samples_per_second': 1123.112, 'eval_steps_per_second': 70.513, 'epoch': 13.18}\n"
          ]
        },
        {
          "name": "stderr",
          "output_type": "stream",
          "text": [
            " 53%|█████▎    | 5150/9675 [03:26<01:38, 45.97it/s]"
          ]
        },
        {
          "name": "stdout",
          "output_type": "stream",
          "text": [
            "{'loss': 0.2857, 'grad_norm': 0.6476860642433167, 'learning_rate': 0.00046770025839793286, 'epoch': 13.31}\n"
          ]
        },
        {
          "name": "stderr",
          "output_type": "stream",
          "text": [
            "                                                   \n",
            " 53%|█████▎    | 5162/9675 [03:28<03:57, 19.02it/s]"
          ]
        },
        {
          "name": "stdout",
          "output_type": "stream",
          "text": [
            "{'eval_loss': 0.3729613423347473, 'eval_accuracy': 0.8480141218005296, 'eval_f1_score': 0.5969730067093151, 'eval_runtime': 1.3716, 'eval_samples_per_second': 1126.431, 'eval_steps_per_second': 70.721, 'epoch': 13.31}\n"
          ]
        },
        {
          "name": "stderr",
          "output_type": "stream",
          "text": [
            " 54%|█████▎    | 5200/9675 [03:28<01:39, 44.95it/s]"
          ]
        },
        {
          "name": "stdout",
          "output_type": "stream",
          "text": [
            "{'loss': 0.2711, 'grad_norm': 0.5963518619537354, 'learning_rate': 0.0004625322997416021, 'epoch': 13.44}\n"
          ]
        },
        {
          "name": "stderr",
          "output_type": "stream",
          "text": [
            "                                                   \n",
            " 54%|█████▍    | 5204/9675 [03:30<05:15, 14.17it/s]"
          ]
        },
        {
          "name": "stdout",
          "output_type": "stream",
          "text": [
            "{'eval_loss': 0.3752397298812866, 'eval_accuracy': 0.8456604883789349, 'eval_f1_score': 0.5899640456463967, 'eval_runtime': 1.3446, 'eval_samples_per_second': 1149.005, 'eval_steps_per_second': 72.138, 'epoch': 13.44}\n"
          ]
        },
        {
          "name": "stderr",
          "output_type": "stream",
          "text": [
            " 54%|█████▍    | 5250/9675 [03:30<01:34, 46.99it/s]"
          ]
        },
        {
          "name": "stdout",
          "output_type": "stream",
          "text": [
            "{'loss': 0.2672, 'grad_norm': 0.5103887915611267, 'learning_rate': 0.0004573643410852713, 'epoch': 13.57}\n"
          ]
        },
        {
          "name": "stderr",
          "output_type": "stream",
          "text": [
            "                                                   \n",
            " 54%|█████▍    | 5265/9675 [03:32<03:26, 21.37it/s]"
          ]
        },
        {
          "name": "stdout",
          "output_type": "stream",
          "text": [
            "{'eval_loss': 0.37972164154052734, 'eval_accuracy': 0.8448955575169167, 'eval_f1_score': 0.5930842852732324, 'eval_runtime': 1.2209, 'eval_samples_per_second': 1265.484, 'eval_steps_per_second': 79.451, 'epoch': 13.57}\n"
          ]
        },
        {
          "name": "stderr",
          "output_type": "stream",
          "text": [
            " 55%|█████▍    | 5300/9675 [03:32<01:33, 47.03it/s]"
          ]
        },
        {
          "name": "stdout",
          "output_type": "stream",
          "text": [
            "{'loss': 0.2775, 'grad_norm': 0.539243757724762, 'learning_rate': 0.00045219638242894054, 'epoch': 13.7}\n"
          ]
        },
        {
          "name": "stderr",
          "output_type": "stream",
          "text": [
            "                                                   \n",
            " 55%|█████▍    | 5306/9675 [03:34<05:16, 13.79it/s]"
          ]
        },
        {
          "name": "stdout",
          "output_type": "stream",
          "text": [
            "{'eval_loss': 0.37841686606407166, 'eval_accuracy': 0.8458370108855546, 'eval_f1_score': 0.5842589654078071, 'eval_runtime': 1.4063, 'eval_samples_per_second': 1098.598, 'eval_steps_per_second': 68.973, 'epoch': 13.7}\n"
          ]
        },
        {
          "name": "stderr",
          "output_type": "stream",
          "text": [
            " 55%|█████▌    | 5350/9675 [03:34<01:33, 46.40it/s]"
          ]
        },
        {
          "name": "stdout",
          "output_type": "stream",
          "text": [
            "{'loss': 0.2817, 'grad_norm': 0.41172292828559875, 'learning_rate': 0.0004470284237726098, 'epoch': 13.82}\n"
          ]
        },
        {
          "name": "stderr",
          "output_type": "stream",
          "text": [
            "                                                   \n",
            " 55%|█████▌    | 5365/9675 [03:36<03:41, 19.43it/s]"
          ]
        },
        {
          "name": "stdout",
          "output_type": "stream",
          "text": [
            "{'eval_loss': 0.38020822405815125, 'eval_accuracy': 0.8448367166813768, 'eval_f1_score': 0.5855728429985856, 'eval_runtime': 1.3405, 'eval_samples_per_second': 1152.564, 'eval_steps_per_second': 72.362, 'epoch': 13.82}\n"
          ]
        },
        {
          "name": "stderr",
          "output_type": "stream",
          "text": [
            " 56%|█████▌    | 5400/9675 [03:36<01:30, 47.11it/s]"
          ]
        },
        {
          "name": "stdout",
          "output_type": "stream",
          "text": [
            "{'loss': 0.2824, 'grad_norm': 0.4331613779067993, 'learning_rate': 0.00044186046511627907, 'epoch': 13.95}\n"
          ]
        },
        {
          "name": "stderr",
          "output_type": "stream",
          "text": [
            "                                                   \n",
            " 56%|█████▌    | 5408/9675 [03:38<04:51, 14.62it/s]"
          ]
        },
        {
          "name": "stdout",
          "output_type": "stream",
          "text": [
            "{'eval_loss': 0.3862467408180237, 'eval_accuracy': 0.8434245366284201, 'eval_f1_score': 0.5829807240244476, 'eval_runtime': 1.3369, 'eval_samples_per_second': 1155.686, 'eval_steps_per_second': 72.558, 'epoch': 13.95}\n"
          ]
        },
        {
          "name": "stderr",
          "output_type": "stream",
          "text": [
            " 56%|█████▋    | 5450/9675 [03:38<01:45, 40.05it/s]"
          ]
        },
        {
          "name": "stdout",
          "output_type": "stream",
          "text": [
            "{'loss': 0.279, 'grad_norm': 0.34520745277404785, 'learning_rate': 0.00043669250645994833, 'epoch': 14.08}\n"
          ]
        },
        {
          "name": "stderr",
          "output_type": "stream",
          "text": [
            "                                                   \n",
            " 56%|█████▋    | 5461/9675 [03:40<03:31, 19.95it/s]"
          ]
        },
        {
          "name": "stdout",
          "output_type": "stream",
          "text": [
            "{'eval_loss': 0.3730979859828949, 'eval_accuracy': 0.845189761694616, 'eval_f1_score': 0.5881984661136328, 'eval_runtime': 1.286, 'eval_samples_per_second': 1201.402, 'eval_steps_per_second': 75.428, 'epoch': 14.08}\n"
          ]
        },
        {
          "name": "stderr",
          "output_type": "stream",
          "text": [
            " 57%|█████▋    | 5500/9675 [03:40<01:28, 47.09it/s]"
          ]
        },
        {
          "name": "stdout",
          "output_type": "stream",
          "text": [
            "{'loss': 0.2787, 'grad_norm': 0.37077704071998596, 'learning_rate': 0.0004315245478036176, 'epoch': 14.21}\n"
          ]
        },
        {
          "name": "stderr",
          "output_type": "stream",
          "text": [
            "                                                   \n",
            " 57%|█████▋    | 5513/9675 [03:42<03:39, 18.94it/s]"
          ]
        },
        {
          "name": "stdout",
          "output_type": "stream",
          "text": [
            "{'eval_loss': 0.3780018985271454, 'eval_accuracy': 0.8457781700500147, 'eval_f1_score': 0.5897636562842385, 'eval_runtime': 1.3773, 'eval_samples_per_second': 1121.779, 'eval_steps_per_second': 70.429, 'epoch': 14.21}\n"
          ]
        },
        {
          "name": "stderr",
          "output_type": "stream",
          "text": [
            " 57%|█████▋    | 5550/9675 [03:42<01:30, 45.52it/s]"
          ]
        },
        {
          "name": "stdout",
          "output_type": "stream",
          "text": [
            "{'loss': 0.2784, 'grad_norm': 0.3789786696434021, 'learning_rate': 0.0004263565891472868, 'epoch': 14.34}\n"
          ]
        },
        {
          "name": "stderr",
          "output_type": "stream",
          "text": [
            "                                                   \n",
            " 58%|█████▊    | 5565/9675 [03:44<03:28, 19.75it/s]"
          ]
        },
        {
          "name": "stdout",
          "output_type": "stream",
          "text": [
            "{'eval_loss': 0.3788940906524658, 'eval_accuracy': 0.8468373050897323, 'eval_f1_score': 0.596246316116023, 'eval_runtime': 1.3487, 'eval_samples_per_second': 1145.59, 'eval_steps_per_second': 71.924, 'epoch': 14.34}\n"
          ]
        },
        {
          "name": "stderr",
          "output_type": "stream",
          "text": [
            " 58%|█████▊    | 5600/9675 [03:44<01:28, 46.25it/s]"
          ]
        },
        {
          "name": "stdout",
          "output_type": "stream",
          "text": [
            "{'loss': 0.2764, 'grad_norm': 0.5318638682365417, 'learning_rate': 0.00042118863049095607, 'epoch': 14.47}\n"
          ]
        },
        {
          "name": "stderr",
          "output_type": "stream",
          "text": [
            "                                                   \n",
            " 58%|█████▊    | 5607/9675 [03:46<04:47, 14.17it/s]"
          ]
        },
        {
          "name": "stdout",
          "output_type": "stream",
          "text": [
            "{'eval_loss': 0.37816664576530457, 'eval_accuracy': 0.8458958517210945, 'eval_f1_score': 0.5843516902079036, 'eval_runtime': 1.3868, 'eval_samples_per_second': 1114.05, 'eval_steps_per_second': 69.944, 'epoch': 14.47}\n"
          ]
        },
        {
          "name": "stderr",
          "output_type": "stream",
          "text": [
            " 58%|█████▊    | 5650/9675 [03:46<01:27, 45.75it/s]"
          ]
        },
        {
          "name": "stdout",
          "output_type": "stream",
          "text": [
            "{'loss': 0.2668, 'grad_norm': 0.5205212235450745, 'learning_rate': 0.00041602067183462533, 'epoch': 14.6}\n"
          ]
        },
        {
          "name": "stderr",
          "output_type": "stream",
          "text": [
            "                                                   \n",
            " 59%|█████▊    | 5666/9675 [03:48<03:31, 18.97it/s]"
          ]
        },
        {
          "name": "stdout",
          "output_type": "stream",
          "text": [
            "{'eval_loss': 0.37664029002189636, 'eval_accuracy': 0.8471315092674316, 'eval_f1_score': 0.5894437420986094, 'eval_runtime': 1.3797, 'eval_samples_per_second': 1119.807, 'eval_steps_per_second': 70.305, 'epoch': 14.6}\n"
          ]
        },
        {
          "name": "stderr",
          "output_type": "stream",
          "text": [
            " 59%|█████▉    | 5700/9675 [03:48<01:28, 45.09it/s]"
          ]
        },
        {
          "name": "stdout",
          "output_type": "stream",
          "text": [
            "{'loss': 0.283, 'grad_norm': 0.4577885866165161, 'learning_rate': 0.0004108527131782946, 'epoch': 14.73}\n"
          ]
        },
        {
          "name": "stderr",
          "output_type": "stream",
          "text": [
            "                                                   \n",
            " 59%|█████▉    | 5707/9675 [03:50<04:41, 14.12it/s]"
          ]
        },
        {
          "name": "stdout",
          "output_type": "stream",
          "text": [
            "{'eval_loss': 0.37702590227127075, 'eval_accuracy': 0.8429538099441012, 'eval_f1_score': 0.5794863715141011, 'eval_runtime': 1.3515, 'eval_samples_per_second': 1143.141, 'eval_steps_per_second': 71.77, 'epoch': 14.73}\n"
          ]
        },
        {
          "name": "stderr",
          "output_type": "stream",
          "text": [
            " 59%|█████▉    | 5750/9675 [03:50<01:26, 45.19it/s]"
          ]
        },
        {
          "name": "stdout",
          "output_type": "stream",
          "text": [
            "{'loss': 0.2651, 'grad_norm': 0.4684552550315857, 'learning_rate': 0.00040568475452196386, 'epoch': 14.86}\n"
          ]
        },
        {
          "name": "stderr",
          "output_type": "stream",
          "text": [
            "                                                   \n",
            " 60%|█████▉    | 5766/9675 [03:52<03:20, 19.49it/s]"
          ]
        },
        {
          "name": "stdout",
          "output_type": "stream",
          "text": [
            "{'eval_loss': 0.38159212470054626, 'eval_accuracy': 0.8468373050897323, 'eval_f1_score': 0.5907876120106902, 'eval_runtime': 1.2966, 'eval_samples_per_second': 1191.597, 'eval_steps_per_second': 74.812, 'epoch': 14.86}\n"
          ]
        },
        {
          "name": "stderr",
          "output_type": "stream",
          "text": [
            " 60%|█████▉    | 5800/9675 [03:52<01:22, 47.17it/s]"
          ]
        },
        {
          "name": "stdout",
          "output_type": "stream",
          "text": [
            "{'loss': 0.2838, 'grad_norm': 0.5022900700569153, 'learning_rate': 0.0004005167958656331, 'epoch': 14.99}\n"
          ]
        },
        {
          "name": "stderr",
          "output_type": "stream",
          "text": [
            "                                                   \n",
            " 60%|██████    | 5808/9675 [03:54<04:25, 14.57it/s]"
          ]
        },
        {
          "name": "stdout",
          "output_type": "stream",
          "text": [
            "{'eval_loss': 0.3752376139163971, 'eval_accuracy': 0.8470726684318918, 'eval_f1_score': 0.5954863813229572, 'eval_runtime': 1.3372, 'eval_samples_per_second': 1155.434, 'eval_steps_per_second': 72.542, 'epoch': 14.99}\n"
          ]
        },
        {
          "name": "stderr",
          "output_type": "stream",
          "text": [
            " 60%|██████    | 5850/9675 [03:54<01:23, 45.67it/s]"
          ]
        },
        {
          "name": "stdout",
          "output_type": "stream",
          "text": [
            "{'loss': 0.2715, 'grad_norm': 0.45332974195480347, 'learning_rate': 0.00039534883720930233, 'epoch': 15.12}\n"
          ]
        },
        {
          "name": "stderr",
          "output_type": "stream",
          "text": [
            "                                                   \n",
            " 61%|██████    | 5866/9675 [03:56<03:10, 19.95it/s]"
          ]
        },
        {
          "name": "stdout",
          "output_type": "stream",
          "text": [
            "{'eval_loss': 0.3818182051181793, 'eval_accuracy': 0.8457193292144748, 'eval_f1_score': 0.5961182994454713, 'eval_runtime': 1.2598, 'eval_samples_per_second': 1226.431, 'eval_steps_per_second': 76.999, 'epoch': 15.12}\n"
          ]
        },
        {
          "name": "stderr",
          "output_type": "stream",
          "text": [
            " 61%|██████    | 5900/9675 [03:56<01:24, 44.92it/s]"
          ]
        },
        {
          "name": "stdout",
          "output_type": "stream",
          "text": [
            "{'loss': 0.2611, 'grad_norm': 0.44418299198150635, 'learning_rate': 0.0003901808785529716, 'epoch': 15.25}\n"
          ]
        },
        {
          "name": "stderr",
          "output_type": "stream",
          "text": [
            "                                                   \n",
            " 61%|██████    | 5906/9675 [03:58<04:20, 14.46it/s]"
          ]
        },
        {
          "name": "stdout",
          "output_type": "stream",
          "text": [
            "{'eval_loss': 0.37955182790756226, 'eval_accuracy': 0.8466019417475729, 'eval_f1_score': 0.5973745173745174, 'eval_runtime': 1.2715, 'eval_samples_per_second': 1215.125, 'eval_steps_per_second': 76.289, 'epoch': 15.25}\n"
          ]
        },
        {
          "name": "stderr",
          "output_type": "stream",
          "text": [
            " 61%|██████▏   | 5950/9675 [03:58<01:21, 45.56it/s]"
          ]
        },
        {
          "name": "stdout",
          "output_type": "stream",
          "text": [
            "{'loss': 0.266, 'grad_norm': 0.5944225788116455, 'learning_rate': 0.00038501291989664085, 'epoch': 15.37}\n"
          ]
        },
        {
          "name": "stderr",
          "output_type": "stream",
          "text": [
            "                                                   \n",
            " 62%|██████▏   | 5964/9675 [04:00<03:11, 19.35it/s]"
          ]
        },
        {
          "name": "stdout",
          "output_type": "stream",
          "text": [
            "{'eval_loss': 0.3787456750869751, 'eval_accuracy': 0.8481906443071492, 'eval_f1_score': 0.5928030303030303, 'eval_runtime': 1.3047, 'eval_samples_per_second': 1184.203, 'eval_steps_per_second': 74.348, 'epoch': 15.37}\n"
          ]
        },
        {
          "name": "stderr",
          "output_type": "stream",
          "text": [
            " 62%|██████▏   | 6000/9675 [04:00<01:21, 44.98it/s]"
          ]
        },
        {
          "name": "stdout",
          "output_type": "stream",
          "text": [
            "{'loss': 0.2706, 'grad_norm': 0.3410516083240509, 'learning_rate': 0.0003798449612403101, 'epoch': 15.5}\n"
          ]
        },
        {
          "name": "stderr",
          "output_type": "stream",
          "text": [
            "                                                   \n",
            " 62%|██████▏   | 6004/9675 [04:02<04:26, 13.75it/s]"
          ]
        },
        {
          "name": "stdout",
          "output_type": "stream",
          "text": [
            "{'eval_loss': 0.37999939918518066, 'eval_accuracy': 0.847425713445131, 'eval_f1_score': 0.5992891361458816, 'eval_runtime': 1.3559, 'eval_samples_per_second': 1139.427, 'eval_steps_per_second': 71.537, 'epoch': 15.5}\n"
          ]
        },
        {
          "name": "stderr",
          "output_type": "stream",
          "text": [
            " 63%|██████▎   | 6050/9675 [04:02<01:20, 44.98it/s]"
          ]
        },
        {
          "name": "stdout",
          "output_type": "stream",
          "text": [
            "{'loss': 0.2759, 'grad_norm': 0.45159924030303955, 'learning_rate': 0.0003746770025839794, 'epoch': 15.63}\n"
          ]
        },
        {
          "name": "stderr",
          "output_type": "stream",
          "text": [
            "                                                   \n",
            " 63%|██████▎   | 6062/9675 [04:04<03:14, 18.54it/s]"
          ]
        },
        {
          "name": "stdout",
          "output_type": "stream",
          "text": [
            "{'eval_loss': 0.3803848326206207, 'eval_accuracy': 0.8468373050897323, 'eval_f1_score': 0.5949898864166796, 'eval_runtime': 1.4025, 'eval_samples_per_second': 1101.579, 'eval_steps_per_second': 69.161, 'epoch': 15.63}\n"
          ]
        },
        {
          "name": "stderr",
          "output_type": "stream",
          "text": [
            " 63%|██████▎   | 6100/9675 [04:04<01:18, 45.59it/s]"
          ]
        },
        {
          "name": "stdout",
          "output_type": "stream",
          "text": [
            "{'loss': 0.2689, 'grad_norm': 0.6053617596626282, 'learning_rate': 0.0003695090439276486, 'epoch': 15.76}\n"
          ]
        },
        {
          "name": "stderr",
          "output_type": "stream",
          "text": [
            "                                                   \n",
            " 63%|██████▎   | 6105/9675 [04:06<04:11, 14.19it/s]"
          ]
        },
        {
          "name": "stdout",
          "output_type": "stream",
          "text": [
            "{'eval_loss': 0.3768782317638397, 'eval_accuracy': 0.8472491909385114, 'eval_f1_score': 0.5978934324659232, 'eval_runtime': 1.3842, 'eval_samples_per_second': 1116.153, 'eval_steps_per_second': 70.076, 'epoch': 15.76}\n"
          ]
        },
        {
          "name": "stderr",
          "output_type": "stream",
          "text": [
            " 64%|██████▎   | 6150/9675 [04:06<01:16, 45.87it/s]"
          ]
        },
        {
          "name": "stdout",
          "output_type": "stream",
          "text": [
            "{'loss': 0.2674, 'grad_norm': 0.5336272120475769, 'learning_rate': 0.0003643410852713178, 'epoch': 15.89}\n"
          ]
        },
        {
          "name": "stderr",
          "output_type": "stream",
          "text": [
            "                                                   \n",
            " 64%|██████▎   | 6165/9675 [04:08<02:58, 19.66it/s]"
          ]
        },
        {
          "name": "stdout",
          "output_type": "stream",
          "text": [
            "{'eval_loss': 0.3769552707672119, 'eval_accuracy': 0.8467784642541925, 'eval_f1_score': 0.5952751010258004, 'eval_runtime': 1.3676, 'eval_samples_per_second': 1129.756, 'eval_steps_per_second': 70.93, 'epoch': 15.89}\n"
          ]
        },
        {
          "name": "stderr",
          "output_type": "stream",
          "text": [
            " 64%|██████▍   | 6200/9675 [04:08<01:16, 45.58it/s]"
          ]
        },
        {
          "name": "stdout",
          "output_type": "stream",
          "text": [
            "{'loss': 0.2726, 'grad_norm': 0.39249488711357117, 'learning_rate': 0.00035917312661498706, 'epoch': 16.02}\n"
          ]
        },
        {
          "name": "stderr",
          "output_type": "stream",
          "text": [
            "                                                   \n",
            " 64%|██████▍   | 6207/9675 [04:10<03:55, 14.75it/s]"
          ]
        },
        {
          "name": "stdout",
          "output_type": "stream",
          "text": [
            "{'eval_loss': 0.38064637780189514, 'eval_accuracy': 0.8462488967343337, 'eval_f1_score': 0.5928003740065451, 'eval_runtime': 1.2828, 'eval_samples_per_second': 1204.388, 'eval_steps_per_second': 75.615, 'epoch': 16.02}\n"
          ]
        },
        {
          "name": "stderr",
          "output_type": "stream",
          "text": [
            " 65%|██████▍   | 6250/9675 [04:10<01:12, 46.94it/s]"
          ]
        },
        {
          "name": "stdout",
          "output_type": "stream",
          "text": [
            "{'loss': 0.254, 'grad_norm': 0.4470790922641754, 'learning_rate': 0.0003540051679586563, 'epoch': 16.15}\n"
          ]
        },
        {
          "name": "stderr",
          "output_type": "stream",
          "text": [
            "                                                   \n",
            " 65%|██████▍   | 6257/9675 [04:12<03:56, 14.48it/s]"
          ]
        },
        {
          "name": "stdout",
          "output_type": "stream",
          "text": [
            "{'eval_loss': 0.38276562094688416, 'eval_accuracy': 0.8460723742277141, 'eval_f1_score': 0.5962962962962963, 'eval_runtime': 1.3728, 'eval_samples_per_second': 1125.461, 'eval_steps_per_second': 70.66, 'epoch': 16.15}\n"
          ]
        },
        {
          "name": "stderr",
          "output_type": "stream",
          "text": [
            " 65%|██████▌   | 6300/9675 [04:12<01:25, 39.37it/s]"
          ]
        },
        {
          "name": "stdout",
          "output_type": "stream",
          "text": [
            "{'loss': 0.2547, 'grad_norm': 0.42992523312568665, 'learning_rate': 0.0003488372093023256, 'epoch': 16.28}\n"
          ]
        },
        {
          "name": "stderr",
          "output_type": "stream",
          "text": [
            "                                                   \n",
            " 65%|██████▌   | 6310/9675 [04:14<02:46, 20.17it/s]"
          ]
        },
        {
          "name": "stdout",
          "output_type": "stream",
          "text": [
            "{'eval_loss': 0.37655290961265564, 'eval_accuracy': 0.8467784642541925, 'eval_f1_score': 0.5896627797037504, 'eval_runtime': 1.2457, 'eval_samples_per_second': 1240.221, 'eval_steps_per_second': 77.865, 'epoch': 16.28}\n"
          ]
        },
        {
          "name": "stderr",
          "output_type": "stream",
          "text": [
            " 66%|██████▌   | 6350/9675 [04:14<01:15, 43.83it/s]"
          ]
        },
        {
          "name": "stdout",
          "output_type": "stream",
          "text": [
            "{'loss': 0.2546, 'grad_norm': 0.5418083071708679, 'learning_rate': 0.00034366925064599485, 'epoch': 16.41}\n"
          ]
        },
        {
          "name": "stderr",
          "output_type": "stream",
          "text": [
            "                                                   \n",
            " 66%|██████▌   | 6359/9675 [04:16<02:53, 19.07it/s]"
          ]
        },
        {
          "name": "stdout",
          "output_type": "stream",
          "text": [
            "{'eval_loss': 0.3795642554759979, 'eval_accuracy': 0.8457781700500147, 'eval_f1_score': 0.5937064021082002, 'eval_runtime': 1.312, 'eval_samples_per_second': 1177.594, 'eval_steps_per_second': 73.933, 'epoch': 16.41}\n"
          ]
        },
        {
          "name": "stderr",
          "output_type": "stream",
          "text": [
            " 66%|██████▌   | 6400/9675 [04:16<01:10, 46.51it/s]"
          ]
        },
        {
          "name": "stdout",
          "output_type": "stream",
          "text": [
            "{'loss': 0.2781, 'grad_norm': 0.7039780616760254, 'learning_rate': 0.0003385012919896641, 'epoch': 16.54}\n"
          ]
        },
        {
          "name": "stderr",
          "output_type": "stream",
          "text": [
            "                                                   \n",
            " 66%|██████▌   | 6409/9675 [04:18<02:51, 19.02it/s]"
          ]
        },
        {
          "name": "stdout",
          "output_type": "stream",
          "text": [
            "{'eval_loss': 0.3828563094139099, 'eval_accuracy': 0.8464254192409533, 'eval_f1_score': 0.596100278551532, 'eval_runtime': 1.3422, 'eval_samples_per_second': 1151.069, 'eval_steps_per_second': 72.268, 'epoch': 16.54}\n"
          ]
        },
        {
          "name": "stderr",
          "output_type": "stream",
          "text": [
            " 67%|██████▋   | 6450/9675 [04:18<01:11, 45.39it/s]"
          ]
        },
        {
          "name": "stdout",
          "output_type": "stream",
          "text": [
            "{'loss': 0.2737, 'grad_norm': 0.45558232069015503, 'learning_rate': 0.0003333333333333333, 'epoch': 16.67}\n"
          ]
        },
        {
          "name": "stderr",
          "output_type": "stream",
          "text": [
            "                                                   \n",
            " 67%|██████▋   | 6460/9675 [04:20<02:37, 20.41it/s]"
          ]
        },
        {
          "name": "stdout",
          "output_type": "stream",
          "text": [
            "{'eval_loss': 0.37891754508018494, 'eval_accuracy': 0.8462488967343337, 'eval_f1_score': 0.5990486420131963, 'eval_runtime': 1.2701, 'eval_samples_per_second': 1216.413, 'eval_steps_per_second': 76.37, 'epoch': 16.67}\n"
          ]
        },
        {
          "name": "stderr",
          "output_type": "stream",
          "text": [
            " 67%|██████▋   | 6500/9675 [04:20<01:06, 47.87it/s]"
          ]
        },
        {
          "name": "stdout",
          "output_type": "stream",
          "text": [
            "{'loss': 0.2633, 'grad_norm': 0.37901103496551514, 'learning_rate': 0.0003281653746770026, 'epoch': 16.8}\n"
          ]
        },
        {
          "name": "stderr",
          "output_type": "stream",
          "text": [
            "                                                   \n",
            " 67%|██████▋   | 6503/9675 [04:22<03:53, 13.59it/s]"
          ]
        },
        {
          "name": "stdout",
          "output_type": "stream",
          "text": [
            "{'eval_loss': 0.3783864974975586, 'eval_accuracy': 0.8466019417475729, 'eval_f1_score': 0.5955003878975951, 'eval_runtime': 1.4956, 'eval_samples_per_second': 1033.059, 'eval_steps_per_second': 64.859, 'epoch': 16.8}\n"
          ]
        },
        {
          "name": "stderr",
          "output_type": "stream",
          "text": [
            " 68%|██████▊   | 6550/9675 [04:22<01:09, 44.99it/s]"
          ]
        },
        {
          "name": "stdout",
          "output_type": "stream",
          "text": [
            "{'loss': 0.2631, 'grad_norm': 0.4597695767879486, 'learning_rate': 0.00032299741602067185, 'epoch': 16.93}\n"
          ]
        },
        {
          "name": "stderr",
          "output_type": "stream",
          "text": [
            "                                                   \n",
            " 68%|██████▊   | 6563/9675 [04:24<02:43, 18.98it/s]"
          ]
        },
        {
          "name": "stdout",
          "output_type": "stream",
          "text": [
            "{'eval_loss': 0.38082167506217957, 'eval_accuracy': 0.8472491909385114, 'eval_f1_score': 0.597394540942928, 'eval_runtime': 1.3851, 'eval_samples_per_second': 1115.429, 'eval_steps_per_second': 70.03, 'epoch': 16.93}\n"
          ]
        },
        {
          "name": "stderr",
          "output_type": "stream",
          "text": [
            " 68%|██████▊   | 6600/9675 [04:24<01:06, 46.58it/s]"
          ]
        },
        {
          "name": "stdout",
          "output_type": "stream",
          "text": [
            "{'loss': 0.2719, 'grad_norm': 0.6678122282028198, 'learning_rate': 0.0003178294573643411, 'epoch': 17.05}\n"
          ]
        },
        {
          "name": "stderr",
          "output_type": "stream",
          "text": [
            "                                                   \n",
            " 68%|██████▊   | 6606/9675 [04:26<03:26, 14.86it/s]"
          ]
        },
        {
          "name": "stdout",
          "output_type": "stream",
          "text": [
            "{'eval_loss': 0.3854409158229828, 'eval_accuracy': 0.845189761694616, 'eval_f1_score': 0.5921562548442102, 'eval_runtime': 1.3092, 'eval_samples_per_second': 1180.07, 'eval_steps_per_second': 74.089, 'epoch': 17.05}\n"
          ]
        },
        {
          "name": "stderr",
          "output_type": "stream",
          "text": [
            " 69%|██████▊   | 6650/9675 [04:26<01:14, 40.44it/s]"
          ]
        },
        {
          "name": "stdout",
          "output_type": "stream",
          "text": [
            "{'loss': 0.2635, 'grad_norm': 0.3704085350036621, 'learning_rate': 0.0003126614987080104, 'epoch': 17.18}\n"
          ]
        },
        {
          "name": "stderr",
          "output_type": "stream",
          "text": [
            "                                                   \n",
            " 69%|██████▉   | 6660/9675 [04:28<02:27, 20.40it/s]"
          ]
        },
        {
          "name": "stdout",
          "output_type": "stream",
          "text": [
            "{'eval_loss': 0.38251280784606934, 'eval_accuracy': 0.8457781700500147, 'eval_f1_score': 0.5929492157167262, 'eval_runtime': 1.2754, 'eval_samples_per_second': 1211.359, 'eval_steps_per_second': 76.053, 'epoch': 17.18}\n"
          ]
        },
        {
          "name": "stderr",
          "output_type": "stream",
          "text": [
            " 69%|██████▉   | 6700/9675 [04:28<01:01, 48.03it/s]"
          ]
        },
        {
          "name": "stdout",
          "output_type": "stream",
          "text": [
            "{'loss': 0.2606, 'grad_norm': 0.41728463768959045, 'learning_rate': 0.0003074935400516796, 'epoch': 17.31}\n"
          ]
        },
        {
          "name": "stderr",
          "output_type": "stream",
          "text": [
            "                                                   \n",
            " 69%|██████▉   | 6712/9675 [04:30<02:33, 19.32it/s]"
          ]
        },
        {
          "name": "stdout",
          "output_type": "stream",
          "text": [
            "{'eval_loss': 0.3779202997684479, 'eval_accuracy': 0.8453074433656957, 'eval_f1_score': 0.5908171206225681, 'eval_runtime': 1.4033, 'eval_samples_per_second': 1100.975, 'eval_steps_per_second': 69.123, 'epoch': 17.31}\n"
          ]
        },
        {
          "name": "stderr",
          "output_type": "stream",
          "text": [
            " 70%|██████▉   | 6750/9675 [04:30<01:05, 44.92it/s]"
          ]
        },
        {
          "name": "stdout",
          "output_type": "stream",
          "text": [
            "{'loss': 0.2573, 'grad_norm': 0.5506368279457092, 'learning_rate': 0.00030232558139534885, 'epoch': 17.44}\n"
          ]
        },
        {
          "name": "stderr",
          "output_type": "stream",
          "text": [
            "                                                   \n",
            " 70%|██████▉   | 6762/9675 [04:32<02:26, 19.89it/s]"
          ]
        },
        {
          "name": "stdout",
          "output_type": "stream",
          "text": [
            "{'eval_loss': 0.38634517788887024, 'eval_accuracy': 0.8447190350102971, 'eval_f1_score': 0.5902810122651763, 'eval_runtime': 1.2579, 'eval_samples_per_second': 1228.248, 'eval_steps_per_second': 77.113, 'epoch': 17.44}\n"
          ]
        },
        {
          "name": "stderr",
          "output_type": "stream",
          "text": [
            " 70%|███████   | 6800/9675 [04:32<01:00, 47.50it/s]"
          ]
        },
        {
          "name": "stdout",
          "output_type": "stream",
          "text": [
            "{'loss': 0.2667, 'grad_norm': 0.4866306781768799, 'learning_rate': 0.0002971576227390181, 'epoch': 17.57}\n"
          ]
        },
        {
          "name": "stderr",
          "output_type": "stream",
          "text": [
            "                                                   \n",
            " 70%|███████   | 6805/9675 [04:34<03:20, 14.28it/s]"
          ]
        },
        {
          "name": "stdout",
          "output_type": "stream",
          "text": [
            "{'eval_loss': 0.3819960057735443, 'eval_accuracy': 0.8472491909385114, 'eval_f1_score': 0.5948813982521848, 'eval_runtime': 1.3733, 'eval_samples_per_second': 1125.029, 'eval_steps_per_second': 70.633, 'epoch': 17.57}\n"
          ]
        },
        {
          "name": "stderr",
          "output_type": "stream",
          "text": [
            " 71%|███████   | 6850/9675 [04:34<01:02, 44.88it/s]"
          ]
        },
        {
          "name": "stdout",
          "output_type": "stream",
          "text": [
            "{'loss': 0.2676, 'grad_norm': 0.5809105634689331, 'learning_rate': 0.00029198966408268737, 'epoch': 17.7}\n"
          ]
        },
        {
          "name": "stderr",
          "output_type": "stream",
          "text": [
            "                                                   \n",
            " 71%|███████   | 6862/9675 [04:36<02:26, 19.20it/s]"
          ]
        },
        {
          "name": "stdout",
          "output_type": "stream",
          "text": [
            "{'eval_loss': 0.3851374387741089, 'eval_accuracy': 0.8450132391879964, 'eval_f1_score': 0.5927643784786641, 'eval_runtime': 1.3259, 'eval_samples_per_second': 1165.229, 'eval_steps_per_second': 73.157, 'epoch': 17.7}\n"
          ]
        },
        {
          "name": "stderr",
          "output_type": "stream",
          "text": [
            " 71%|███████▏  | 6900/9675 [04:36<00:59, 46.57it/s]"
          ]
        },
        {
          "name": "stdout",
          "output_type": "stream",
          "text": [
            "{'loss': 0.2564, 'grad_norm': 0.8073681592941284, 'learning_rate': 0.0002868217054263566, 'epoch': 17.83}\n"
          ]
        },
        {
          "name": "stderr",
          "output_type": "stream",
          "text": [
            "                                                   \n",
            " 71%|███████▏  | 6912/9675 [04:38<02:34, 17.93it/s]"
          ]
        },
        {
          "name": "stdout",
          "output_type": "stream",
          "text": [
            "{'eval_loss': 0.38398507237434387, 'eval_accuracy': 0.8468373050897323, 'eval_f1_score': 0.596246316116023, 'eval_runtime': 1.4651, 'eval_samples_per_second': 1054.535, 'eval_steps_per_second': 66.207, 'epoch': 17.83}\n"
          ]
        },
        {
          "name": "stderr",
          "output_type": "stream",
          "text": [
            " 72%|███████▏  | 6950/9675 [04:39<01:01, 44.65it/s]"
          ]
        },
        {
          "name": "stdout",
          "output_type": "stream",
          "text": [
            "{'loss': 0.256, 'grad_norm': 0.3989159166812897, 'learning_rate': 0.00028165374677002584, 'epoch': 17.96}\n"
          ]
        },
        {
          "name": "stderr",
          "output_type": "stream",
          "text": [
            "                                                   \n",
            " 72%|███████▏  | 6963/9675 [04:40<02:12, 20.48it/s]"
          ]
        },
        {
          "name": "stdout",
          "output_type": "stream",
          "text": [
            "{'eval_loss': 0.37969809770584106, 'eval_accuracy': 0.8460723742277141, 'eval_f1_score': 0.589066918001885, 'eval_runtime': 1.2732, 'eval_samples_per_second': 1213.485, 'eval_steps_per_second': 76.186, 'epoch': 17.96}\n"
          ]
        },
        {
          "name": "stderr",
          "output_type": "stream",
          "text": [
            " 72%|███████▏  | 7000/9675 [04:40<00:57, 46.37it/s]"
          ]
        },
        {
          "name": "stdout",
          "output_type": "stream",
          "text": [
            "{'loss': 0.2626, 'grad_norm': 0.5603154897689819, 'learning_rate': 0.00027648578811369505, 'epoch': 18.09}\n"
          ]
        },
        {
          "name": "stderr",
          "output_type": "stream",
          "text": [
            "                                                   \n",
            " 72%|███████▏  | 7004/9675 [04:42<03:01, 14.73it/s]"
          ]
        },
        {
          "name": "stdout",
          "output_type": "stream",
          "text": [
            "{'eval_loss': 0.38209593296051025, 'eval_accuracy': 0.8463665784054134, 'eval_f1_score': 0.592604150413481, 'eval_runtime': 1.2667, 'eval_samples_per_second': 1219.748, 'eval_steps_per_second': 76.58, 'epoch': 18.09}\n"
          ]
        },
        {
          "name": "stderr",
          "output_type": "stream",
          "text": [
            " 73%|███████▎  | 7050/9675 [04:42<00:56, 46.11it/s]"
          ]
        },
        {
          "name": "stdout",
          "output_type": "stream",
          "text": [
            "{'loss': 0.2647, 'grad_norm': 0.4587605595588684, 'learning_rate': 0.0002713178294573643, 'epoch': 18.22}\n"
          ]
        },
        {
          "name": "stderr",
          "output_type": "stream",
          "text": [
            "                                                   \n",
            " 73%|███████▎  | 7062/9675 [04:44<02:21, 18.48it/s]"
          ]
        },
        {
          "name": "stdout",
          "output_type": "stream",
          "text": [
            "{'eval_loss': 0.38205772638320923, 'eval_accuracy': 0.8470726684318918, 'eval_f1_score': 0.5939696922355882, 'eval_runtime': 1.4057, 'eval_samples_per_second': 1099.093, 'eval_steps_per_second': 69.005, 'epoch': 18.22}\n"
          ]
        },
        {
          "name": "stderr",
          "output_type": "stream",
          "text": [
            " 73%|███████▎  | 7100/9675 [04:44<00:56, 45.22it/s]"
          ]
        },
        {
          "name": "stdout",
          "output_type": "stream",
          "text": [
            "{'loss': 0.2585, 'grad_norm': 0.31991854310035706, 'learning_rate': 0.0002661498708010336, 'epoch': 18.35}\n"
          ]
        },
        {
          "name": "stderr",
          "output_type": "stream",
          "text": [
            "                                                   \n",
            " 73%|███████▎  | 7104/9675 [04:46<03:00, 14.24it/s]"
          ]
        },
        {
          "name": "stdout",
          "output_type": "stream",
          "text": [
            "{'eval_loss': 0.38275811076164246, 'eval_accuracy': 0.8446013533392174, 'eval_f1_score': 0.5938797478087037, 'eval_runtime': 1.3191, 'eval_samples_per_second': 1171.294, 'eval_steps_per_second': 73.538, 'epoch': 18.35}\n"
          ]
        },
        {
          "name": "stderr",
          "output_type": "stream",
          "text": [
            " 74%|███████▍  | 7150/9675 [04:46<00:54, 46.14it/s]"
          ]
        },
        {
          "name": "stdout",
          "output_type": "stream",
          "text": [
            "{'loss': 0.2548, 'grad_norm': 0.41691625118255615, 'learning_rate': 0.00026098191214470284, 'epoch': 18.48}\n"
          ]
        },
        {
          "name": "stderr",
          "output_type": "stream",
          "text": [
            "                                                   \n",
            " 74%|███████▍  | 7165/9675 [04:48<02:02, 20.51it/s]"
          ]
        },
        {
          "name": "stdout",
          "output_type": "stream",
          "text": [
            "{'eval_loss': 0.386325865983963, 'eval_accuracy': 0.8449543983524566, 'eval_f1_score': 0.5931758530183727, 'eval_runtime': 1.288, 'eval_samples_per_second': 1199.579, 'eval_steps_per_second': 75.313, 'epoch': 18.48}\n"
          ]
        },
        {
          "name": "stderr",
          "output_type": "stream",
          "text": [
            " 74%|███████▍  | 7200/9675 [04:48<00:51, 47.98it/s]"
          ]
        },
        {
          "name": "stdout",
          "output_type": "stream",
          "text": [
            "{'loss': 0.253, 'grad_norm': 0.6254478096961975, 'learning_rate': 0.0002558139534883721, 'epoch': 18.6}\n"
          ]
        },
        {
          "name": "stderr",
          "output_type": "stream",
          "text": [
            "                                                   \n",
            " 74%|███████▍  | 7200/9675 [04:50<00:51, 47.98it/s]"
          ]
        },
        {
          "name": "stdout",
          "output_type": "stream",
          "text": [
            "{'eval_loss': 0.38415196537971497, 'eval_accuracy': 0.8464842600764931, 'eval_f1_score': 0.5929162115774692, 'eval_runtime': 1.5855, 'eval_samples_per_second': 974.467, 'eval_steps_per_second': 61.18, 'epoch': 18.6}\n"
          ]
        },
        {
          "name": "stderr",
          "output_type": "stream",
          "text": [
            " 75%|███████▍  | 7250/9675 [04:51<01:24, 28.61it/s]"
          ]
        },
        {
          "name": "stdout",
          "output_type": "stream",
          "text": [
            "{'loss': 0.2589, 'grad_norm': 0.4570752680301666, 'learning_rate': 0.00025064599483204137, 'epoch': 18.73}\n"
          ]
        },
        {
          "name": "stderr",
          "output_type": "stream",
          "text": [
            "                                                   \n",
            " 75%|███████▌  | 7259/9675 [04:53<03:08, 12.81it/s]"
          ]
        },
        {
          "name": "stdout",
          "output_type": "stream",
          "text": [
            "{'eval_loss': 0.3837389051914215, 'eval_accuracy': 0.846131215063254, 'eval_f1_score': 0.5987417523400338, 'eval_runtime': 1.499, 'eval_samples_per_second': 1030.669, 'eval_steps_per_second': 64.709, 'epoch': 18.73}\n"
          ]
        },
        {
          "name": "stderr",
          "output_type": "stream",
          "text": [
            " 75%|███████▌  | 7300/9675 [04:53<00:52, 45.28it/s]"
          ]
        },
        {
          "name": "stdout",
          "output_type": "stream",
          "text": [
            "{'loss': 0.2533, 'grad_norm': 0.4586530029773712, 'learning_rate': 0.0002454780361757106, 'epoch': 18.86}\n"
          ]
        },
        {
          "name": "stderr",
          "output_type": "stream",
          "text": [
            "                                                   \n",
            " 76%|███████▌  | 7305/9675 [04:55<03:11, 12.37it/s]"
          ]
        },
        {
          "name": "stdout",
          "output_type": "stream",
          "text": [
            "{'eval_loss': 0.3826180696487427, 'eval_accuracy': 0.8455428067078552, 'eval_f1_score': 0.5962159667743424, 'eval_runtime': 1.4228, 'eval_samples_per_second': 1085.908, 'eval_steps_per_second': 68.177, 'epoch': 18.86}\n"
          ]
        },
        {
          "name": "stderr",
          "output_type": "stream",
          "text": [
            " 76%|███████▌  | 7350/9675 [04:56<00:49, 47.14it/s]"
          ]
        },
        {
          "name": "stdout",
          "output_type": "stream",
          "text": [
            "{'loss': 0.2687, 'grad_norm': 0.43357351422309875, 'learning_rate': 0.00024031007751937987, 'epoch': 18.99}\n"
          ]
        },
        {
          "name": "stderr",
          "output_type": "stream",
          "text": [
            "                                                   \n",
            " 76%|███████▌  | 7358/9675 [04:57<02:45, 14.00it/s]"
          ]
        },
        {
          "name": "stdout",
          "output_type": "stream",
          "text": [
            "{'eval_loss': 0.3854188323020935, 'eval_accuracy': 0.8452486025301559, 'eval_f1_score': 0.5946362515413071, 'eval_runtime': 1.3188, 'eval_samples_per_second': 1171.51, 'eval_steps_per_second': 73.551, 'epoch': 18.99}\n"
          ]
        },
        {
          "name": "stderr",
          "output_type": "stream",
          "text": [
            " 76%|███████▋  | 7400/9675 [04:58<00:57, 39.40it/s]"
          ]
        },
        {
          "name": "stdout",
          "output_type": "stream",
          "text": [
            "{'loss': 0.2601, 'grad_norm': 0.42299985885620117, 'learning_rate': 0.0002351421188630491, 'epoch': 19.12}\n"
          ]
        },
        {
          "name": "stderr",
          "output_type": "stream",
          "text": [
            "                                                   \n",
            " 77%|███████▋  | 7403/9675 [04:59<03:24, 11.10it/s]"
          ]
        },
        {
          "name": "stdout",
          "output_type": "stream",
          "text": [
            "{'eval_loss': 0.3832699656486511, 'eval_accuracy': 0.8464842600764931, 'eval_f1_score': 0.597562856702144, 'eval_runtime': 1.3868, 'eval_samples_per_second': 1114.086, 'eval_steps_per_second': 69.946, 'epoch': 19.12}\n"
          ]
        },
        {
          "name": "stderr",
          "output_type": "stream",
          "text": [
            " 77%|███████▋  | 7450/9675 [05:00<00:49, 44.78it/s]"
          ]
        },
        {
          "name": "stdout",
          "output_type": "stream",
          "text": [
            "{'loss': 0.2438, 'grad_norm': 0.41384103894233704, 'learning_rate': 0.00022997416020671837, 'epoch': 19.25}\n"
          ]
        },
        {
          "name": "stderr",
          "output_type": "stream",
          "text": [
            "                                                   \n",
            " 77%|███████▋  | 7464/9675 [05:02<02:02, 18.05it/s]"
          ]
        },
        {
          "name": "stdout",
          "output_type": "stream",
          "text": [
            "{'eval_loss': 0.38078629970550537, 'eval_accuracy': 0.8472491909385114, 'eval_f1_score': 0.5991352686843731, 'eval_runtime': 1.3671, 'eval_samples_per_second': 1130.099, 'eval_steps_per_second': 70.951, 'epoch': 19.25}\n"
          ]
        },
        {
          "name": "stderr",
          "output_type": "stream",
          "text": [
            " 78%|███████▊  | 7500/9675 [05:02<00:47, 45.55it/s]"
          ]
        },
        {
          "name": "stdout",
          "output_type": "stream",
          "text": [
            "{'loss': 0.2516, 'grad_norm': 0.4973447620868683, 'learning_rate': 0.0002248062015503876, 'epoch': 19.38}\n"
          ]
        },
        {
          "name": "stderr",
          "output_type": "stream",
          "text": [
            "                                                   \n",
            " 78%|███████▊  | 7506/9675 [05:04<02:43, 13.28it/s]"
          ]
        },
        {
          "name": "stdout",
          "output_type": "stream",
          "text": [
            "{'eval_loss': 0.3835391104221344, 'eval_accuracy': 0.846131215063254, 'eval_f1_score': 0.5978779025065355, 'eval_runtime': 1.4782, 'eval_samples_per_second': 1045.208, 'eval_steps_per_second': 65.621, 'epoch': 19.38}\n"
          ]
        },
        {
          "name": "stderr",
          "output_type": "stream",
          "text": [
            " 78%|███████▊  | 7550/9675 [05:04<00:49, 42.73it/s]"
          ]
        },
        {
          "name": "stdout",
          "output_type": "stream",
          "text": [
            "{'loss': 0.2555, 'grad_norm': 0.4783141314983368, 'learning_rate': 0.00021963824289405684, 'epoch': 19.51}\n"
          ]
        },
        {
          "name": "stderr",
          "output_type": "stream",
          "text": [
            "                                                   \n",
            " 78%|███████▊  | 7564/9675 [05:06<01:52, 18.77it/s]"
          ]
        },
        {
          "name": "stdout",
          "output_type": "stream",
          "text": [
            "{'eval_loss': 0.3888084292411804, 'eval_accuracy': 0.8449543983524566, 'eval_f1_score': 0.5934269402869927, 'eval_runtime': 1.3326, 'eval_samples_per_second': 1159.35, 'eval_steps_per_second': 72.788, 'epoch': 19.51}\n"
          ]
        },
        {
          "name": "stderr",
          "output_type": "stream",
          "text": [
            " 79%|███████▊  | 7600/9675 [05:06<00:44, 46.67it/s]"
          ]
        },
        {
          "name": "stdout",
          "output_type": "stream",
          "text": [
            "{'loss': 0.2507, 'grad_norm': 0.393746942281723, 'learning_rate': 0.0002144702842377261, 'epoch': 19.64}\n"
          ]
        },
        {
          "name": "stderr",
          "output_type": "stream",
          "text": [
            "                                                   \n",
            " 79%|███████▊  | 7607/9675 [05:08<02:31, 13.66it/s]"
          ]
        },
        {
          "name": "stdout",
          "output_type": "stream",
          "text": [
            "{'eval_loss': 0.38634273409843445, 'eval_accuracy': 0.845189761694616, 'eval_f1_score': 0.5916498525531585, 'eval_runtime': 1.4709, 'eval_samples_per_second': 1050.363, 'eval_steps_per_second': 65.945, 'epoch': 19.64}\n"
          ]
        },
        {
          "name": "stderr",
          "output_type": "stream",
          "text": [
            " 79%|███████▉  | 7650/9675 [05:08<00:44, 45.15it/s]"
          ]
        },
        {
          "name": "stdout",
          "output_type": "stream",
          "text": [
            "{'loss': 0.261, 'grad_norm': 0.42630526423454285, 'learning_rate': 0.00020930232558139536, 'epoch': 19.77}\n"
          ]
        },
        {
          "name": "stderr",
          "output_type": "stream",
          "text": [
            "                                                   \n",
            " 79%|███████▉  | 7658/9675 [05:10<02:19, 14.45it/s]"
          ]
        },
        {
          "name": "stdout",
          "output_type": "stream",
          "text": [
            "{'eval_loss': 0.3891526460647583, 'eval_accuracy': 0.8461900558987938, 'eval_f1_score': 0.5978461538461538, 'eval_runtime': 1.3931, 'eval_samples_per_second': 1109.043, 'eval_steps_per_second': 69.629, 'epoch': 19.77}\n"
          ]
        },
        {
          "name": "stderr",
          "output_type": "stream",
          "text": [
            " 80%|███████▉  | 7700/9675 [05:10<00:44, 44.88it/s]"
          ]
        },
        {
          "name": "stdout",
          "output_type": "stream",
          "text": [
            "{'loss': 0.2608, 'grad_norm': 0.44834470748901367, 'learning_rate': 0.0002041343669250646, 'epoch': 19.9}\n"
          ]
        },
        {
          "name": "stderr",
          "output_type": "stream",
          "text": [
            "                                                   \n",
            " 80%|███████▉  | 7708/9675 [05:12<02:17, 14.26it/s]"
          ]
        },
        {
          "name": "stdout",
          "output_type": "stream",
          "text": [
            "{'eval_loss': 0.3851073682308197, 'eval_accuracy': 0.8452486025301559, 'eval_f1_score': 0.5933828076685219, 'eval_runtime': 1.3414, 'eval_samples_per_second': 1151.751, 'eval_steps_per_second': 72.311, 'epoch': 19.9}\n"
          ]
        },
        {
          "name": "stderr",
          "output_type": "stream",
          "text": [
            " 80%|████████  | 7750/9675 [05:12<00:50, 37.88it/s]"
          ]
        },
        {
          "name": "stdout",
          "output_type": "stream",
          "text": [
            "{'loss': 0.2523, 'grad_norm': 0.46139976382255554, 'learning_rate': 0.00019896640826873386, 'epoch': 20.03}\n"
          ]
        },
        {
          "name": "stderr",
          "output_type": "stream",
          "text": [
            "                                                   \n",
            " 80%|████████  | 7759/9675 [05:14<01:42, 18.74it/s]"
          ]
        },
        {
          "name": "stdout",
          "output_type": "stream",
          "text": [
            "{'eval_loss': 0.38763219118118286, 'eval_accuracy': 0.8456016475433951, 'eval_f1_score': 0.5933044017358958, 'eval_runtime': 1.3294, 'eval_samples_per_second': 1162.154, 'eval_steps_per_second': 72.964, 'epoch': 20.03}\n"
          ]
        },
        {
          "name": "stderr",
          "output_type": "stream",
          "text": [
            " 81%|████████  | 7800/9675 [05:14<00:42, 43.69it/s]"
          ]
        },
        {
          "name": "stdout",
          "output_type": "stream",
          "text": [
            "{'loss': 0.2608, 'grad_norm': 0.6393615007400513, 'learning_rate': 0.00019379844961240313, 'epoch': 20.16}\n"
          ]
        },
        {
          "name": "stderr",
          "output_type": "stream",
          "text": [
            "                                                   \n",
            " 81%|████████  | 7809/9675 [05:16<01:39, 18.82it/s]"
          ]
        },
        {
          "name": "stdout",
          "output_type": "stream",
          "text": [
            "{'eval_loss': 0.3885178864002228, 'eval_accuracy': 0.844777875845837, 'eval_f1_score': 0.5973748473748474, 'eval_runtime': 1.359, 'eval_samples_per_second': 1136.861, 'eval_steps_per_second': 71.376, 'epoch': 20.16}\n"
          ]
        },
        {
          "name": "stderr",
          "output_type": "stream",
          "text": [
            " 81%|████████  | 7850/9675 [05:17<00:40, 45.62it/s]"
          ]
        },
        {
          "name": "stdout",
          "output_type": "stream",
          "text": [
            "{'loss': 0.2464, 'grad_norm': 0.49435871839523315, 'learning_rate': 0.00018863049095607236, 'epoch': 20.28}\n"
          ]
        },
        {
          "name": "stderr",
          "output_type": "stream",
          "text": [
            "                                                   \n",
            " 81%|████████  | 7860/9675 [05:18<01:31, 19.74it/s]"
          ]
        },
        {
          "name": "stdout",
          "output_type": "stream",
          "text": [
            "{'eval_loss': 0.3872239291667938, 'eval_accuracy': 0.8446601941747572, 'eval_f1_score': 0.5950920245398773, 'eval_runtime': 1.2885, 'eval_samples_per_second': 1199.034, 'eval_steps_per_second': 75.279, 'epoch': 20.28}\n"
          ]
        },
        {
          "name": "stderr",
          "output_type": "stream",
          "text": [
            " 82%|████████▏ | 7900/9675 [05:19<00:41, 42.61it/s]"
          ]
        },
        {
          "name": "stdout",
          "output_type": "stream",
          "text": [
            "{'loss': 0.2424, 'grad_norm': 0.41091063618659973, 'learning_rate': 0.0001834625322997416, 'epoch': 20.41}\n"
          ]
        },
        {
          "name": "stderr",
          "output_type": "stream",
          "text": [
            "                                                   \n",
            " 82%|████████▏ | 7909/9675 [05:20<01:38, 17.97it/s]"
          ]
        },
        {
          "name": "stdout",
          "output_type": "stream",
          "text": [
            "{'eval_loss': 0.38202786445617676, 'eval_accuracy': 0.8454251250367755, 'eval_f1_score': 0.5945361938570767, 'eval_runtime': 1.3811, 'eval_samples_per_second': 1118.696, 'eval_steps_per_second': 70.235, 'epoch': 20.41}\n"
          ]
        },
        {
          "name": "stderr",
          "output_type": "stream",
          "text": [
            " 82%|████████▏ | 7950/9675 [05:21<00:39, 43.93it/s]"
          ]
        },
        {
          "name": "stdout",
          "output_type": "stream",
          "text": [
            "{'loss': 0.2569, 'grad_norm': 0.3384653925895691, 'learning_rate': 0.00017829457364341086, 'epoch': 20.54}\n"
          ]
        },
        {
          "name": "stderr",
          "output_type": "stream",
          "text": [
            "                                                   \n",
            " 82%|████████▏ | 7959/9675 [05:22<01:33, 18.39it/s]"
          ]
        },
        {
          "name": "stdout",
          "output_type": "stream",
          "text": [
            "{'eval_loss': 0.39016398787498474, 'eval_accuracy': 0.8455428067078552, 'eval_f1_score': 0.5945945945945946, 'eval_runtime': 1.4416, 'eval_samples_per_second': 1071.739, 'eval_steps_per_second': 67.287, 'epoch': 20.54}\n"
          ]
        },
        {
          "name": "stderr",
          "output_type": "stream",
          "text": [
            " 83%|████████▎ | 8000/9675 [05:23<00:32, 51.23it/s]"
          ]
        },
        {
          "name": "stdout",
          "output_type": "stream",
          "text": [
            "{'loss': 0.2457, 'grad_norm': 0.38238582015037537, 'learning_rate': 0.0001731266149870801, 'epoch': 20.67}\n"
          ]
        },
        {
          "name": "stderr",
          "output_type": "stream",
          "text": [
            "                                                   \n",
            " 83%|████████▎ | 8008/9675 [05:24<01:55, 14.46it/s]"
          ]
        },
        {
          "name": "stdout",
          "output_type": "stream",
          "text": [
            "{'eval_loss': 0.384573757648468, 'eval_accuracy': 0.8451309208590762, 'eval_f1_score': 0.5938271604938271, 'eval_runtime': 1.351, 'eval_samples_per_second': 1143.61, 'eval_steps_per_second': 71.799, 'epoch': 20.67}\n"
          ]
        },
        {
          "name": "stderr",
          "output_type": "stream",
          "text": [
            " 83%|████████▎ | 8050/9675 [05:25<00:40, 39.98it/s]"
          ]
        },
        {
          "name": "stdout",
          "output_type": "stream",
          "text": [
            "{'loss': 0.2696, 'grad_norm': 0.5439167022705078, 'learning_rate': 0.00016795865633074936, 'epoch': 20.8}\n"
          ]
        },
        {
          "name": "stderr",
          "output_type": "stream",
          "text": [
            "                                                   \n",
            " 83%|████████▎ | 8059/9675 [05:26<01:24, 19.21it/s]"
          ]
        },
        {
          "name": "stdout",
          "output_type": "stream",
          "text": [
            "{'eval_loss': 0.3847596347332001, 'eval_accuracy': 0.8448955575169167, 'eval_f1_score': 0.5913178294573643, 'eval_runtime': 1.2809, 'eval_samples_per_second': 1206.159, 'eval_steps_per_second': 75.726, 'epoch': 20.8}\n"
          ]
        },
        {
          "name": "stderr",
          "output_type": "stream",
          "text": [
            " 84%|████████▎ | 8100/9675 [05:27<00:33, 47.32it/s]"
          ]
        },
        {
          "name": "stdout",
          "output_type": "stream",
          "text": [
            "{'loss': 0.2601, 'grad_norm': 0.5062658786773682, 'learning_rate': 0.00016279069767441862, 'epoch': 20.93}\n"
          ]
        },
        {
          "name": "stderr",
          "output_type": "stream",
          "text": [
            "                                                   \n",
            " 84%|████████▍ | 8111/9675 [05:28<01:21, 19.21it/s]"
          ]
        },
        {
          "name": "stdout",
          "output_type": "stream",
          "text": [
            "{'eval_loss': 0.3891417384147644, 'eval_accuracy': 0.8450132391879964, 'eval_f1_score': 0.5920074349442379, 'eval_runtime': 1.3897, 'eval_samples_per_second': 1111.76, 'eval_steps_per_second': 69.8, 'epoch': 20.93}\n"
          ]
        },
        {
          "name": "stderr",
          "output_type": "stream",
          "text": [
            " 84%|████████▍ | 8150/9675 [05:29<00:33, 45.66it/s]"
          ]
        },
        {
          "name": "stdout",
          "output_type": "stream",
          "text": [
            "{'loss': 0.2626, 'grad_norm': 0.7515758872032166, 'learning_rate': 0.00015762273901808786, 'epoch': 21.06}\n"
          ]
        },
        {
          "name": "stderr",
          "output_type": "stream",
          "text": [
            "                                                   \n",
            " 84%|████████▍ | 8162/9675 [05:30<01:10, 21.41it/s]"
          ]
        },
        {
          "name": "stdout",
          "output_type": "stream",
          "text": [
            "{'eval_loss': 0.3824801743030548, 'eval_accuracy': 0.8459546925566344, 'eval_f1_score': 0.592846034214619, 'eval_runtime': 1.1968, 'eval_samples_per_second': 1290.923, 'eval_steps_per_second': 81.048, 'epoch': 21.06}\n"
          ]
        },
        {
          "name": "stderr",
          "output_type": "stream",
          "text": [
            " 85%|████████▍ | 8200/9675 [05:31<00:29, 49.34it/s]"
          ]
        },
        {
          "name": "stdout",
          "output_type": "stream",
          "text": [
            "{'loss': 0.2567, 'grad_norm': 0.4954202473163605, 'learning_rate': 0.00015245478036175712, 'epoch': 21.19}\n"
          ]
        },
        {
          "name": "stderr",
          "output_type": "stream",
          "text": [
            "                                                   \n",
            " 85%|████████▍ | 8205/9675 [05:32<01:33, 15.77it/s]"
          ]
        },
        {
          "name": "stdout",
          "output_type": "stream",
          "text": [
            "{'eval_loss': 0.3922494351863861, 'eval_accuracy': 0.8446013533392174, 'eval_f1_score': 0.5959920452807098, 'eval_runtime': 1.2303, 'eval_samples_per_second': 1255.806, 'eval_steps_per_second': 78.843, 'epoch': 21.19}\n"
          ]
        },
        {
          "name": "stderr",
          "output_type": "stream",
          "text": [
            " 85%|████████▌ | 8250/9675 [05:33<00:32, 43.45it/s]"
          ]
        },
        {
          "name": "stdout",
          "output_type": "stream",
          "text": [
            "{'loss': 0.2484, 'grad_norm': 0.39436596632003784, 'learning_rate': 0.00014728682170542638, 'epoch': 21.32}\n"
          ]
        },
        {
          "name": "stderr",
          "output_type": "stream",
          "text": [
            "                                                   \n",
            " 85%|████████▌ | 8262/9675 [05:34<01:12, 19.61it/s]"
          ]
        },
        {
          "name": "stdout",
          "output_type": "stream",
          "text": [
            "{'eval_loss': 0.39006486535072327, 'eval_accuracy': 0.8448367166813768, 'eval_f1_score': 0.5962333486449242, 'eval_runtime': 1.2688, 'eval_samples_per_second': 1217.657, 'eval_steps_per_second': 76.448, 'epoch': 21.32}\n"
          ]
        },
        {
          "name": "stderr",
          "output_type": "stream",
          "text": [
            " 86%|████████▌ | 8300/9675 [05:34<00:29, 46.71it/s]"
          ]
        },
        {
          "name": "stdout",
          "output_type": "stream",
          "text": [
            "{'loss': 0.2601, 'grad_norm': 0.39446067810058594, 'learning_rate': 0.0001421188630490956, 'epoch': 21.45}\n"
          ]
        },
        {
          "name": "stderr",
          "output_type": "stream",
          "text": [
            "                                                   \n",
            " 86%|████████▌ | 8304/9675 [05:36<01:34, 14.53it/s]"
          ]
        },
        {
          "name": "stdout",
          "output_type": "stream",
          "text": [
            "{'eval_loss': 0.3877314329147339, 'eval_accuracy': 0.8458958517210945, 'eval_f1_score': 0.5966425381179732, 'eval_runtime': 1.3286, 'eval_samples_per_second': 1162.835, 'eval_steps_per_second': 73.006, 'epoch': 21.45}\n"
          ]
        },
        {
          "name": "stderr",
          "output_type": "stream",
          "text": [
            " 86%|████████▋ | 8350/9675 [05:37<00:30, 43.96it/s]"
          ]
        },
        {
          "name": "stdout",
          "output_type": "stream",
          "text": [
            "{'loss': 0.247, 'grad_norm': 0.5813236236572266, 'learning_rate': 0.00013695090439276486, 'epoch': 21.58}\n"
          ]
        },
        {
          "name": "stderr",
          "output_type": "stream",
          "text": [
            "                                                   \n",
            " 86%|████████▋ | 8360/9675 [05:38<01:10, 18.63it/s]"
          ]
        },
        {
          "name": "stdout",
          "output_type": "stream",
          "text": [
            "{'eval_loss': 0.38432827591896057, 'eval_accuracy': 0.8458370108855546, 'eval_f1_score': 0.5954292773316863, 'eval_runtime': 1.3617, 'eval_samples_per_second': 1134.617, 'eval_steps_per_second': 71.235, 'epoch': 21.58}\n"
          ]
        },
        {
          "name": "stderr",
          "output_type": "stream",
          "text": [
            " 87%|████████▋ | 8400/9675 [05:39<00:27, 47.14it/s]"
          ]
        },
        {
          "name": "stdout",
          "output_type": "stream",
          "text": [
            "{'loss': 0.249, 'grad_norm': 0.5167503952980042, 'learning_rate': 0.00013178294573643412, 'epoch': 21.71}\n"
          ]
        },
        {
          "name": "stderr",
          "output_type": "stream",
          "text": [
            "                                                   \n",
            " 87%|████████▋ | 8404/9675 [05:40<01:25, 14.79it/s]"
          ]
        },
        {
          "name": "stdout",
          "output_type": "stream",
          "text": [
            "{'eval_loss': 0.3863048851490021, 'eval_accuracy': 0.8455428067078552, 'eval_f1_score': 0.5975778016250192, 'eval_runtime': 1.3297, 'eval_samples_per_second': 1161.909, 'eval_steps_per_second': 72.948, 'epoch': 21.71}\n"
          ]
        },
        {
          "name": "stderr",
          "output_type": "stream",
          "text": [
            " 87%|████████▋ | 8450/9675 [05:41<00:26, 46.15it/s]"
          ]
        },
        {
          "name": "stdout",
          "output_type": "stream",
          "text": [
            "{'loss': 0.253, 'grad_norm': 0.5512554049491882, 'learning_rate': 0.00012661498708010335, 'epoch': 21.83}\n"
          ]
        },
        {
          "name": "stderr",
          "output_type": "stream",
          "text": [
            "                                                   \n",
            " 87%|████████▋ | 8455/9675 [05:42<01:25, 14.27it/s]"
          ]
        },
        {
          "name": "stdout",
          "output_type": "stream",
          "text": [
            "{'eval_loss': 0.38528764247894287, 'eval_accuracy': 0.8450720800235363, 'eval_f1_score': 0.5934846379496681, 'eval_runtime': 1.3441, 'eval_samples_per_second': 1149.426, 'eval_steps_per_second': 72.165, 'epoch': 21.83}\n"
          ]
        },
        {
          "name": "stderr",
          "output_type": "stream",
          "text": [
            " 88%|████████▊ | 8500/9675 [05:43<00:25, 45.31it/s]"
          ]
        },
        {
          "name": "stdout",
          "output_type": "stream",
          "text": [
            "{'loss': 0.2512, 'grad_norm': 0.4133695960044861, 'learning_rate': 0.00012144702842377262, 'epoch': 21.96}\n"
          ]
        },
        {
          "name": "stderr",
          "output_type": "stream",
          "text": [
            "                                                   \n",
            " 88%|████████▊ | 8505/9675 [05:44<01:19, 14.66it/s]"
          ]
        },
        {
          "name": "stdout",
          "output_type": "stream",
          "text": [
            "{'eval_loss': 0.3878956735134125, 'eval_accuracy': 0.8450720800235363, 'eval_f1_score': 0.5952344350499615, 'eval_runtime': 1.2875, 'eval_samples_per_second': 1199.968, 'eval_steps_per_second': 75.338, 'epoch': 21.96}\n"
          ]
        },
        {
          "name": "stderr",
          "output_type": "stream",
          "text": [
            " 88%|████████▊ | 8550/9675 [05:45<00:24, 46.19it/s]"
          ]
        },
        {
          "name": "stdout",
          "output_type": "stream",
          "text": [
            "{'loss': 0.2512, 'grad_norm': 0.5152814984321594, 'learning_rate': 0.00011627906976744187, 'epoch': 22.09}\n"
          ]
        },
        {
          "name": "stderr",
          "output_type": "stream",
          "text": [
            "                                                   \n",
            " 89%|████████▊ | 8564/9675 [05:46<00:57, 19.32it/s]"
          ]
        },
        {
          "name": "stdout",
          "output_type": "stream",
          "text": [
            "{'eval_loss': 0.39309900999069214, 'eval_accuracy': 0.844777875845837, 'eval_f1_score': 0.5921459492888065, 'eval_runtime': 1.3972, 'eval_samples_per_second': 1105.81, 'eval_steps_per_second': 69.426, 'epoch': 22.09}\n"
          ]
        },
        {
          "name": "stderr",
          "output_type": "stream",
          "text": [
            " 89%|████████▉ | 8600/9675 [05:47<00:23, 45.89it/s]"
          ]
        },
        {
          "name": "stdout",
          "output_type": "stream",
          "text": [
            "{'loss': 0.2485, 'grad_norm': 0.5626385807991028, 'learning_rate': 0.0001111111111111111, 'epoch': 22.22}\n"
          ]
        },
        {
          "name": "stderr",
          "output_type": "stream",
          "text": [
            "                                                   \n",
            " 89%|████████▉ | 8606/9675 [05:48<01:14, 14.37it/s]"
          ]
        },
        {
          "name": "stdout",
          "output_type": "stream",
          "text": [
            "{'eval_loss': 0.3856670558452606, 'eval_accuracy': 0.8461900558987938, 'eval_f1_score': 0.6007941356139279, 'eval_runtime': 1.3546, 'eval_samples_per_second': 1140.561, 'eval_steps_per_second': 71.608, 'epoch': 22.22}\n"
          ]
        },
        {
          "name": "stderr",
          "output_type": "stream",
          "text": [
            " 89%|████████▉ | 8650/9675 [05:49<00:23, 44.33it/s]"
          ]
        },
        {
          "name": "stdout",
          "output_type": "stream",
          "text": [
            "{'loss': 0.2535, 'grad_norm': 0.5788860321044922, 'learning_rate': 0.00010594315245478037, 'epoch': 22.35}\n"
          ]
        },
        {
          "name": "stderr",
          "output_type": "stream",
          "text": [
            "                                                   \n",
            " 89%|████████▉ | 8655/9675 [05:50<01:09, 14.71it/s]"
          ]
        },
        {
          "name": "stdout",
          "output_type": "stream",
          "text": [
            "{'eval_loss': 0.38836854696273804, 'eval_accuracy': 0.8462488967343337, 'eval_f1_score': 0.5983089930822444, 'eval_runtime': 1.251, 'eval_samples_per_second': 1235.035, 'eval_steps_per_second': 77.539, 'epoch': 22.35}\n"
          ]
        },
        {
          "name": "stderr",
          "output_type": "stream",
          "text": [
            " 90%|████████▉ | 8700/9675 [05:51<00:20, 47.21it/s]"
          ]
        },
        {
          "name": "stdout",
          "output_type": "stream",
          "text": [
            "{'loss': 0.257, 'grad_norm': 0.5033268928527832, 'learning_rate': 0.00010077519379844962, 'epoch': 22.48}\n"
          ]
        },
        {
          "name": "stderr",
          "output_type": "stream",
          "text": [
            "                                                   \n",
            " 90%|████████▉ | 8706/9675 [05:52<01:04, 15.01it/s]"
          ]
        },
        {
          "name": "stdout",
          "output_type": "stream",
          "text": [
            "{'eval_loss': 0.38828277587890625, 'eval_accuracy': 0.8456016475433951, 'eval_f1_score': 0.5915317559153176, 'eval_runtime': 1.2865, 'eval_samples_per_second': 1200.965, 'eval_steps_per_second': 75.4, 'epoch': 22.48}\n"
          ]
        },
        {
          "name": "stderr",
          "output_type": "stream",
          "text": [
            " 90%|█████████ | 8750/9675 [05:53<00:19, 47.40it/s]"
          ]
        },
        {
          "name": "stdout",
          "output_type": "stream",
          "text": [
            "{'loss': 0.2521, 'grad_norm': 0.5234147310256958, 'learning_rate': 9.560723514211886e-05, 'epoch': 22.61}\n"
          ]
        },
        {
          "name": "stderr",
          "output_type": "stream",
          "text": [
            "                                                   \n",
            " 91%|█████████ | 8757/9675 [05:54<01:02, 14.77it/s]"
          ]
        },
        {
          "name": "stdout",
          "output_type": "stream",
          "text": [
            "{'eval_loss': 0.3889011740684509, 'eval_accuracy': 0.8448367166813768, 'eval_f1_score': 0.5931183459342694, 'eval_runtime': 1.3442, 'eval_samples_per_second': 1149.423, 'eval_steps_per_second': 72.164, 'epoch': 22.61}\n"
          ]
        },
        {
          "name": "stderr",
          "output_type": "stream",
          "text": [
            " 91%|█████████ | 8800/9675 [05:55<00:20, 42.51it/s]"
          ]
        },
        {
          "name": "stdout",
          "output_type": "stream",
          "text": [
            "{'loss': 0.2584, 'grad_norm': 0.4635409116744995, 'learning_rate': 9.043927648578811e-05, 'epoch': 22.74}\n"
          ]
        },
        {
          "name": "stderr",
          "output_type": "stream",
          "text": [
            "                                                   \n",
            " 91%|█████████ | 8804/9675 [05:56<01:03, 13.69it/s]"
          ]
        },
        {
          "name": "stdout",
          "output_type": "stream",
          "text": [
            "{'eval_loss': 0.38855233788490295, 'eval_accuracy': 0.8455428067078552, 'eval_f1_score': 0.5953445352242948, 'eval_runtime': 1.3321, 'eval_samples_per_second': 1159.841, 'eval_steps_per_second': 72.818, 'epoch': 22.74}\n"
          ]
        },
        {
          "name": "stderr",
          "output_type": "stream",
          "text": [
            " 91%|█████████▏| 8850/9675 [05:57<00:17, 46.81it/s]"
          ]
        },
        {
          "name": "stdout",
          "output_type": "stream",
          "text": [
            "{'loss': 0.2342, 'grad_norm': 0.4333411455154419, 'learning_rate': 8.527131782945736e-05, 'epoch': 22.87}\n"
          ]
        },
        {
          "name": "stderr",
          "output_type": "stream",
          "text": [
            "                                                   \n",
            " 92%|█████████▏| 8856/9675 [05:58<00:52, 15.70it/s]"
          ]
        },
        {
          "name": "stdout",
          "output_type": "stream",
          "text": [
            "{'eval_loss': 0.3882623314857483, 'eval_accuracy': 0.8455428067078552, 'eval_f1_score': 0.5962159667743424, 'eval_runtime': 1.23, 'eval_samples_per_second': 1256.069, 'eval_steps_per_second': 78.86, 'epoch': 22.87}\n"
          ]
        },
        {
          "name": "stderr",
          "output_type": "stream",
          "text": [
            " 92%|█████████▏| 8900/9675 [05:59<00:16, 48.27it/s]"
          ]
        },
        {
          "name": "stdout",
          "output_type": "stream",
          "text": [
            "{'loss': 0.2519, 'grad_norm': 0.4571845829486847, 'learning_rate': 8.010335917312661e-05, 'epoch': 23.0}\n"
          ]
        },
        {
          "name": "stderr",
          "output_type": "stream",
          "text": [
            "                                                   \n",
            " 92%|█████████▏| 8907/9675 [06:00<00:53, 14.32it/s]"
          ]
        },
        {
          "name": "stdout",
          "output_type": "stream",
          "text": [
            "{'eval_loss': 0.3869656026363373, 'eval_accuracy': 0.8448367166813768, 'eval_f1_score': 0.5928670680870773, 'eval_runtime': 1.381, 'eval_samples_per_second': 1118.776, 'eval_steps_per_second': 70.24, 'epoch': 23.0}\n"
          ]
        },
        {
          "name": "stderr",
          "output_type": "stream",
          "text": [
            " 93%|█████████▎| 8950/9675 [06:01<00:16, 43.46it/s]"
          ]
        },
        {
          "name": "stdout",
          "output_type": "stream",
          "text": [
            "{'loss': 0.2635, 'grad_norm': 0.4137432277202606, 'learning_rate': 7.493540051679588e-05, 'epoch': 23.13}\n"
          ]
        },
        {
          "name": "stderr",
          "output_type": "stream",
          "text": [
            "                                                   \n",
            " 93%|█████████▎| 8963/9675 [06:02<00:37, 19.00it/s]"
          ]
        },
        {
          "name": "stdout",
          "output_type": "stream",
          "text": [
            "{'eval_loss': 0.38429969549179077, 'eval_accuracy': 0.846131215063254, 'eval_f1_score': 0.596637359247262, 'eval_runtime': 1.3056, 'eval_samples_per_second': 1183.345, 'eval_steps_per_second': 74.294, 'epoch': 23.13}\n"
          ]
        },
        {
          "name": "stderr",
          "output_type": "stream",
          "text": [
            " 93%|█████████▎| 9000/9675 [06:03<00:14, 45.42it/s]"
          ]
        },
        {
          "name": "stdout",
          "output_type": "stream",
          "text": [
            "{'loss': 0.2518, 'grad_norm': 0.5926707983016968, 'learning_rate': 6.976744186046511e-05, 'epoch': 23.26}\n"
          ]
        },
        {
          "name": "stderr",
          "output_type": "stream",
          "text": [
            "                                                   \n",
            " 93%|█████████▎| 9004/9675 [06:04<00:50, 13.21it/s]"
          ]
        },
        {
          "name": "stdout",
          "output_type": "stream",
          "text": [
            "{'eval_loss': 0.3908931612968445, 'eval_accuracy': 0.8443659899970579, 'eval_f1_score': 0.5959981670994349, 'eval_runtime': 1.4807, 'eval_samples_per_second': 1043.429, 'eval_steps_per_second': 65.51, 'epoch': 23.26}\n"
          ]
        },
        {
          "name": "stderr",
          "output_type": "stream",
          "text": [
            " 94%|█████████▎| 9050/9675 [06:05<00:13, 45.14it/s]"
          ]
        },
        {
          "name": "stdout",
          "output_type": "stream",
          "text": [
            "{'loss': 0.2444, 'grad_norm': 0.43514207005500793, 'learning_rate': 6.459948320413436e-05, 'epoch': 23.39}\n"
          ]
        },
        {
          "name": "stderr",
          "output_type": "stream",
          "text": [
            "                                                   \n",
            " 94%|█████████▎| 9065/9675 [06:06<00:30, 20.15it/s]"
          ]
        },
        {
          "name": "stdout",
          "output_type": "stream",
          "text": [
            "{'eval_loss': 0.3913435935974121, 'eval_accuracy': 0.8441894674904383, 'eval_f1_score': 0.5924899969221299, 'eval_runtime': 1.3184, 'eval_samples_per_second': 1171.902, 'eval_steps_per_second': 73.576, 'epoch': 23.39}\n"
          ]
        },
        {
          "name": "stderr",
          "output_type": "stream",
          "text": [
            " 94%|█████████▍| 9100/9675 [06:07<00:12, 46.84it/s]"
          ]
        },
        {
          "name": "stdout",
          "output_type": "stream",
          "text": [
            "{'loss': 0.2485, 'grad_norm': 0.4836772680282593, 'learning_rate': 5.943152454780362e-05, 'epoch': 23.51}\n"
          ]
        },
        {
          "name": "stderr",
          "output_type": "stream",
          "text": [
            "                                                   \n",
            " 94%|█████████▍| 9107/9675 [06:08<00:39, 14.36it/s]"
          ]
        },
        {
          "name": "stdout",
          "output_type": "stream",
          "text": [
            "{'eval_loss': 0.3857501745223999, 'eval_accuracy': 0.844777875845837, 'eval_f1_score': 0.5952746241178275, 'eval_runtime': 1.3344, 'eval_samples_per_second': 1157.781, 'eval_steps_per_second': 72.689, 'epoch': 23.51}\n"
          ]
        },
        {
          "name": "stderr",
          "output_type": "stream",
          "text": [
            " 95%|█████████▍| 9150/9675 [06:09<00:11, 45.14it/s]"
          ]
        },
        {
          "name": "stdout",
          "output_type": "stream",
          "text": [
            "{'loss': 0.2507, 'grad_norm': 0.6326003670692444, 'learning_rate': 5.426356589147287e-05, 'epoch': 23.64}\n"
          ]
        },
        {
          "name": "stderr",
          "output_type": "stream",
          "text": [
            "                                                   \n",
            " 95%|█████████▍| 9157/9675 [06:10<00:33, 15.38it/s]"
          ]
        },
        {
          "name": "stdout",
          "output_type": "stream",
          "text": [
            "{'eval_loss': 0.38886794447898865, 'eval_accuracy': 0.8448367166813768, 'eval_f1_score': 0.5942452685028466, 'eval_runtime': 1.2394, 'eval_samples_per_second': 1246.565, 'eval_steps_per_second': 78.263, 'epoch': 23.64}\n"
          ]
        },
        {
          "name": "stderr",
          "output_type": "stream",
          "text": [
            " 95%|█████████▌| 9200/9675 [06:11<00:11, 41.40it/s]"
          ]
        },
        {
          "name": "stdout",
          "output_type": "stream",
          "text": [
            "{'loss': 0.2432, 'grad_norm': 0.6809834241867065, 'learning_rate': 4.9095607235142123e-05, 'epoch': 23.77}\n"
          ]
        },
        {
          "name": "stderr",
          "output_type": "stream",
          "text": [
            "                                                   \n",
            " 95%|█████████▌| 9209/9675 [06:12<00:25, 18.52it/s]"
          ]
        },
        {
          "name": "stdout",
          "output_type": "stream",
          "text": [
            "{'eval_loss': 0.39008209109306335, 'eval_accuracy': 0.8448367166813768, 'eval_f1_score': 0.5941203632445744, 'eval_runtime': 1.3831, 'eval_samples_per_second': 1117.068, 'eval_steps_per_second': 70.133, 'epoch': 23.77}\n"
          ]
        },
        {
          "name": "stderr",
          "output_type": "stream",
          "text": [
            " 96%|█████████▌| 9250/9675 [06:13<00:10, 41.70it/s]"
          ]
        },
        {
          "name": "stdout",
          "output_type": "stream",
          "text": [
            "{'loss': 0.2537, 'grad_norm': 0.41794925928115845, 'learning_rate': 4.3927648578811366e-05, 'epoch': 23.9}\n"
          ]
        },
        {
          "name": "stderr",
          "output_type": "stream",
          "text": [
            "                                                   \n",
            " 96%|█████████▌| 9259/9675 [06:14<00:21, 19.52it/s]"
          ]
        },
        {
          "name": "stdout",
          "output_type": "stream",
          "text": [
            "{'eval_loss': 0.3925524353981018, 'eval_accuracy': 0.8446601941747572, 'eval_f1_score': 0.5982958003651856, 'eval_runtime': 1.2634, 'eval_samples_per_second': 1222.895, 'eval_steps_per_second': 76.777, 'epoch': 23.9}\n"
          ]
        },
        {
          "name": "stderr",
          "output_type": "stream",
          "text": [
            " 96%|█████████▌| 9300/9675 [06:15<00:08, 45.92it/s]"
          ]
        },
        {
          "name": "stdout",
          "output_type": "stream",
          "text": [
            "{'loss': 0.2506, 'grad_norm': 0.4185306429862976, 'learning_rate': 3.875968992248062e-05, 'epoch': 24.03}\n"
          ]
        },
        {
          "name": "stderr",
          "output_type": "stream",
          "text": [
            "                                                   \n",
            " 96%|█████████▌| 9309/9675 [06:16<00:19, 19.15it/s]"
          ]
        },
        {
          "name": "stdout",
          "output_type": "stream",
          "text": [
            "{'eval_loss': 0.3934503197669983, 'eval_accuracy': 0.846131215063254, 'eval_f1_score': 0.5972585861697213, 'eval_runtime': 1.3455, 'eval_samples_per_second': 1148.303, 'eval_steps_per_second': 72.094, 'epoch': 24.03}\n"
          ]
        },
        {
          "name": "stderr",
          "output_type": "stream",
          "text": [
            " 97%|█████████▋| 9350/9675 [06:17<00:06, 51.22it/s]"
          ]
        },
        {
          "name": "stdout",
          "output_type": "stream",
          "text": [
            "{'loss': 0.2382, 'grad_norm': 0.4474044740200043, 'learning_rate': 3.359173126614987e-05, 'epoch': 24.16}\n"
          ]
        },
        {
          "name": "stderr",
          "output_type": "stream",
          "text": [
            "                                                   \n",
            " 97%|█████████▋| 9357/9675 [06:18<00:21, 14.96it/s]"
          ]
        },
        {
          "name": "stdout",
          "output_type": "stream",
          "text": [
            "{'eval_loss': 0.39146360754966736, 'eval_accuracy': 0.8444248308325978, 'eval_f1_score': 0.5905853205326727, 'eval_runtime': 1.3162, 'eval_samples_per_second': 1173.865, 'eval_steps_per_second': 73.699, 'epoch': 24.16}\n"
          ]
        },
        {
          "name": "stderr",
          "output_type": "stream",
          "text": [
            " 97%|█████████▋| 9400/9675 [06:19<00:05, 46.25it/s]"
          ]
        },
        {
          "name": "stdout",
          "output_type": "stream",
          "text": [
            "{'loss': 0.2534, 'grad_norm': 0.5385685563087463, 'learning_rate': 2.842377260981912e-05, 'epoch': 24.29}\n"
          ]
        },
        {
          "name": "stderr",
          "output_type": "stream",
          "text": [
            "                                                   \n",
            " 97%|█████████▋| 9407/9675 [06:20<00:17, 14.98it/s]"
          ]
        },
        {
          "name": "stdout",
          "output_type": "stream",
          "text": [
            "{'eval_loss': 0.38648006319999695, 'eval_accuracy': 0.8456604883789349, 'eval_f1_score': 0.5956528441498381, 'eval_runtime': 1.2466, 'eval_samples_per_second': 1239.416, 'eval_steps_per_second': 77.814, 'epoch': 24.29}\n"
          ]
        },
        {
          "name": "stderr",
          "output_type": "stream",
          "text": [
            " 98%|█████████▊| 9450/9675 [06:21<00:05, 43.39it/s]"
          ]
        },
        {
          "name": "stdout",
          "output_type": "stream",
          "text": [
            "{'loss': 0.2369, 'grad_norm': 0.3154454231262207, 'learning_rate': 2.325581395348837e-05, 'epoch': 24.42}\n"
          ]
        },
        {
          "name": "stderr",
          "output_type": "stream",
          "text": [
            "                                                   \n",
            " 98%|█████████▊| 9463/9675 [06:22<00:11, 18.13it/s]"
          ]
        },
        {
          "name": "stdout",
          "output_type": "stream",
          "text": [
            "{'eval_loss': 0.38467326760292053, 'eval_accuracy': 0.8450720800235363, 'eval_f1_score': 0.5922254917144184, 'eval_runtime': 1.3738, 'eval_samples_per_second': 1124.64, 'eval_steps_per_second': 70.608, 'epoch': 24.42}\n"
          ]
        },
        {
          "name": "stderr",
          "output_type": "stream",
          "text": [
            " 98%|█████████▊| 9500/9675 [06:23<00:03, 45.54it/s]"
          ]
        },
        {
          "name": "stdout",
          "output_type": "stream",
          "text": [
            "{'loss': 0.2393, 'grad_norm': 0.4866786003112793, 'learning_rate': 1.808785529715762e-05, 'epoch': 24.55}\n"
          ]
        },
        {
          "name": "stderr",
          "output_type": "stream",
          "text": [
            "                                                   \n",
            " 98%|█████████▊| 9505/9675 [06:24<00:12, 13.95it/s]"
          ]
        },
        {
          "name": "stdout",
          "output_type": "stream",
          "text": [
            "{'eval_loss': 0.39031970500946045, 'eval_accuracy': 0.8446601941747572, 'eval_f1_score': 0.5949677815280761, 'eval_runtime': 1.3948, 'eval_samples_per_second': 1107.703, 'eval_steps_per_second': 69.545, 'epoch': 24.55}\n"
          ]
        },
        {
          "name": "stderr",
          "output_type": "stream",
          "text": [
            " 99%|█████████▊| 9550/9675 [06:25<00:03, 41.21it/s]"
          ]
        },
        {
          "name": "stdout",
          "output_type": "stream",
          "text": [
            "{'loss': 0.2545, 'grad_norm': 0.36317014694213867, 'learning_rate': 1.2919896640826873e-05, 'epoch': 24.68}\n"
          ]
        },
        {
          "name": "stderr",
          "output_type": "stream",
          "text": [
            "                                                   \n",
            " 99%|█████████▉| 9561/9675 [06:26<00:06, 17.61it/s]"
          ]
        },
        {
          "name": "stdout",
          "output_type": "stream",
          "text": [
            "{'eval_loss': 0.3879663944244385, 'eval_accuracy': 0.8450720800235363, 'eval_f1_score': 0.5942364000616428, 'eval_runtime': 1.373, 'eval_samples_per_second': 1125.289, 'eval_steps_per_second': 70.649, 'epoch': 24.68}\n"
          ]
        },
        {
          "name": "stderr",
          "output_type": "stream",
          "text": [
            " 99%|█████████▉| 9600/9675 [06:27<00:01, 47.75it/s]"
          ]
        },
        {
          "name": "stdout",
          "output_type": "stream",
          "text": [
            "{'loss': 0.2571, 'grad_norm': 0.3666243255138397, 'learning_rate': 7.751937984496124e-06, 'epoch': 24.81}\n"
          ]
        },
        {
          "name": "stderr",
          "output_type": "stream",
          "text": [
            "                                                   \n",
            " 99%|█████████▉| 9608/9675 [06:28<00:04, 14.04it/s]"
          ]
        },
        {
          "name": "stdout",
          "output_type": "stream",
          "text": [
            "{'eval_loss': 0.3894602358341217, 'eval_accuracy': 0.8453074433656957, 'eval_f1_score': 0.5929710481498685, 'eval_runtime': 1.3268, 'eval_samples_per_second': 1164.43, 'eval_steps_per_second': 73.107, 'epoch': 24.81}\n"
          ]
        },
        {
          "name": "stderr",
          "output_type": "stream",
          "text": [
            "100%|█████████▉| 9650/9675 [06:29<00:00, 39.73it/s]"
          ]
        },
        {
          "name": "stdout",
          "output_type": "stream",
          "text": [
            "{'loss': 0.2483, 'grad_norm': 0.6326441168785095, 'learning_rate': 2.583979328165375e-06, 'epoch': 24.94}\n"
          ]
        },
        {
          "name": "stderr",
          "output_type": "stream",
          "text": [
            "                                                   \n",
            "100%|█████████▉| 9662/9675 [06:31<00:00, 18.47it/s]"
          ]
        },
        {
          "name": "stdout",
          "output_type": "stream",
          "text": [
            "{'eval_loss': 0.39136895537376404, 'eval_accuracy': 0.8447190350102971, 'eval_f1_score': 0.5975293579380815, 'eval_runtime': 1.2255, 'eval_samples_per_second': 1260.725, 'eval_steps_per_second': 79.152, 'epoch': 24.94}\n"
          ]
        },
        {
          "name": "stderr",
          "output_type": "stream",
          "text": [
            "100%|██████████| 9675/9675 [06:31<00:00, 24.73it/s]"
          ]
        },
        {
          "name": "stdout",
          "output_type": "stream",
          "text": [
            "{'train_runtime': 391.893, 'train_samples_per_second': 394.176, 'train_steps_per_second': 24.688, 'train_loss': 0.3026781928878114, 'epoch': 25.0}\n"
          ]
        },
        {
          "name": "stderr",
          "output_type": "stream",
          "text": [
            "\n"
          ]
        },
        {
          "data": {
            "text/plain": [
              "TrainOutput(global_step=9675, training_loss=0.3026781928878114, metrics={'train_runtime': 391.893, 'train_samples_per_second': 394.176, 'train_steps_per_second': 24.688, 'total_flos': 11827664987400.0, 'train_loss': 0.3026781928878114, 'epoch': 25.0})"
            ]
          },
          "execution_count": 54,
          "metadata": {},
          "output_type": "execute_result"
        }
      ],
      "source": [
        "# Start training and log to WandB\n",
        "trainer.train()"
      ]
    },
    {
      "cell_type": "code",
      "execution_count": null,
      "id": "d9621625-1575-4c0c-9aaa-63aa338998f1",
      "metadata": {
        "id": "d9621625-1575-4c0c-9aaa-63aa338998f1",
        "outputId": "093b76ca-7316-4983-a391-1c441149b2b6"
      },
      "outputs": [
        {
          "name": "stderr",
          "output_type": "stream",
          "text": [
            "100%|██████████| 97/97 [00:01<00:00, 71.53it/s] \n"
          ]
        },
        {
          "data": {
            "text/plain": [
              "{'eval_loss': 0.3856670558452606,\n",
              " 'eval_accuracy': 0.8461900558987938,\n",
              " 'eval_f1_score': 0.6007941356139279,\n",
              " 'eval_runtime': 1.3636,\n",
              " 'eval_samples_per_second': 1133.066,\n",
              " 'eval_steps_per_second': 71.138,\n",
              " 'epoch': 25.0}"
            ]
          },
          "execution_count": 55,
          "metadata": {},
          "output_type": "execute_result"
        }
      ],
      "source": [
        "trainer.evaluate()"
      ]
    },
    {
      "cell_type": "markdown",
      "id": "4725d78d-2bdd-4abe-9422-16ac3fb074e1",
      "metadata": {
        "id": "4725d78d-2bdd-4abe-9422-16ac3fb074e1"
      },
      "source": [
        "### Step 8: Confusion Matrix"
      ]
    },
    {
      "cell_type": "code",
      "execution_count": null,
      "id": "75450084-cedc-42c7-8275-cc9bf3eb205a",
      "metadata": {
        "id": "75450084-cedc-42c7-8275-cc9bf3eb205a",
        "outputId": "9179522d-5d20-4eac-e853-b46daa504d6f"
      },
      "outputs": [
        {
          "name": "stderr",
          "output_type": "stream",
          "text": [
            "100%|██████████| 97/97 [00:01<00:00, 69.79it/s] \n"
          ]
        }
      ],
      "source": [
        "# Predict using the validation set\n",
        "valid_output = trainer.predict(hf_test_set)  # Replace 'validset' with the actual valid dataset variable"
      ]
    },
    {
      "cell_type": "code",
      "execution_count": null,
      "id": "d5d3289b-3605-4ade-ba0a-6ffbd7a81455",
      "metadata": {
        "id": "d5d3289b-3605-4ade-ba0a-6ffbd7a81455",
        "outputId": "4e12f19e-5427-4563-b1bb-be737d40a84a"
      },
      "outputs": [
        {
          "name": "stdout",
          "output_type": "stream",
          "text": [
            "('predictions', 'label_ids', 'metrics')\n"
          ]
        }
      ],
      "source": [
        "print(valid_output._fields)"
      ]
    },
    {
      "cell_type": "code",
      "execution_count": null,
      "id": "ad7c68a4-1587-456c-bc1e-6a9528eea8c5",
      "metadata": {
        "id": "ad7c68a4-1587-456c-bc1e-6a9528eea8c5"
      },
      "outputs": [],
      "source": [
        "# For multi-label classification, use sigmoid and threshold the predictions\n",
        "valid_preds = (torch.sigmoid(torch.tensor(valid_output.predictions)) > 0.5).int().numpy()\n",
        "\n",
        "# Extract the actual labels (if available)\n",
        "valid_labels = np.array(valid_output.label_ids)  # Only if ground truth labels are available"
      ]
    },
    {
      "cell_type": "code",
      "execution_count": null,
      "id": "ea0f68b9-b312-4f88-ab27-2a77ea1afea3",
      "metadata": {
        "id": "ea0f68b9-b312-4f88-ab27-2a77ea1afea3"
      },
      "outputs": [],
      "source": [
        "import matplotlib.pyplot as plt\n",
        "import seaborn as sns\n",
        "from sklearn.metrics import multilabel_confusion_matrix\n",
        "\n",
        "def plot_confusion_matrix(valid_labels, valid_preds, class_labels):\n",
        "    \"\"\"\n",
        "    Plots confusion matrices for each emotion (multi-label classification).\n",
        "\n",
        "    Args:\n",
        "        valid_labels (array-like): True labels of the validation data.\n",
        "        valid_preds (array-like): Predicted labels of the validation data.\n",
        "        class_labels (list): List of class names for the labels (from `my_config.id2label.values()`).\n",
        "    \"\"\"\n",
        "    # Compute the confusion matrix for each label\n",
        "    confusion_matrices = multilabel_confusion_matrix(valid_labels, valid_preds)\n",
        "\n",
        "    # Plot confusion matrix for each class\n",
        "    fig, axes = plt.subplots(3, 4, figsize=(15, 10))  # Adjust based on the number of labels (11 classes)\n",
        "    axes = axes.flatten()\n",
        "\n",
        "    for i, cm in enumerate(confusion_matrices):\n",
        "        sns.heatmap(cm, annot=True, fmt=\"d\", cmap=\"Blues\", ax=axes[i])\n",
        "        axes[i].set_title(f'Confusion Matrix: {class_labels[i]}')\n",
        "        axes[i].set_xlabel('Predicted')\n",
        "        axes[i].set_ylabel('True')\n",
        "\n",
        "    # Adjust layout\n",
        "    plt.tight_layout()\n",
        "    plt.show()\n"
      ]
    },
    {
      "cell_type": "code",
      "execution_count": null,
      "id": "e4025bb2-5a1c-4e9c-b53a-9e38cca6953f",
      "metadata": {
        "id": "e4025bb2-5a1c-4e9c-b53a-9e38cca6953f",
        "outputId": "4b5cb1ff-81de-48fa-a621-0d59c421da74"
      },
      "outputs": [
        {
          "data": {
            "image/png": "[encoded data removed]",
            "text/plain": [
              "<Figure size 1500x1000 with 23 Axes>"
            ]
          },
          "metadata": {},
          "output_type": "display_data"
        }
      ],
      "source": [
        "# Use class labels from my_config.id2label\n",
        "plot_confusion_matrix(valid_labels,\n",
        "                      valid_preds,\n",
        "                      class_labels=list(my_config.id2label.values()))"
      ]
    },
    {
      "cell_type": "code",
      "execution_count": null,
      "id": "52f6b113-68fa-49a7-a133-bee6318191ff",
      "metadata": {
        "id": "52f6b113-68fa-49a7-a133-bee6318191ff"
      },
      "outputs": [],
      "source": [
        "# Import necessary libraries\n",
        "import wandb\n",
        "import numpy as np\n",
        "from sklearn.metrics import confusion_matrix\n",
        "\n",
        "# Log each confusion matrix separately for multi-label classification\n",
        "for i, class_name in enumerate(list(my_config.id2label.values())):\n",
        "    cm = confusion_matrix(valid_labels[:, i], valid_preds[:, i])  # Confusion matrix for each label\n",
        "    cm_plot = sns.heatmap(cm, annot=True, fmt=\"d\", cmap=\"Blues\").get_figure()\n",
        "\n",
        "    # Log the confusion matrix plot to WandB for each class\n",
        "    wandb.log({f\"conf_matrix_{class_name}\": wandb.Image(cm_plot)})\n",
        "\n",
        "    # Close the figure to avoid overlap\n",
        "    plt.close(cm_plot)\n"
      ]
    },
    {
      "cell_type": "markdown",
      "id": "535c5243-8a5a-4ff9-805c-39376e00b008",
      "metadata": {
        "id": "535c5243-8a5a-4ff9-805c-39376e00b008"
      },
      "source": [
        "#### Best CheckPoint"
      ]
    },
    {
      "cell_type": "code",
      "execution_count": null,
      "id": "1b1355cf-80a0-4883-806f-eef2f5756015",
      "metadata": {
        "id": "1b1355cf-80a0-4883-806f-eef2f5756015",
        "outputId": "f394dae9-6b2f-4852-b061-038f07acb673"
      },
      "outputs": [
        {
          "name": "stdout",
          "output_type": "stream",
          "text": [
            "The best model was saved at step 8600.\n"
          ]
        }
      ],
      "source": [
        "# Check the best checkpoint saved during training\n",
        "best_model_checkpoint_step = trainer.state.best_model_checkpoint.split('-')[-1]\n",
        "print(f\"The best model was saved at step {best_model_checkpoint_step}.\")\n"
      ]
    },
    {
      "cell_type": "code",
      "execution_count": null,
      "id": "884a5032-6b43-401c-aaf0-665aac3692f2",
      "metadata": {
        "id": "884a5032-6b43-401c-aaf0-665aac3692f2",
        "outputId": "393d8491-d98b-4baa-ddaa-cfdebd605e07"
      },
      "outputs": [
        {
          "data": {
            "text/html": [
              "<style>\n",
              "    table.wandb td:nth-child(1) { padding: 0 10px; text-align: left ; width: auto;} td:nth-child(2) {text-align: left ; width: 100%}\n",
              "    .wandb-row { display: flex; flex-direction: row; flex-wrap: wrap; justify-content: flex-start; width: 100% }\n",
              "    .wandb-col { display: flex; flex-direction: column; flex-basis: 100%; flex: 1; padding: 10px; }\n",
              "    </style>\n",
              "<div class=\"wandb-row\"><div class=\"wandb-col\"><h3>Run history:</h3><br/><table class=\"wandb\"><tr><td>eval/accuracy</td><td>▁▂▃▄▄▄▆▇▇█▇████████▇████████████████████</td></tr><tr><td>eval/f1_score</td><td>▁▁▁▅▆▆▆▆▇▇▇▇▇██████▇████████████████████</td></tr><tr><td>eval/loss</td><td>█▅▄▄▃▂▂▂▂▁▁▁▁▁▁▁▁▁▁▁▁▁▁▂▁▂▂▂▂▂▂▂▂▂▂▂▂▂▂▂</td></tr><tr><td>eval/runtime</td><td>█▅▅▆▄▁▅▃▅▄▁▄▃▄▄▄▃▂▁▃▂▄▃▃▄▂▇▂▃▆▁▃▅▄▄▃▁▄▁▃</td></tr><tr><td>eval/samples_per_second</td><td>▃▆▃▃▄▃▆▄▇▄▃▄▅▅▆▇▇█▅▅▆▃▅█▇▄▅▄▆▇▁▄▂▅▅▅▇▅█▄</td></tr><tr><td>eval/steps_per_second</td><td>▅▅▇▄▇▆▄▆▄▅▇▄▅▅▆▆▄█▅▄▇▂▆▇▇▆▇▄▆▁▆▃▆▃▇▇▅▇▅▇</td></tr><tr><td>test/accuracy</td><td>▁</td></tr><tr><td>test/f1_score</td><td>▁</td></tr><tr><td>test/loss</td><td>▁</td></tr><tr><td>test/runtime</td><td>▁</td></tr><tr><td>test/samples_per_second</td><td>▁</td></tr><tr><td>test/steps_per_second</td><td>▁</td></tr><tr><td>train/epoch</td><td>▁▁▁▂▂▂▂▂▂▃▃▃▃▃▃▄▄▄▄▄▅▅▅▅▅▆▆▆▆▆▆▆▆▆▆▇▇▇██</td></tr><tr><td>train/global_step</td><td>▁▁▁▁▂▂▂▂▂▃▃▃▃▃▃▃▃▄▄▄▄▅▅▅▅▅▅▆▆▆▇▇▇▇▇█████</td></tr><tr><td>train/grad_norm</td><td>▇▅▆▃▄▃▄▃▆▄▂▃▁▄▃▂▃▄█▄▃▄▂▂▄▃▅▄▂▃▄▃▃▃▂▂▃▄▁▅</td></tr><tr><td>train/learning_rate</td><td>████▇▇▇▇▆▆▆▆▆▅▅▅▅▅▄▄▄▄▄▄▄▄▃▃▃▃▃▃▂▂▂▁▁▁▁▁</td></tr><tr><td>train/loss</td><td>██▇▆▇▇▆▅▅▆▄▄▄▄▃▃▃▃▂▃▂▃▂▃▃▃▃▂▁▁▂▁▁▁▁▁▁▁▁▁</td></tr></table><br/></div><div class=\"wandb-col\"><h3>Run summary:</h3><br/><table class=\"wandb\"><tr><td>eval/accuracy</td><td>0.84619</td></tr><tr><td>eval/f1_score</td><td>0.60079</td></tr><tr><td>eval/loss</td><td>0.38567</td></tr><tr><td>eval/runtime</td><td>1.3636</td></tr><tr><td>eval/samples_per_second</td><td>1133.066</td></tr><tr><td>eval/steps_per_second</td><td>71.138</td></tr><tr><td>test/accuracy</td><td>0.84619</td></tr><tr><td>test/f1_score</td><td>0.60079</td></tr><tr><td>test/loss</td><td>0.38567</td></tr><tr><td>test/runtime</td><td>1.4455</td></tr><tr><td>test/samples_per_second</td><td>1068.828</td></tr><tr><td>test/steps_per_second</td><td>67.104</td></tr><tr><td>total_flos</td><td>11827664987400.0</td></tr><tr><td>train/epoch</td><td>25</td></tr><tr><td>train/global_step</td><td>9675</td></tr><tr><td>train/grad_norm</td><td>0.63264</td></tr><tr><td>train/learning_rate</td><td>0.0</td></tr><tr><td>train/loss</td><td>0.2483</td></tr><tr><td>train_loss</td><td>0.30268</td></tr><tr><td>train_runtime</td><td>391.893</td></tr><tr><td>train_samples_per_second</td><td>394.176</td></tr><tr><td>train_steps_per_second</td><td>24.688</td></tr></table><br/></div></div>"
            ],
            "text/plain": [
              "<IPython.core.display.HTML object>"
            ]
          },
          "metadata": {},
          "output_type": "display_data"
        },
        {
          "data": {
            "text/html": [
              " View run <strong style=\"color:#cdcd00\">emotion_detection_trainer</strong> at: <a href='https://wandb.ai/shobhit-pachauri-university-of-texas-at-dallas/emotion_detection_fall_2024/runs/iite4zeo' target=\"_blank\">https://wandb.ai/shobhit-pachauri-university-of-texas-at-dallas/emotion_detection_fall_2024/runs/iite4zeo</a><br/> View project at: <a href='https://wandb.ai/shobhit-pachauri-university-of-texas-at-dallas/emotion_detection_fall_2024' target=\"_blank\">https://wandb.ai/shobhit-pachauri-university-of-texas-at-dallas/emotion_detection_fall_2024</a><br/>Synced 5 W&B file(s), 0 media file(s), 0 artifact file(s) and 11 other file(s)"
            ],
            "text/plain": [
              "<IPython.core.display.HTML object>"
            ]
          },
          "metadata": {},
          "output_type": "display_data"
        },
        {
          "data": {
            "text/html": [
              "Find logs at: <code>.\\wandb\\run-20241005_175151-iite4zeo\\logs</code>"
            ],
            "text/plain": [
              "<IPython.core.display.HTML object>"
            ]
          },
          "metadata": {},
          "output_type": "display_data"
        }
      ],
      "source": [
        "wandb.finish()"
      ]
    },
    {
      "cell_type": "markdown",
      "id": "676aa9f4-454e-41c6-bbfb-55fa3755bf18",
      "metadata": {
        "id": "676aa9f4-454e-41c6-bbfb-55fa3755bf18"
      },
      "source": [
        "### Step 9: Performance on the Test Set"
      ]
    },
    {
      "cell_type": "markdown",
      "id": "d69df15c-0f59-4ba1-ba2b-bac44709637f",
      "metadata": {
        "id": "d69df15c-0f59-4ba1-ba2b-bac44709637f"
      },
      "source": [
        "#### Load Model From Checkpoint"
      ]
    },
    {
      "cell_type": "code",
      "execution_count": null,
      "id": "94e9bd99-39f6-4b5a-aee8-f38bde308e79",
      "metadata": {
        "id": "94e9bd99-39f6-4b5a-aee8-f38bde308e79",
        "outputId": "3146c965-3694-400a-91bc-436d2f5c09db"
      },
      "outputs": [
        {
          "name": "stdout",
          "output_type": "stream",
          "text": [
            "Model loaded successfully!\n",
            "CustomMLP(\n",
            "  (embedding_bag): EmbeddingBag(4988, 300, mode='mean')\n",
            "  (layers): Sequential(\n",
            "    (0): Linear(in_features=300, out_features=200, bias=True)\n",
            "    (1): BatchNorm1d(200, eps=1e-05, momentum=0.1, affine=True, track_running_stats=True)\n",
            "    (2): ReLU()\n",
            "    (3): Dropout(p=0.5, inplace=False)\n",
            "    (4): Linear(in_features=200, out_features=100, bias=True)\n",
            "    (5): BatchNorm1d(100, eps=1e-05, momentum=0.1, affine=True, track_running_stats=True)\n",
            "    (6): ReLU()\n",
            "    (7): Dropout(p=0.5, inplace=False)\n",
            "    (8): Linear(in_features=100, out_features=11, bias=True)\n",
            "  )\n",
            ")\n"
          ]
        }
      ],
      "source": [
        "from pathlib import Path\n",
        "import torch\n",
        "\n",
        "# Define the base path and checkpoint folder in emotion_results\n",
        "emotion_results_folder = Path(basepath) / 'emotion_results'\n",
        "\n",
        "# Assuming the best checkpoint step is 8600\n",
        "best_model_checkpoint_step = 8600\n",
        "\n",
        "# Define the path to the best model checkpoint inside the emotion_results folder\n",
        "model_checkpoint = emotion_results_folder / f'checkpoint-{best_model_checkpoint_step}'\n",
        "\n",
        "# Check if the checkpoint folder exists\n",
        "if not model_checkpoint.exists():\n",
        "    raise FileNotFoundError(f\"Checkpoint directory does not exist: {model_checkpoint}\")\n",
        "\n",
        "# Convert to string if required (since 'from_pretrained()' expects a string path)\n",
        "model_checkpoint = str(model_checkpoint)\n",
        "\n",
        "# Instantiate the CustomMLP model with predefined configurations\n",
        "model = CustomMLP(my_config)\n",
        "\n",
        "# Use from_pretrained() to load the weights from the specified checkpoint directory\n",
        "model = model.from_pretrained(model_checkpoint, config=my_config, local_files_only=True)\n",
        "\n",
        "# Move the model to the appropriate device (CPU or GPU)\n",
        "device = 'cuda' if torch.cuda.is_available() else 'cpu'\n",
        "model.to(device)\n",
        "\n",
        "# Put the model in evaluation mode\n",
        "model.eval()\n",
        "\n",
        "# Display the loaded model\n",
        "print(\"Model loaded successfully!\")\n",
        "print(model)\n"
      ]
    },
    {
      "cell_type": "markdown",
      "id": "e1c62ce7-86d8-48cc-82a7-058ec5829785",
      "metadata": {
        "id": "e1c62ce7-86d8-48cc-82a7-058ec5829785"
      },
      "source": [
        "#### Instantiate Trainer for Evaluation"
      ]
    },
    {
      "cell_type": "code",
      "execution_count": null,
      "id": "74077b42-c6ca-4a13-843f-cb3ab518462e",
      "metadata": {
        "id": "74077b42-c6ca-4a13-843f-cb3ab518462e"
      },
      "outputs": [],
      "source": [
        "import torch\n",
        "\n",
        "def collate_batch(batch, my_vocab):\n",
        "    \"\"\"\n",
        "    Prepares a batch of data by transforming texts into indices based on a vocabulary and\n",
        "    converting labels into a tensor (if labels exist).\n",
        "\n",
        "    Args:\n",
        "        batch (list of dict): A batch of data where each element is a dictionary with keys\n",
        "                              'labels' (if available) and 'Cleaned_Reviews' (the tweets).\n",
        "        my_vocab (Vocab): The vocabulary object that maps tokens to indices.\n",
        "\n",
        "    Returns:\n",
        "        dict: A dictionary with two or three keys:\n",
        "              - 'input_ids': A tensor containing concatenated indices of the texts.\n",
        "              - 'offsets': A tensor representing the starting index of each text in 'input_ids'.\n",
        "              - 'labels': A tensor of the labels for each text in the batch (if available).\n",
        "    \"\"\"\n",
        "\n",
        "    # Extract texts (tweets) from the batch\n",
        "    texts = [sample['Cleaned_Reviews'] for sample in batch]  # Texts (tweets)\n",
        "\n",
        "    # Convert the list of texts into a list of token indices using the tokenizer\n",
        "    list_of_list_of_indices = [tokenizer(text, my_vocab) for text in texts]\n",
        "\n",
        "    # Concatenate all token indices into a single tensor (input_ids)\n",
        "    input_ids = torch.cat([torch.tensor(i, dtype=torch.int64) for i in list_of_list_of_indices])\n",
        "\n",
        "    # Compute the offsets for each text in the concatenated tensor\n",
        "    offsets = [0] + [len(i) for i in list_of_list_of_indices]\n",
        "    offsets = torch.tensor(offsets[:-1]).cumsum(dim=0)\n",
        "\n",
        "    # Check if the labels exist in the batch (for labelled datasets)\n",
        "    if 'labels' in batch[0]:\n",
        "        # Extract labels from the batch (multi-labels)\n",
        "        labels = [sample['labels'] for sample in batch]\n",
        "        # Convert the list of labels into a tensor (dtype float32 for multi-label classification)\n",
        "        labels = torch.tensor(labels, dtype=torch.float32)\n",
        "        return {\n",
        "            'input_ids': input_ids,  # Flattened input tokens\n",
        "            'offsets': offsets,      # Offsets to keep track of the start of each tweet\n",
        "            'labels': labels         # Multi-labels (emotion binary vectors)\n",
        "        }\n",
        "\n",
        "    # If no labels are available (for unlabelled data)\n",
        "    return {\n",
        "        'input_ids': input_ids,  # Flattened input tokens\n",
        "        'offsets': offsets       # Offsets to keep track of the start of each tweet\n",
        "    }\n"
      ]
    },
    {
      "cell_type": "code",
      "execution_count": null,
      "id": "cca6f5ca-39eb-461b-b33b-7b7363159e31",
      "metadata": {
        "id": "cca6f5ca-39eb-461b-b33b-7b7363159e31"
      },
      "outputs": [],
      "source": [
        "from functools import partial\n",
        "\n",
        "# Assuming 'emotion_vocab' has been created earlier\n",
        "collate_fn = partial(collate_batch, my_vocab=emotion_vocab)"
      ]
    },
    {
      "cell_type": "code",
      "execution_count": null,
      "id": "737dc585-cb6b-4861-a1bf-04cf70f39471",
      "metadata": {
        "id": "737dc585-cb6b-4861-a1bf-04cf70f39471"
      },
      "outputs": [],
      "source": [
        "from transformers import TrainingArguments\n",
        "\n",
        "# Configure training arguments for model evaluation\n",
        "training_args = TrainingArguments(\n",
        "    output_dir=\"./emotion_results\",  # Directory to save results\n",
        "    per_device_eval_batch_size=16,   # Batch size for evaluation\n",
        "    do_train=False,                  # Skip training\n",
        "    do_eval=True,                    # Only do evaluation\n",
        "    remove_unused_columns=False,     # Retain all columns in the dataset\n",
        "    report_to=[],                    # Disable logging to external services like Weights & Biases\n",
        ")\n"
      ]
    },
    {
      "cell_type": "code",
      "execution_count": null,
      "id": "8a41af1a-bc13-403e-ac12-11e987b882ec",
      "metadata": {
        "id": "8a41af1a-bc13-403e-ac12-11e987b882ec"
      },
      "outputs": [],
      "source": [
        "from transformers import Trainer\n",
        "\n",
        "# Instantiate the Trainer for evaluation\n",
        "trainer = Trainer(\n",
        "    model=model,                   # The loaded model (CustomMLP)\n",
        "    args=training_args,             # The evaluation-specific training arguments\n",
        "    eval_dataset=hf_valid_dataset,  # The validation dataset (unseen data for prediction)\n",
        "    data_collator=collate_fn,       # The custom collate function\n",
        ")\n"
      ]
    },
    {
      "cell_type": "code",
      "execution_count": null,
      "id": "07d0dfd6-957f-41ca-8388-11f811e246ba",
      "metadata": {
        "id": "07d0dfd6-957f-41ca-8388-11f811e246ba",
        "outputId": "0f577083-25b9-4fd3-f050-b77f64b45924"
      },
      "outputs": [
        {
          "name": "stderr",
          "output_type": "stream",
          "text": [
            "100%|██████████| 204/204 [00:00<00:00, 390.45it/s]\n"
          ]
        }
      ],
      "source": [
        "# Make predictions using the validation dataset (unlabelled)\n",
        "valid_output = trainer.predict(hf_valid_dataset)"
      ]
    },
    {
      "cell_type": "code",
      "execution_count": null,
      "id": "c68b5d24-ca65-4a2b-ab0c-077464f44ccb",
      "metadata": {
        "id": "c68b5d24-ca65-4a2b-ab0c-077464f44ccb",
        "outputId": "8529290b-16b2-4388-b20c-8a88175cec5f"
      },
      "outputs": [
        {
          "name": "stdout",
          "output_type": "stream",
          "text": [
            "('predictions', 'label_ids', 'metrics')\n"
          ]
        }
      ],
      "source": [
        "# Check the output fields (e.g., logits and predictions)\n",
        "print(valid_output._fields)  # Shows predictions, labels, and metrics (if applicable)\n"
      ]
    },
    {
      "cell_type": "code",
      "execution_count": null,
      "id": "2128059b-d223-4205-829b-7a8e8e7772ef",
      "metadata": {
        "id": "2128059b-d223-4205-829b-7a8e8e7772ef",
        "outputId": "589fb84a-c5c7-47f0-ee2d-38afd8af7ef7"
      },
      "outputs": [
        {
          "name": "stdout",
          "output_type": "stream",
          "text": [
            "[[1 0 1 1 0 0 0 0 0 0 0]\n",
            " [0 0 0 0 0 0 0 0 0 0 0]\n",
            " [1 0 1 0 0 0 0 0 0 0 0]\n",
            " [1 0 1 0 0 0 0 0 1 0 0]\n",
            " [0 0 0 1 0 0 0 0 0 0 0]]\n"
          ]
        }
      ],
      "source": [
        "import torch\n",
        "\n",
        "# Apply sigmoid activation to logits to get probabilities\n",
        "valid_preds = (torch.sigmoid(torch.tensor(valid_output.predictions)) > 0.5).int().numpy()\n",
        "\n",
        "# Print a few sample predictions (multi-label binary vectors)\n",
        "print(valid_preds[:5])  # First 5 predictions\n"
      ]
    },
    {
      "cell_type": "code",
      "execution_count": null,
      "id": "badbef83-f0fa-4e51-9fda-642e85dd59cf",
      "metadata": {
        "id": "badbef83-f0fa-4e51-9fda-642e85dd59cf",
        "outputId": "e0f2b733-529d-4eef-a119-9fb5c38cdc05"
      },
      "outputs": [
        {
          "name": "stdout",
          "output_type": "stream",
          "text": [
            "[[1 0 1 ... 0 0 0]\n",
            " [0 0 0 ... 0 0 0]\n",
            " [1 0 1 ... 0 0 0]\n",
            " ...\n",
            " [1 0 1 ... 0 0 0]\n",
            " [0 0 0 ... 0 0 0]\n",
            " [0 0 0 ... 0 0 0]]\n"
          ]
        }
      ],
      "source": [
        "print(valid_preds)"
      ]
    },
    {
      "cell_type": "code",
      "execution_count": null,
      "id": "b458e6b2",
      "metadata": {
        "id": "b458e6b2"
      },
      "outputs": [],
      "source": [
        "test_df = pd.read_csv(data_folder/'train.csv')"
      ]
    },
    {
      "cell_type": "code",
      "execution_count": null,
      "id": "1a850d87",
      "metadata": {
        "id": "1a850d87"
      },
      "outputs": [],
      "source": [
        "# Create a DataFrame for the submission\n",
        "submission = pd.DataFrame(valid_preds, columns=['anger', 'anticipation', 'disgust', 'fear', 'joy', 'love', 'optimism', 'pessimism', 'sadness', 'surprise', 'trust'])\n",
        "\n",
        "# Add the tweet IDs to the submission DataFrame\n",
        "submission.insert(0, 'ID', test_df['ID'])  # Adjust 'ID' to your ID column name\n",
        "\n",
        "# Save the submission file\n",
        "submission.to_csv( data_folder / 'submission_file.csv', index=False)  # Update the filename as needed"
      ]
    },
    {
      "cell_type": "code",
      "execution_count": null,
      "id": "46942a89",
      "metadata": {
        "id": "46942a89"
      },
      "outputs": [],
      "source": []
    }
  ],
  "metadata": {
    "kernelspec": {
      "display_name": "Python 3",
      "language": "python",
      "name": "python3"
    },
    "language_info": {
      "codemirror_mode": {
        "name": "ipython",
        "version": 3
      },
      "file_extension": ".py",
      "mimetype": "text/x-python",
      "name": "python",
      "nbconvert_exporter": "python",
      "pygments_lexer": "ipython3",
      "version": "3.11.10"
    },
    "colab": {
      "provenance": [],
      "toc_visible": true,
      "include_colab_link": true
    }
  },
  "nbformat": 4,
  "nbformat_minor": 5
}